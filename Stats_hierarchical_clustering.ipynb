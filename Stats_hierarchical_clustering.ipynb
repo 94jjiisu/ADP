{
 "cells": [
  {
   "cell_type": "markdown",
   "metadata": {
    "id": "vF9B6KdawcAd"
   },
   "source": [
    "데이터는 없습니다.\n",
    "시험시 주어진 데이터에 맞게 변형하여 사용하세요."
   ]
  },
  {
   "cell_type": "markdown",
   "metadata": {
    "id": "fXaTuhWlwjcN"
   },
   "source": [
    "# Elbow methods"
   ]
  },
  {
   "cell_type": "code",
   "execution_count": null,
   "metadata": {
    "id": "xUrOUgSNwV4n"
   },
   "outputs": [],
   "source": [
    "sum_of_squared_distances = []\n",
    "K = range(1, 15)\n",
    "for k in K:\n",
    "    km = KMeans(n_clusters = k)\n",
    "    km = km.fit(points)\n",
    "    sum_of_squared_distances.append(km.inertia_)"
   ]
  },
  {
   "cell_type": "code",
   "execution_count": null,
   "metadata": {
    "id": "cm-IUrslwpva"
   },
   "outputs": [],
   "source": [
    "plt.plot(K, sum_of_squared_distances, 'bx-')\n",
    "plt.xlabel('k')\n",
    "plt.ylabel('Sum_of_squared_distances')\n",
    "plt.title('Elbow Method For Optimal k')\n",
    "plt.show()"
   ]
  },
  {
   "cell_type": "markdown",
   "metadata": {
    "id": "owm7wQGDwq_M"
   },
   "source": [
    "# hierarchical clustering"
   ]
  },
  {
   "cell_type": "code",
   "execution_count": null,
   "metadata": {
    "id": "AXedGjHTwulS"
   },
   "outputs": [],
   "source": [
    "import matplotlib.pyplot as plt\n",
    "from scipy.cluster.hierarchy import linkage, dendrogram\n",
    "\n",
    "linkage_list = ['single', 'complete', 'average', 'centroid', 'ward']\n",
    "data = df_scale\n",
    "\n",
    "fig, axes = plt.subplots(nrows=5, ncols=1, figsize=(16, 35))\n",
    "for i in range(5):\n",
    "  hierarchical_single = linkage(data, method=linkage_list[i])\n",
    "  dn = dendrogram(hierarchical_single, ax = axes[i])\n",
    "  axes[i].title.set_text(linkage_list[i])\n",
    "\n",
    "plt.show()"
   ]
  },
  {
   "cell_type": "code",
   "execution_count": null,
   "metadata": {
    "id": "jIPQZq07wx85"
   },
   "outputs": [],
   "source": [
    "from sklearn.cluster import KMeans\n",
    "\n",
    "def change_n_clusters(n_clusters, data):\n",
    "    sum_of_squared_distance = []\n",
    "    for n_cluster in n_clusters:\n",
    "        kmeans = KMeans(n_clusters=n_cluster)\n",
    "        kmeans.fit(df_scale)\n",
    "        sum_of_squared_distance.append(kmeans.inertia_)\n",
    "        \n",
    "    plt.figure(1 , figsize = (12, 6))\n",
    "    plt.plot(n_clusters , sum_of_squared_distance , 'o')\n",
    "    plt.plot(n_clusters , sum_of_squared_distance , '-' , alpha = 0.5)\n",
    "    plt.xlabel('Number of Clusters')\n",
    "    plt.ylabel('Inertia')"
   ]
  },
  {
   "cell_type": "code",
   "execution_count": null,
   "metadata": {
    "id": "zF2vc4trw1Fs"
   },
   "outputs": [],
   "source": [
    "n_clusters = [2, 3, 4, 5, 6, 7, 8, 9, 10, 11, 12, 13, 14, 15, 16, 17]"
   ]
  },
  {
   "cell_type": "code",
   "execution_count": null,
   "metadata": {
    "id": "T5K0yco5w2EK"
   },
   "outputs": [],
   "source": [
    "change_n_clusters(n_clusters, df_scale)"
   ]
  }
 ],
 "metadata": {
  "colab": {
   "collapsed_sections": [],
   "name": "계층적 군집.ipynb",
   "provenance": []
  },
  "kernelspec": {
   "display_name": "Python 3 (ipykernel)",
   "language": "python",
   "name": "python3"
  },
  "language_info": {
   "codemirror_mode": {
    "name": "ipython",
    "version": 3
   },
   "file_extension": ".py",
   "mimetype": "text/x-python",
   "name": "python",
   "nbconvert_exporter": "python",
   "pygments_lexer": "ipython3",
   "version": "3.9.7"
  }
 },
 "nbformat": 4,
 "nbformat_minor": 1
}
