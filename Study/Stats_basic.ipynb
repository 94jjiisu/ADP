{
 "cells": [
  {
   "cell_type": "code",
   "execution_count": null,
   "metadata": {
    "ExecuteTime": {
     "end_time": "2021-03-13T11:47:59.268504Z",
     "start_time": "2021-03-13T11:47:58.563834Z"
    },
    "id": "trxctNZQmC3c"
   },
   "outputs": [],
   "source": [
    "import os\n",
    "import numpy as np\n",
    "import pandas as pd\n",
    "pd.set_option('display.max_row', 500)\n",
    "pd.set_option('display.max_columns', 30)\n",
    "from statsmodels.formula.api import ols\n",
    "import statsmodels.api as sm\n",
    "from statsmodels.stats.anova import anova_lm\n",
    "from statsmodels.graphics.factorplots import interaction_plot\n",
    "from pandas import DataFrame\n",
    "import urllib.request\n",
    "import matplotlib.pyplot as plt\n",
    "import warnings\n",
    "warnings.filterwarnings(\"ignore\")\n",
    "\n",
    "from scipy import stats"
   ]
  },
  {
   "cell_type": "markdown",
   "metadata": {
    "id": "P_85HrH9mC3g"
   },
   "source": [
    "## Ⅰ. t검정\n",
    "\n",
    "> - t검정은 3종류로 하나의 표본이 특정 값과 차이가 있는지 없는지를 검증하는 단일표본 t 검정\n",
    "> - 두 집단간의 차이가 있는지 검증하는 독립표본 t 검정 (A그룹 약 복용 / B그룹 약 미 복용)\n",
    "> - 한 집단의 전과 후를 비교하는 대응표본 t 검정으로 나뉩니다. (A그룹 약 복용 전 / B그룹 약 복용 후)\n",
    "\n",
    "-기본적으로 귀무가설은 표본과 해당 값은 차이가 없다, 두 집단은 차이가 없다, 해당 그룹의 전과 후는 차이가 없다 입니다."
   ]
  },
  {
   "cell_type": "markdown",
   "metadata": {
    "id": "i2oUKagQmC3h"
   },
   "source": [
    "\n",
    "\n",
    "```\n",
    "# 코드로 형식 지정됨\n",
    "```\n",
    "\n",
    "> ### 1-1 단일표본 t 검증 ( = 단일모집단 평균 검증) : scipy.stats.ttest_1samp() \n",
    ">> - 모집단의 평균값을 일반적인 이해 혹은 지금까지와의 이해와는 다르게 연구자가 생각하는 경우 사용하는 검정방법 \n",
    ">> - 모집단의 구성요소들이 정규분포를 이룬다는 가정하에 사용 (정규성 검증 : Shapiro_Wilks Normality test)\n",
    ">> - 표본의 크기가 30이상이면 중심극한정리에 의해 ztest를 사용할수 있으나 보다 엄격하게 하기위해 ttest사용\n",
    ">> - 표본의 평균이 모집단의 평균과 일치한다”라는 귀무가설을 확인하는 방법\n",
    ">> - (표본, 모집단)"
   ]
  },
  {
   "cell_type": "markdown",
   "metadata": {
    "id": "s98mFl3EmC3i"
   },
   "source": [
    "### 예제\n",
    "- 백화점 고객의 일평균 불만건수 (15건), 소비자 만족도 향상 노력 후 최근 10일간 불만 건수 표본 조사\n",
    "- 소비자 만족도 향상 노력 후 평균 불만 건수가 줄었다고 할수 있는가?"
   ]
  },
  {
   "cell_type": "code",
   "execution_count": null,
   "metadata": {
    "id": "fI5ecv7qmC3i",
    "outputId": "834bfa9f-931d-4f5d-9fab-d8a29b3ab547"
   },
   "outputs": [
    {
     "name": "stdout",
     "output_type": "stream",
     "text": [
      "13.545454545454545\n",
      "4.0757294129927075\n"
     ]
    }
   ],
   "source": [
    "onesample = [13, 16, 16,16,18,20,14,12,10,8,6]\n",
    "print(np.mean(onesample))  \n",
    "print(np.std(onesample))"
   ]
  },
  {
   "cell_type": "code",
   "execution_count": null,
   "metadata": {
    "id": "3bI5PSYSmC3j",
    "outputId": "31b781c9-195b-4ce2-c645-5bf2c0ed6643"
   },
   "outputs": [
    {
     "data": {
      "text/plain": [
       "ShapiroResult(statistic=0.9671614766120911, pvalue=0.8565245866775513)"
      ]
     },
     "execution_count": 23,
     "metadata": {},
     "output_type": "execute_result"
    }
   ],
   "source": [
    "# 표본의 정규성 검증(Shapiro_Wilks Normality test)\n",
    "stats.shapiro(onesample)"
   ]
  },
  {
   "cell_type": "markdown",
   "metadata": {
    "id": "mIl5XLNDmC3j"
   },
   "source": [
    "해석 : p값이 0.05 보다 크므로 귀무가설을 기각할수 없고 따라서 표본은 정규분포를 따른다고 결론  "
   ]
  },
  {
   "cell_type": "code",
   "execution_count": null,
   "metadata": {
    "id": "j3Hw1Rr2mC3k",
    "outputId": "e2149061-7ebb-4c05-9693-f7fd136ffcbb"
   },
   "outputs": [
    {
     "data": {
      "text/plain": [
       "Ttest_1sampResult(statistic=-1.1285529853737575, pvalue=0.2854333211539249)"
      ]
     },
     "execution_count": 24,
     "metadata": {},
     "output_type": "execute_result"
    }
   ],
   "source": [
    "# 단일표본 t검정 : 양측검정\n",
    "result = stats.ttest_1samp(onesample, 15) \n",
    "result"
   ]
  },
  {
   "cell_type": "markdown",
   "metadata": {
    "id": "KBjfzE4emC3k"
   },
   "source": [
    "해석 : p값이 0.05 보다 크므로 귀무가설을 기각할수 없고 따라서 표본과 모집단의 평균과 차이가 없다고 결론  "
   ]
  },
  {
   "cell_type": "code",
   "execution_count": null,
   "metadata": {
    "id": "cK38ipXmmC3k",
    "outputId": "d32c6152-47b1-4d80-d1d1-bc06ee14da09"
   },
   "outputs": [
    {
     "data": {
      "text/plain": [
       "Ttest_1sampResult(statistic=-1.1285529853737575, pvalue=0.14271666057696245)"
      ]
     },
     "execution_count": 27,
     "metadata": {},
     "output_type": "execute_result"
    }
   ],
   "source": [
    "# 단일표본 t검정 : 단측검정\n",
    "result = stats.ttest_1samp(onesample, 15, alternative='less') \n",
    "result"
   ]
  },
  {
   "cell_type": "markdown",
   "metadata": {
    "id": "Xh5Quu1BmC3l"
   },
   "source": [
    "해석 : p값이 0.05 보다 크므로 귀무가설을 기각할수 없고 따라서 표본과 모집단의 평균과 차이가 없다고 결론"
   ]
  },
  {
   "cell_type": "markdown",
   "metadata": {
    "id": "nBTHo_UAmC3l"
   },
   "source": [
    "### p값(유의확률)\n",
    "- 귀무가설이 옳다는 전제하에 현재의 표본으로부터 구한 통계치보다 절댓값으로 비교하여 같거나 더 큰 값을 갖는 통계량을 또 다른 표본으로 부터 얻을 수 있는 확률\n",
    "- 검정통계량이 기각되게 하기 위한 제 1종 오류의 최소값\n",
    "- 컴퓨터 패키지는 항상 양측검정을 기준으로 p값을 산출\n",
    "\n",
    "### 추가정보 확보를 통한 단측검정 유용\n",
    "- 가능하면 양측검정보다는 단측검정을 할수 있도록 가설을 설정하는 것이 바람직\n",
    "- 왜냐면, 동일한 유의수준으로 검정하는 경우 양측검정보다는 단측검정에서 연구가설이 채택될 가능성이 더 높기 때문  \n",
    ">- 단측검정의 p값은 양측검정의 p값의 정확히 반(1/2)이다. 연구자는 양측검정보다 단측검정을 선호한다. 단측검정을 위해서는 추가정보 필요\n",
    "- 또한 단측검정에서 사용되는 연구가설은 크다, 작다와 같이 방향성에 대한 정보가 포함되어 단순히 다르다 차이가 있다라는 양측검정의 정보보다 유용\n",
    "- 다만, 모수가 특정한 값이 아님을 밝히고자 하느느 경우 또한 문제가 명확하지 않거나 방향성 확인이 어려울 경우 ==> 양측검정"
   ]
  },
  {
   "cell_type": "markdown",
   "metadata": {
    "id": "MgGOvO8vmC3l"
   },
   "source": [
    "> ### 1-2 독립표본 t 검증 ( =  두 모집단 평균차이 검증) : scipy.stats.ttest_ind() \n",
    ">> - 모집단의 평균값을 일반적인 이해 혹은 지금까지와의 이해와는 다르게 연구자가 생가하는 경우 사용하는 검정방법 \n",
    ">> - 두 모집단이 정규분포를 이루며 분산이 같다는 가정하에 사용\n",
    ">>> - 정규성 검증 : Shapiro_Wilks Normality test\n",
    ">>> - 등분산성 검증 : 일원분산분석(stats.f_oneway())을 통해 등분산 or 이분산 인지 파악하여 stats.ttest_ind 함수 안에 equal_var 옵션에 True or False로 결정\n",
    ">> - 표본의 크기가 30이상이면 중심극한정리에 의해 ztest를 사용할수 있으나 보다 엄격하게 하기위해 ttest사용"
   ]
  },
  {
   "cell_type": "code",
   "execution_count": null,
   "metadata": {
    "ExecuteTime": {
     "end_time": "2021-03-13T12:07:29.213702Z",
     "start_time": "2021-03-13T12:07:29.196179Z"
    },
    "id": "1IvlmFbZmC3m"
   },
   "outputs": [],
   "source": [
    "# 자동차 판매원 교육 : 두 그룹으로 나누어 교육 후 판매실적 비교\n",
    "data1 = [117, 108, 105, 89, 101, 93, 96, 108, 108, 94, 93, 112, 92, 91, 100, 96, 120, 86, 96, 95]\n",
    "data2 = [121, 101, 102, 114, 103, 105, 101, 131, 96, 109, 109, 113, 115, 94, 108, 96, 110, 112, 120, 100]"
   ]
  },
  {
   "cell_type": "code",
   "execution_count": null,
   "metadata": {
    "ExecuteTime": {
     "end_time": "2021-03-13T12:08:17.063919Z",
     "start_time": "2021-03-13T12:08:17.051401Z"
    },
    "id": "IZDHpO0UmC3m",
    "outputId": "c5efd4d7-5dbb-4f6c-ce9c-d90b1fd84e0e"
   },
   "outputs": [
    {
     "name": "stdout",
     "output_type": "stream",
     "text": [
      "ShapiroResult(statistic=0.9326358437538147, pvalue=0.17352667450904846)\n",
      "ShapiroResult(statistic=0.9615263938903809, pvalue=0.5747753381729126)\n",
      "F_onewayResult(statistic=7.131964809384164, pvalue=0.011082895240510133)\n"
     ]
    }
   ],
   "source": [
    "# 표본의 정규성 검증과 등분산성 검증\n",
    "print(stats.shapiro(data1))                     # 정규성 검증\n",
    "print(stats.shapiro(data2))                     # 정규성 검증\n",
    "print(stats.f_oneway(data1, data2))             # 등분산성 검증"
   ]
  },
  {
   "cell_type": "code",
   "execution_count": null,
   "metadata": {
    "id": "wp7Z_od3mC3m",
    "outputId": "d7f9d5d0-7e86-45b4-cd81-fabb08f7ca9d"
   },
   "outputs": [
    {
     "data": {
      "text/plain": [
       "Ttest_indResult(statistic=-2.670573872669349, pvalue=0.01108318824471652)"
      ]
     },
     "execution_count": 31,
     "metadata": {},
     "output_type": "execute_result"
    }
   ],
   "source": [
    "#독립표본 t검정\n",
    "stats.ttest_ind(data1, data2, equal_var=False)  #마지막 옵션은 분산 동일 여부"
   ]
  },
  {
   "cell_type": "markdown",
   "metadata": {
    "id": "qoC9IWX4mC3m"
   },
   "source": [
    "해석 : \n",
    "> - 두 집단 모두 p값이 0.05보다 커서 정규성은 충족하나 \n",
    "> - 등분산성은 p값이 0.05보다 작으므로 분산이 같다는 귀무가설을 채택할수 없고 따라서 독립표본 t검정시 equal_var=False 해야!!\n",
    "> - 독립표본 t검정 결과 p값이 0.05보다 작아 귀무가설을 기각할수 있고 따라서 교육방법에 따른 실적차이가 있다고 결론 "
   ]
  },
  {
   "cell_type": "code",
   "execution_count": null,
   "metadata": {
    "id": "CmzE7y27mC3m"
   },
   "outputs": [],
   "source": []
  },
  {
   "cell_type": "markdown",
   "metadata": {
    "id": "F_UsXVcMmC3n"
   },
   "source": [
    "> ### 1-3 대응표본 t 검증 ( =  짝을 이룬 값들의 차이 검증 = 쌍체비교) : scipy.stats.ttest_rel() \n",
    ">> - 두 개의 모집단을 전제로 하는 독립표본 t 검정과 달리 표본의 값들이 짝을 이루고 있으며, 짝을 이룬 값들은 서로 독립적이지 않고 모집단도 하나다  \n",
    ">> - 동일대상에 대해 다른 시점에 측정하여 차이의 유의미성을 보는 것\n",
    ">> - 두 측정값은 독립표본 t 검정과 달리 독립적이지 않음\n",
    ">> - 예) 아스피린 복용전후, 좌우 눈의 시력차이"
   ]
  },
  {
   "cell_type": "code",
   "execution_count": null,
   "metadata": {
    "ExecuteTime": {
     "end_time": "2021-03-13T12:08:24.547522Z",
     "start_time": "2021-03-13T12:08:24.529498Z"
    },
    "id": "eYh98nYTmC3n",
    "outputId": "78474978-114c-4a1d-d6f0-33c25a0e737c"
   },
   "outputs": [
    {
     "data": {
      "text/plain": [
       "Ttest_relResult(statistic=-2.9868874599588247, pvalue=0.007578486289181322)"
      ]
     },
     "execution_count": 34,
     "metadata": {},
     "output_type": "execute_result"
    }
   ],
   "source": [
    "stats.ttest_rel(data1, data2)"
   ]
  },
  {
   "cell_type": "markdown",
   "metadata": {
    "id": "cEoUZwqbmC3n"
   },
   "source": [
    "해석 : p값이 0.05 보다 작으므로 귀무가설을 기각할수 있고 따라서 모집단의 처치 전후 차이가 있다고 결론"
   ]
  },
  {
   "cell_type": "code",
   "execution_count": null,
   "metadata": {
    "id": "otP8YdRpmC3n"
   },
   "outputs": [],
   "source": []
  },
  {
   "cell_type": "markdown",
   "metadata": {
    "id": "cEERJNppmC3n"
   },
   "source": [
    "## Ⅱ.연관성 분석\n",
    "-  1. 교차분석(카이스퀘어 검정) : 명목\n",
    "-  2. 스피어만 서열상관분석 : 서열      \n",
    "-  3. 피어슨 상관분석 : 등간 및 비율  "
   ]
  },
  {
   "cell_type": "markdown",
   "metadata": {
    "id": "GkUXfiXImC3n"
   },
   "source": [
    "### 1. 교차분석 \n",
    "> #### ① 적합도\n",
    "> #### ② 독립성\n",
    "> #### ③ 일양성"
   ]
  },
  {
   "cell_type": "markdown",
   "metadata": {
    "id": "fXNrrYWQmC3o"
   },
   "source": [
    "#### ① 적합도\n",
    "> - 예시 : 300명 대상으로 자동차 신제품 색깔 선호도 조사결과\n",
    "> -   R  -   B  -   Y  -   G  -   W\n",
    "> -   88     65     52     40     55\n",
    ">> - chisquare : 카이제곱 검정은 이산형과 이산형 변수가 서로 상관관계가 있는지 없는지를 확인한다.\n",
    ">> - stats.chisquare 검정통계량과 pvalue를 얻을 수 있다."
   ]
  },
  {
   "cell_type": "code",
   "execution_count": null,
   "metadata": {
    "id": "KW7G7Sz9mC3o",
    "outputId": "29bf006a-8e05-41a2-e787-bc8feb122562"
   },
   "outputs": [
    {
     "name": "stdout",
     "output_type": "stream",
     "text": [
      "static : 21.633333333333333, p-value : 0.0002370698576235039\n"
     ]
    }
   ],
   "source": [
    "#관측값\n",
    "data1 = [88,65,52,40,55]\n",
    "#기대값\n",
    "data2 = [60,60,60,60,60]\n",
    "chis = stats.chisquare(data1,data2)\n",
    "#결과 출력\n",
    "statistic,pvalue = chis #zip 형태처럼 두개의 변수에 값을 각각 할당\n",
    "print(\"static : {}, p-value : {}\".format(statistic,pvalue))"
   ]
  },
  {
   "cell_type": "markdown",
   "metadata": {
    "id": "WlXzaHoYmC3o"
   },
   "source": [
    "#### ② 독립성\n",
    "> - 다음은 음주, 흡연과 식도암과의 관계를 분석하기 위한 환자와 대조군과의 데이터인 R의 esoph 데이터 셋이다. 환자수(ncases)와 대조군(ncontrols)를 합한 새로운 컬럼인 관측자 수(nsums)를 생성하고, 음주량과 흡연량에 따른 관측자 수(nsums)의 이원교차표(two-way table)를 생성하여 확인하고 음주량과 흡연량에 따른 관측자수( nsums)의 카이제곱값을 구하시오¶\n",
    ">> - chi2_contingency(독립성 검정) : 카이제곱 통계량, p-value, 자유도, 기대도수 "
   ]
  },
  {
   "cell_type": "code",
   "execution_count": null,
   "metadata": {
    "id": "yKiuA_fVmC3o",
    "outputId": "46baab2c-55da-4f7d-f5ed-3c09d2fbe718"
   },
   "outputs": [
    {
     "name": "stdout",
     "output_type": "stream",
     "text": [
      "['0-9g/day' '10-19' '20-29' '30+'] ['25-34' '35-44' '45-54' '55-64' '65-74' '75+'] ['0-39g/day' '40-79' '80-119' '120+']\n"
     ]
    },
    {
     "data": {
      "text/html": [
       "<div>\n",
       "<style scoped>\n",
       "    .dataframe tbody tr th:only-of-type {\n",
       "        vertical-align: middle;\n",
       "    }\n",
       "\n",
       "    .dataframe tbody tr th {\n",
       "        vertical-align: top;\n",
       "    }\n",
       "\n",
       "    .dataframe thead th {\n",
       "        text-align: right;\n",
       "    }\n",
       "</style>\n",
       "<table border=\"1\" class=\"dataframe\">\n",
       "  <thead>\n",
       "    <tr style=\"text-align: right;\">\n",
       "      <th></th>\n",
       "      <th>Unnamed: 0</th>\n",
       "      <th>agegp</th>\n",
       "      <th>alcgp</th>\n",
       "      <th>tobgp</th>\n",
       "      <th>ncases</th>\n",
       "      <th>ncontrols</th>\n",
       "    </tr>\n",
       "  </thead>\n",
       "  <tbody>\n",
       "    <tr>\n",
       "      <th>0</th>\n",
       "      <td>1</td>\n",
       "      <td>25-34</td>\n",
       "      <td>0-39g/day</td>\n",
       "      <td>0-9g/day</td>\n",
       "      <td>0</td>\n",
       "      <td>40</td>\n",
       "    </tr>\n",
       "    <tr>\n",
       "      <th>1</th>\n",
       "      <td>2</td>\n",
       "      <td>25-34</td>\n",
       "      <td>0-39g/day</td>\n",
       "      <td>10-19</td>\n",
       "      <td>0</td>\n",
       "      <td>10</td>\n",
       "    </tr>\n",
       "    <tr>\n",
       "      <th>2</th>\n",
       "      <td>3</td>\n",
       "      <td>25-34</td>\n",
       "      <td>0-39g/day</td>\n",
       "      <td>20-29</td>\n",
       "      <td>0</td>\n",
       "      <td>6</td>\n",
       "    </tr>\n",
       "    <tr>\n",
       "      <th>3</th>\n",
       "      <td>4</td>\n",
       "      <td>25-34</td>\n",
       "      <td>0-39g/day</td>\n",
       "      <td>30+</td>\n",
       "      <td>0</td>\n",
       "      <td>5</td>\n",
       "    </tr>\n",
       "    <tr>\n",
       "      <th>4</th>\n",
       "      <td>5</td>\n",
       "      <td>25-34</td>\n",
       "      <td>40-79</td>\n",
       "      <td>0-9g/day</td>\n",
       "      <td>0</td>\n",
       "      <td>27</td>\n",
       "    </tr>\n",
       "    <tr>\n",
       "      <th>5</th>\n",
       "      <td>6</td>\n",
       "      <td>25-34</td>\n",
       "      <td>40-79</td>\n",
       "      <td>10-19</td>\n",
       "      <td>0</td>\n",
       "      <td>7</td>\n",
       "    </tr>\n",
       "    <tr>\n",
       "      <th>6</th>\n",
       "      <td>7</td>\n",
       "      <td>25-34</td>\n",
       "      <td>40-79</td>\n",
       "      <td>20-29</td>\n",
       "      <td>0</td>\n",
       "      <td>4</td>\n",
       "    </tr>\n",
       "    <tr>\n",
       "      <th>7</th>\n",
       "      <td>8</td>\n",
       "      <td>25-34</td>\n",
       "      <td>40-79</td>\n",
       "      <td>30+</td>\n",
       "      <td>0</td>\n",
       "      <td>7</td>\n",
       "    </tr>\n",
       "    <tr>\n",
       "      <th>8</th>\n",
       "      <td>9</td>\n",
       "      <td>25-34</td>\n",
       "      <td>80-119</td>\n",
       "      <td>0-9g/day</td>\n",
       "      <td>0</td>\n",
       "      <td>2</td>\n",
       "    </tr>\n",
       "    <tr>\n",
       "      <th>9</th>\n",
       "      <td>10</td>\n",
       "      <td>25-34</td>\n",
       "      <td>80-119</td>\n",
       "      <td>10-19</td>\n",
       "      <td>0</td>\n",
       "      <td>1</td>\n",
       "    </tr>\n",
       "  </tbody>\n",
       "</table>\n",
       "</div>"
      ],
      "text/plain": [
       "   Unnamed: 0  agegp      alcgp     tobgp  ncases  ncontrols\n",
       "0           1  25-34  0-39g/day  0-9g/day       0         40\n",
       "1           2  25-34  0-39g/day     10-19       0         10\n",
       "2           3  25-34  0-39g/day     20-29       0          6\n",
       "3           4  25-34  0-39g/day       30+       0          5\n",
       "4           5  25-34      40-79  0-9g/day       0         27\n",
       "5           6  25-34      40-79     10-19       0          7\n",
       "6           7  25-34      40-79     20-29       0          4\n",
       "7           8  25-34      40-79       30+       0          7\n",
       "8           9  25-34     80-119  0-9g/day       0          2\n",
       "9          10  25-34     80-119     10-19       0          1"
      ]
     },
     "execution_count": 41,
     "metadata": {},
     "output_type": "execute_result"
    }
   ],
   "source": [
    "df310=pd.read_csv('C:/Users/holon/Downloads/data/esoph.csv')\n",
    "print(df310.tobgp.unique(),df310.agegp.unique(),df310.alcgp.unique())\n",
    "df310.head(10)"
   ]
  },
  {
   "cell_type": "code",
   "execution_count": null,
   "metadata": {
    "id": "96f5r78hmC3o",
    "outputId": "37a1e497-9a11-40be-a448-fd7fc2915acc",
    "scrolled": true
   },
   "outputs": [
    {
     "data": {
      "text/html": [
       "<div>\n",
       "<style scoped>\n",
       "    .dataframe tbody tr th:only-of-type {\n",
       "        vertical-align: middle;\n",
       "    }\n",
       "\n",
       "    .dataframe tbody tr th {\n",
       "        vertical-align: top;\n",
       "    }\n",
       "\n",
       "    .dataframe thead th {\n",
       "        text-align: right;\n",
       "    }\n",
       "</style>\n",
       "<table border=\"1\" class=\"dataframe\">\n",
       "  <thead>\n",
       "    <tr style=\"text-align: right;\">\n",
       "      <th></th>\n",
       "      <th>Unnamed: 0</th>\n",
       "      <th>agegp</th>\n",
       "      <th>alcgp</th>\n",
       "      <th>tobgp</th>\n",
       "      <th>ncases</th>\n",
       "      <th>ncontrols</th>\n",
       "      <th>nsums</th>\n",
       "    </tr>\n",
       "  </thead>\n",
       "  <tbody>\n",
       "    <tr>\n",
       "      <th>0</th>\n",
       "      <td>1</td>\n",
       "      <td>25-34</td>\n",
       "      <td>0-39g/day</td>\n",
       "      <td>0-9g/day</td>\n",
       "      <td>0</td>\n",
       "      <td>40</td>\n",
       "      <td>40</td>\n",
       "    </tr>\n",
       "    <tr>\n",
       "      <th>1</th>\n",
       "      <td>2</td>\n",
       "      <td>25-34</td>\n",
       "      <td>0-39g/day</td>\n",
       "      <td>10-19</td>\n",
       "      <td>0</td>\n",
       "      <td>10</td>\n",
       "      <td>10</td>\n",
       "    </tr>\n",
       "    <tr>\n",
       "      <th>2</th>\n",
       "      <td>3</td>\n",
       "      <td>25-34</td>\n",
       "      <td>0-39g/day</td>\n",
       "      <td>20-29</td>\n",
       "      <td>0</td>\n",
       "      <td>6</td>\n",
       "      <td>6</td>\n",
       "    </tr>\n",
       "    <tr>\n",
       "      <th>3</th>\n",
       "      <td>4</td>\n",
       "      <td>25-34</td>\n",
       "      <td>0-39g/day</td>\n",
       "      <td>30+</td>\n",
       "      <td>0</td>\n",
       "      <td>5</td>\n",
       "      <td>5</td>\n",
       "    </tr>\n",
       "    <tr>\n",
       "      <th>4</th>\n",
       "      <td>5</td>\n",
       "      <td>25-34</td>\n",
       "      <td>40-79</td>\n",
       "      <td>0-9g/day</td>\n",
       "      <td>0</td>\n",
       "      <td>27</td>\n",
       "      <td>27</td>\n",
       "    </tr>\n",
       "  </tbody>\n",
       "</table>\n",
       "</div>"
      ],
      "text/plain": [
       "   Unnamed: 0  agegp      alcgp     tobgp  ncases  ncontrols  nsums\n",
       "0           1  25-34  0-39g/day  0-9g/day       0         40     40\n",
       "1           2  25-34  0-39g/day     10-19       0         10     10\n",
       "2           3  25-34  0-39g/day     20-29       0          6      6\n",
       "3           4  25-34  0-39g/day       30+       0          5      5\n",
       "4           5  25-34      40-79  0-9g/day       0         27     27"
      ]
     },
     "execution_count": 44,
     "metadata": {},
     "output_type": "execute_result"
    }
   ],
   "source": [
    "# 새로운 컬럼(nsums)를 ( ncases + ncontrols )로 하여 만들어 붙여라\n",
    "df310['nsums']=df310['ncases']+df310['ncontrols']\n",
    "df310.head()"
   ]
  },
  {
   "cell_type": "code",
   "execution_count": null,
   "metadata": {
    "id": "a57YfWRtmC3p",
    "outputId": "06577894-7eb5-4841-f97b-ab2ffb998964"
   },
   "outputs": [
    {
     "data": {
      "text/html": [
       "<div>\n",
       "<style scoped>\n",
       "    .dataframe tbody tr th:only-of-type {\n",
       "        vertical-align: middle;\n",
       "    }\n",
       "\n",
       "    .dataframe tbody tr th {\n",
       "        vertical-align: top;\n",
       "    }\n",
       "\n",
       "    .dataframe thead th {\n",
       "        text-align: right;\n",
       "    }\n",
       "</style>\n",
       "<table border=\"1\" class=\"dataframe\">\n",
       "  <thead>\n",
       "    <tr style=\"text-align: right;\">\n",
       "      <th>tobgp</th>\n",
       "      <th>0-9g/day</th>\n",
       "      <th>10-19</th>\n",
       "      <th>20-29</th>\n",
       "      <th>30+</th>\n",
       "    </tr>\n",
       "    <tr>\n",
       "      <th>alcgp</th>\n",
       "      <th></th>\n",
       "      <th></th>\n",
       "      <th></th>\n",
       "      <th></th>\n",
       "    </tr>\n",
       "  </thead>\n",
       "  <tbody>\n",
       "    <tr>\n",
       "      <th>0-39g/day</th>\n",
       "      <td>270</td>\n",
       "      <td>94</td>\n",
       "      <td>47</td>\n",
       "      <td>33</td>\n",
       "    </tr>\n",
       "    <tr>\n",
       "      <th>120+</th>\n",
       "      <td>40</td>\n",
       "      <td>30</td>\n",
       "      <td>19</td>\n",
       "      <td>23</td>\n",
       "    </tr>\n",
       "    <tr>\n",
       "      <th>40-79</th>\n",
       "      <td>213</td>\n",
       "      <td>102</td>\n",
       "      <td>77</td>\n",
       "      <td>38</td>\n",
       "    </tr>\n",
       "    <tr>\n",
       "      <th>80-119</th>\n",
       "      <td>80</td>\n",
       "      <td>68</td>\n",
       "      <td>22</td>\n",
       "      <td>19</td>\n",
       "    </tr>\n",
       "  </tbody>\n",
       "</table>\n",
       "</div>"
      ],
      "text/plain": [
       "tobgp      0-9g/day  10-19  20-29  30+\n",
       "alcgp                                 \n",
       "0-39g/day       270     94     47   33\n",
       "120+             40     30     19   23\n",
       "40-79           213    102     77   38\n",
       "80-119           80     68     22   19"
      ]
     },
     "execution_count": 47,
     "metadata": {},
     "output_type": "execute_result"
    }
   ],
   "source": [
    "# 음주량과 흡연량에 따른 관측자 수(nsums)의 이원교차표(two-way table)를 생성 : 담배 많이 피는 놈이 술도 많이 쳐먹는다.!\n",
    "df311=df310.pivot_table(index='alcgp',columns='tobgp',values='nsums', aggfunc=np.sum)\n",
    "df311"
   ]
  },
  {
   "cell_type": "code",
   "execution_count": null,
   "metadata": {
    "id": "PUlw-FF2mC3p",
    "outputId": "4bda8604-9ccb-4cac-998e-bf2169cf77a5"
   },
   "outputs": [
    {
     "name": "stdout",
     "output_type": "stream",
     "text": [
      "static : 54.68845281772801, p-value : 1.3962990055913291e-08, 자유도:9 :\n"
     ]
    },
    {
     "data": {
      "text/html": [
       "<div>\n",
       "<style scoped>\n",
       "    .dataframe tbody tr th:only-of-type {\n",
       "        vertical-align: middle;\n",
       "    }\n",
       "\n",
       "    .dataframe tbody tr th {\n",
       "        vertical-align: top;\n",
       "    }\n",
       "\n",
       "    .dataframe thead th {\n",
       "        text-align: right;\n",
       "    }\n",
       "</style>\n",
       "<table border=\"1\" class=\"dataframe\">\n",
       "  <thead>\n",
       "    <tr style=\"text-align: right;\">\n",
       "      <th>tobgp</th>\n",
       "      <th>0-9g/day</th>\n",
       "      <th>10-19</th>\n",
       "      <th>20-29</th>\n",
       "      <th>30+</th>\n",
       "    </tr>\n",
       "    <tr>\n",
       "      <th>alcgp</th>\n",
       "      <th></th>\n",
       "      <th></th>\n",
       "      <th></th>\n",
       "      <th></th>\n",
       "    </tr>\n",
       "  </thead>\n",
       "  <tbody>\n",
       "    <tr>\n",
       "      <th>0-39g/day</th>\n",
       "      <td>227.857021</td>\n",
       "      <td>111.094468</td>\n",
       "      <td>62.348936</td>\n",
       "      <td>42.699574</td>\n",
       "    </tr>\n",
       "    <tr>\n",
       "      <th>120+</th>\n",
       "      <td>57.477447</td>\n",
       "      <td>28.023830</td>\n",
       "      <td>15.727660</td>\n",
       "      <td>10.771064</td>\n",
       "    </tr>\n",
       "    <tr>\n",
       "      <th>40-79</th>\n",
       "      <td>220.672340</td>\n",
       "      <td>107.591489</td>\n",
       "      <td>60.382979</td>\n",
       "      <td>41.353191</td>\n",
       "    </tr>\n",
       "    <tr>\n",
       "      <th>80-119</th>\n",
       "      <td>96.993191</td>\n",
       "      <td>47.290213</td>\n",
       "      <td>26.540426</td>\n",
       "      <td>18.176170</td>\n",
       "    </tr>\n",
       "  </tbody>\n",
       "</table>\n",
       "</div>"
      ],
      "text/plain": [
       "tobgp        0-9g/day       10-19      20-29        30+\n",
       "alcgp                                                  \n",
       "0-39g/day  227.857021  111.094468  62.348936  42.699574\n",
       "120+        57.477447   28.023830  15.727660  10.771064\n",
       "40-79      220.672340  107.591489  60.382979  41.353191\n",
       "80-119      96.993191   47.290213  26.540426  18.176170"
      ]
     },
     "execution_count": 58,
     "metadata": {},
     "output_type": "execute_result"
    }
   ],
   "source": [
    "# 독립성 검정\n",
    "chi, p, dof, expected=stats.chi2_contingency(df311)\n",
    "print((\"static : {}, p-value : {}, 자유도:{} :\".format(chi,p,dof )))\n",
    "pd.DataFrame(expected,index=df311.index, columns=df311.columns)"
   ]
  },
  {
   "cell_type": "markdown",
   "metadata": {
    "id": "zoTzoJY8mC3p"
   },
   "source": [
    "해석 : p값이 0.05 보다 작으므로 귀무가설을 기각할수 있고 따라서 흡연량과 주량은 독립적이지 않고 상관관계가 있다고 결론"
   ]
  },
  {
   "cell_type": "markdown",
   "metadata": {
    "id": "NFry9NblmC3p"
   },
   "source": [
    "#### ③ 일양성(homogeneity test)\n",
    "> - 계산법과 검정법은 모두 독립성 검정(교차분석)과 같은 방법으로 진행\n",
    "> - 일양성 검정 : \n",
    ">> - one-margin fixed : EG/CG의 margin은 고정(O), but 감염/비감염은 고정(X)\n",
    ">> - prospective study\n",
    ">> - 예 : 비타민 C복용여부에 따른 감기감염여부(EG/CG)\n",
    "> - 독립성 검정 :\n",
    ">> - Neither margin Fixed\n",
    ">> - Retrospective study\n",
    ">> - 예 : 가족크기에 따른 세탁기 크기 교차표\n",
    ">> - row=1 일 경우 적합도 검증"
   ]
  },
  {
   "cell_type": "markdown",
   "metadata": {
    "id": "psgLKUmRmC3p"
   },
   "source": [
    "### 2. 서열상관분석 (spearman)\n",
    "두 명의 소비자가 청량음료 8개 브랜드에 대한 선호도를 서열척도로 다음과 같이 평가[가장 선호=1] 두 사람의 선호도에 대한 서열상관계수를 구하고 유의성을 검증하라"
   ]
  },
  {
   "cell_type": "code",
   "execution_count": null,
   "metadata": {
    "id": "osF-q8fdmC3p"
   },
   "outputs": [],
   "source": [
    "df6 = pd.DataFrame([\n",
    "        ['A01', 7, 1],\n",
    "        ['A02', 4, 5],\n",
    "        ['A03', 2, 3],\n",
    "        ['A04', 6, 4],\n",
    "        ['A05', 1, 8],\n",
    "        ['A06', 3, 7],\n",
    "        ['A07', 8, 2],\n",
    "        ['A08', 5, 6],\n",
    "    ], columns=['brand','consumerA', 'consumerB'])\n"
   ]
  },
  {
   "cell_type": "code",
   "execution_count": null,
   "metadata": {
    "id": "BT0q6GBymC3p",
    "outputId": "119e453f-3ed3-442d-8e32-7f025434331f"
   },
   "outputs": [
    {
     "data": {
      "text/html": [
       "<div>\n",
       "<style scoped>\n",
       "    .dataframe tbody tr th:only-of-type {\n",
       "        vertical-align: middle;\n",
       "    }\n",
       "\n",
       "    .dataframe tbody tr th {\n",
       "        vertical-align: top;\n",
       "    }\n",
       "\n",
       "    .dataframe thead th {\n",
       "        text-align: right;\n",
       "    }\n",
       "</style>\n",
       "<table border=\"1\" class=\"dataframe\">\n",
       "  <thead>\n",
       "    <tr style=\"text-align: right;\">\n",
       "      <th></th>\n",
       "      <th>brand</th>\n",
       "      <th>consumerA</th>\n",
       "      <th>consumerB</th>\n",
       "    </tr>\n",
       "  </thead>\n",
       "  <tbody>\n",
       "    <tr>\n",
       "      <th>0</th>\n",
       "      <td>A01</td>\n",
       "      <td>7</td>\n",
       "      <td>1</td>\n",
       "    </tr>\n",
       "    <tr>\n",
       "      <th>1</th>\n",
       "      <td>A02</td>\n",
       "      <td>4</td>\n",
       "      <td>5</td>\n",
       "    </tr>\n",
       "    <tr>\n",
       "      <th>2</th>\n",
       "      <td>A03</td>\n",
       "      <td>2</td>\n",
       "      <td>3</td>\n",
       "    </tr>\n",
       "    <tr>\n",
       "      <th>3</th>\n",
       "      <td>A04</td>\n",
       "      <td>6</td>\n",
       "      <td>4</td>\n",
       "    </tr>\n",
       "    <tr>\n",
       "      <th>4</th>\n",
       "      <td>A05</td>\n",
       "      <td>1</td>\n",
       "      <td>8</td>\n",
       "    </tr>\n",
       "  </tbody>\n",
       "</table>\n",
       "</div>"
      ],
      "text/plain": [
       "  brand  consumerA  consumerB\n",
       "0   A01          7          1\n",
       "1   A02          4          5\n",
       "2   A03          2          3\n",
       "3   A04          6          4\n",
       "4   A05          1          8"
      ]
     },
     "execution_count": 67,
     "metadata": {},
     "output_type": "execute_result"
    }
   ],
   "source": [
    "df6.head()"
   ]
  },
  {
   "cell_type": "code",
   "execution_count": null,
   "metadata": {
    "id": "BDH_FwjrmC3q",
    "outputId": "bed2b619-0cd2-497e-ee98-f8a44a185b25"
   },
   "outputs": [
    {
     "data": {
      "text/html": [
       "<div>\n",
       "<style scoped>\n",
       "    .dataframe tbody tr th:only-of-type {\n",
       "        vertical-align: middle;\n",
       "    }\n",
       "\n",
       "    .dataframe tbody tr th {\n",
       "        vertical-align: top;\n",
       "    }\n",
       "\n",
       "    .dataframe thead th {\n",
       "        text-align: right;\n",
       "    }\n",
       "</style>\n",
       "<table border=\"1\" class=\"dataframe\">\n",
       "  <thead>\n",
       "    <tr style=\"text-align: right;\">\n",
       "      <th></th>\n",
       "      <th>consumerA</th>\n",
       "      <th>consumerB</th>\n",
       "    </tr>\n",
       "  </thead>\n",
       "  <tbody>\n",
       "    <tr>\n",
       "      <th>consumerA</th>\n",
       "      <td>1.000000</td>\n",
       "      <td>-0.714286</td>\n",
       "    </tr>\n",
       "    <tr>\n",
       "      <th>consumerB</th>\n",
       "      <td>-0.714286</td>\n",
       "      <td>1.000000</td>\n",
       "    </tr>\n",
       "  </tbody>\n",
       "</table>\n",
       "</div>"
      ],
      "text/plain": [
       "           consumerA  consumerB\n",
       "consumerA   1.000000  -0.714286\n",
       "consumerB  -0.714286   1.000000"
      ]
     },
     "execution_count": 68,
     "metadata": {},
     "output_type": "execute_result"
    }
   ],
   "source": [
    "df6.corr(method='spearman')"
   ]
  },
  {
   "cell_type": "code",
   "execution_count": null,
   "metadata": {
    "id": "gJkWMmNDmC3q",
    "outputId": "595a7aa8-e495-4acd-eb9a-8d3503df92d8"
   },
   "outputs": [
    {
     "data": {
      "text/html": [
       "<div>\n",
       "<style scoped>\n",
       "    .dataframe tbody tr th:only-of-type {\n",
       "        vertical-align: middle;\n",
       "    }\n",
       "\n",
       "    .dataframe tbody tr th {\n",
       "        vertical-align: top;\n",
       "    }\n",
       "\n",
       "    .dataframe thead th {\n",
       "        text-align: right;\n",
       "    }\n",
       "</style>\n",
       "<table border=\"1\" class=\"dataframe\">\n",
       "  <thead>\n",
       "    <tr style=\"text-align: right;\">\n",
       "      <th></th>\n",
       "      <th>r value</th>\n",
       "      <th>p-value</th>\n",
       "      <th>N</th>\n",
       "    </tr>\n",
       "  </thead>\n",
       "  <tbody>\n",
       "    <tr>\n",
       "      <th>consumerA &amp; consumerB</th>\n",
       "      <td>-0.7143</td>\n",
       "      <td>0.0465</td>\n",
       "      <td>8</td>\n",
       "    </tr>\n",
       "  </tbody>\n",
       "</table>\n",
       "</div>"
      ],
      "text/plain": [
       "                       r value p-value  N\n",
       "consumerA & consumerB  -0.7143  0.0465  8"
      ]
     },
     "execution_count": 69,
     "metadata": {},
     "output_type": "execute_result"
    }
   ],
   "source": [
    "rp.corr_pair(df6[['consumerA','consumerB']],method='spearman')  "
   ]
  },
  {
   "cell_type": "markdown",
   "metadata": {
    "id": "fBhbHZ9gmC3q"
   },
   "source": [
    "- 단측검증이 디폴트: 따라서 알파 0.05보다 작으므로 귀무가설을 기각 가능\n",
    "- 만약 양측검증으로 한다면 알파 0.025보다 크므로 귀무가설을 기각할 수 없다. \n",
    "> - p값을 그대로 두고 알파값을 반으로 줄이면 양측검정이 됨\n",
    "> - 알파값을 그대로 두면 p값을 2배로 하면 양측검정이 됨"
   ]
  },
  {
   "cell_type": "markdown",
   "metadata": {
    "id": "zq23fg98mC3q"
   },
   "source": [
    "### 3. 상관분석"
   ]
  },
  {
   "cell_type": "code",
   "execution_count": null,
   "metadata": {
    "collapsed": true,
    "id": "hnGr1E8nmC3q",
    "outputId": "e2cb9dea-7b8e-401f-d7f1-0471739cc6a3"
   },
   "outputs": [
    {
     "name": "stdout",
     "output_type": "stream",
     "text": [
      "Collecting researchpy\n",
      "  Downloading researchpy-0.3.2-py3-none-any.whl (15 kB)\n",
      "Requirement already satisfied: scipy in c:\\users\\holon\\anaconda3\\lib\\site-packages (from researchpy) (1.6.2)\n",
      "Requirement already satisfied: statsmodels in c:\\users\\holon\\anaconda3\\lib\\site-packages (from researchpy) (0.12.2)\n",
      "Requirement already satisfied: numpy in c:\\users\\holon\\anaconda3\\lib\\site-packages (from researchpy) (1.20.2)\n",
      "Requirement already satisfied: patsy in c:\\users\\holon\\anaconda3\\lib\\site-packages (from researchpy) (0.5.1)\n",
      "Requirement already satisfied: pandas in c:\\users\\holon\\anaconda3\\lib\\site-packages (from researchpy) (1.2.4)\n",
      "Requirement already satisfied: python-dateutil>=2.7.3 in c:\\users\\holon\\anaconda3\\lib\\site-packages (from pandas->researchpy) (2.8.1)\n",
      "Requirement already satisfied: pytz>=2017.3 in c:\\users\\holon\\anaconda3\\lib\\site-packages (from pandas->researchpy) (2021.1)\n",
      "Requirement already satisfied: six>=1.5 in c:\\users\\holon\\anaconda3\\lib\\site-packages (from python-dateutil>=2.7.3->pandas->researchpy) (1.16.0)\n",
      "Installing collected packages: researchpy\n",
      "Successfully installed researchpy-0.3.2\n"
     ]
    }
   ],
   "source": [
    "# !pip install researchpy"
   ]
  },
  {
   "cell_type": "code",
   "execution_count": null,
   "metadata": {
    "ExecuteTime": {
     "end_time": "2021-03-13T11:56:32.265696Z",
     "start_time": "2021-03-13T11:56:32.253696Z"
    },
    "id": "na8D5KPjmC3q",
    "outputId": "39a17845-d50a-4d4e-d5d8-ed2501c2ebe8"
   },
   "outputs": [
    {
     "data": {
      "text/plain": [
       "(    ID  hour  attendance  weight   iq   region  library  pass\n",
       " 0  A01     2           1      60  139  country        0  fail\n",
       " 1  A02     3           2      80  148  country        0  fail\n",
       " 2  A03     3           4      50  149  country        0  fail\n",
       " 3  A04     5           5      40  151  country        0  pass\n",
       " 4  A05     7           5      35  154     city        0  pass,\n",
       " (12, 8))"
      ]
     },
     "execution_count": 59,
     "metadata": {},
     "output_type": "execute_result"
    }
   ],
   "source": [
    "import pandas as pd\n",
    "import numpy as np\n",
    "import matplotlib.pyplot as plt\n",
    "import seaborn as sns\n",
    "\n",
    "import statsmodels.graphics.api as smg\n",
    "import researchpy as rp\n",
    "from scipy import stats\n",
    "\n",
    "##########데이터 로드\n",
    "df5 = pd.DataFrame([\n",
    "        ['A01', 2, 1, 60, 139, 'country', 0, 'fail'],\n",
    "        ['A02', 3, 2, 80, 148, 'country', 0, 'fail'],\n",
    "        ['A03', 3, 4, 50, 149, 'country', 0, 'fail'],\n",
    "        ['A04', 5, 5, 40, 151, 'country', 0, 'pass'],\n",
    "        ['A05', 7, 5, 35, 154, 'city', 0, 'pass'],\n",
    "        ['A06', 2, 5, 45, 149, 'country', 0, 'fail'],\n",
    "        ['A07',8, 9, 40, 155, 'city', 1, 'pass'],\n",
    "        ['A08', 9, 10, 70, 155, 'city', 3, 'pass'],\n",
    "        ['A09', 6, 12, 55, 154, 'city', 0, 'pass'],\n",
    "        ['A10', 9, 2, 40, 156, 'city', 1, 'pass'],\n",
    "        ['A11', 6, 10, 60, 153, 'city', 0, 'pass'],\n",
    "        ['A12', 2, 4, 75, 151, 'country', 0, 'fail']\n",
    "    ], columns=['ID', 'hour', 'attendance', 'weight', 'iq', 'region', 'library', 'pass'])\n",
    "df5.head(), df5.shape"
   ]
  },
  {
   "cell_type": "code",
   "execution_count": null,
   "metadata": {
    "id": "lZpIN7G5mC3r",
    "outputId": "a69db031-846e-4732-fc30-bd0b94703da5"
   },
   "outputs": [
    {
     "name": "stdout",
     "output_type": "stream",
     "text": [
      "                hour  attendance    weight        iq   library\n",
      "hour        1.000000    0.492917 -0.362082  0.791026  0.673212\n",
      "attendance  0.492917    1.000000 -0.029190  0.588915  0.341568\n",
      "weight     -0.362082   -0.029190  1.000000 -0.295475  0.128588\n",
      "iq          0.791026    0.588915 -0.295475  1.000000  0.436244\n",
      "library     0.673212    0.341568  0.128588  0.436244  1.000000\n"
     ]
    }
   ],
   "source": [
    "##########데이터 분석\n",
    "corr = df5.corr(method='pearson')\n",
    "print(corr)"
   ]
  },
  {
   "cell_type": "code",
   "execution_count": null,
   "metadata": {
    "ExecuteTime": {
     "end_time": "2021-03-13T11:57:15.943807Z",
     "start_time": "2021-03-13T11:57:15.621791Z"
    },
    "id": "cML8n417mC3r",
    "outputId": "862bae62-5cc1-4772-ca29-20333b477a5e"
   },
   "outputs": [
    {
     "data": {
      "image/png": "[encoded data removed]",
      "text/plain": [
       "<Figure size 432x288 with 2 Axes>"
      ]
     },
     "metadata": {
      "needs_background": "light"
     },
     "output_type": "display_data"
    }
   ],
   "source": [
    "sns.heatmap(corr, cmap='viridis')\n",
    "plt.show()"
   ]
  },
  {
   "cell_type": "code",
   "execution_count": null,
   "metadata": {
    "id": "_47219ZqmC3r",
    "outputId": "7f50357a-7a91-4321-c2aa-6b0da4099fe1"
   },
   "outputs": [
    {
     "data": {
      "image/png": "[encoded data removed]",
      "text/plain": [
       "<Figure size 864x648 with 2 Axes>"
      ]
     },
     "metadata": {},
     "output_type": "display_data"
    }
   ],
   "source": [
    "sns.set(style=\"white\")\n",
    "mask=np.zeros_like(corr,dtype=np.bool)\n",
    "mask[np.triu_indices_from(mask)]=True\n",
    "\n",
    "f,ax=plt.subplots(figsize=(12,9))\n",
    "cmap=sns.diverging_palette(200,10,as_cmap=True)\n",
    "sns.heatmap(corr,mask=mask,cmap=cmap,center=0,square=True,\n",
    "            linewidths=0.5,cbar_kws={\"shrink\":1},annot=True);\n",
    "#annot는 히트맵 안에 숫자 생성해주는 것\n",
    "#글자 잘림은 subplots 사이즈 등 조절하면 쉽게 조절 가능"
   ]
  },
  {
   "cell_type": "code",
   "execution_count": null,
   "metadata": {
    "id": "d4OdhWOVmC3r",
    "outputId": "e0e769bb-5d74-4a78-c172-acbdabbaf417"
   },
   "outputs": [
    {
     "data": {
      "image/png": "[encoded data removed]",
      "text/plain": [
       "<Figure size 432x288 with 2 Axes>"
      ]
     },
     "metadata": {},
     "output_type": "display_data"
    }
   ],
   "source": [
    "# object형을 제외한 변수들간의 피어슨 상관관계!\n",
    "df51=df5.iloc[:,[1,2,3,4,6]]\n",
    "corr_matrix=np.corrcoef(df51.T)\n",
    "smg.plot_corr(corr_matrix)\n",
    "plt.show()"
   ]
  },
  {
   "cell_type": "code",
   "execution_count": null,
   "metadata": {
    "id": "a26wDYvImC3r",
    "outputId": "7d3e6beb-be0d-4c94-cb92-f6203b5b92af"
   },
   "outputs": [
    {
     "name": "stdout",
     "output_type": "stream",
     "text": [
      "                hour  attendance    weight        iq   library\n",
      "hour        1.000000    0.492917 -0.362082  0.791026  0.673212\n",
      "attendance  0.492917    1.000000 -0.029190  0.588915  0.341568\n",
      "weight     -0.362082   -0.029190  1.000000 -0.295475  0.128588\n",
      "iq          0.791026    0.588915 -0.295475  1.000000  0.436244\n",
      "library     0.673212    0.341568  0.128588  0.436244  1.000000\n",
      "                      r value p-value   N\n",
      "hour & attendance      0.4929  0.1035  12\n",
      "hour & weight         -0.3621  0.2474  12\n",
      "hour & iq              0.7910  0.0022  12\n",
      "hour & library         0.6732  0.0164  12\n",
      "attendance & weight   -0.0292  0.9282  12\n",
      "attendance & iq        0.5889  0.0439  12\n",
      "attendance & library   0.3416  0.2772  12\n",
      "weight & iq           -0.2955  0.3511  12\n",
      "weight & library       0.1286  0.6904  12\n",
      "iq & library           0.4362  0.1563  12\n"
     ]
    }
   ],
   "source": [
    "# 변수간의 상관계수와 p값 계산\n",
    "corr=df5.corr()\n",
    "print(corr)\n",
    "print(rp.corr_pair(df5[['hour','attendance','weight','iq','library']]))"
   ]
  },
  {
   "cell_type": "markdown",
   "metadata": {
    "id": "opTd4G2omC3r"
   },
   "source": [
    "해석 : p값이 0.05보다 작은 값을 가지는 상관계수가 유의미하다고 할수 있음"
   ]
  },
  {
   "cell_type": "markdown",
   "metadata": {
    "id": "rJl_AW9OmC3s"
   },
   "source": [
    "## Ⅲ. 분산분석\n",
    "- 2개의 모집단에 대한 평균을 비교, 분석하는 통계적 기법으로 t-Test를 활용하였다면, 비교하고자 하는 집단이 2개 이상일 경우에는 분산분석 (ANOVA : Analysis Of Variance)를 이용합니다. \n",
    "- 설명변수(=처치변수)는 범주형 자료(categorical data)이어야 하며, 종속변수는 연속형 자료(continuous data) 일 때 2개 이상 집단 간 평균 비교분석에 분산분석(ANOVA) 을 사용하게 됩니다.\n",
    "- 분산분석(ANOVA)은 기본적으로 분산의 개념을 이용하여 분석하는 방법으로서, 집단간 평균의 차이가 크면 클수록, 집단내의 분산의 크기가 작을수록 집단간 평균의 차이가 분명해진다.(F통계량=間/內)  \n",
    "\n",
    "\n",
    "> 1. 일원분산분석 : 처치변수 1개\n",
    "> 2. RBD          : 블럭변수 1개 : 각 집단에 1개의 값만 있음/주효과만 분석\n",
    "> 3. 이원분산분석 : 처치변수 2개 : 각 집단에 복수개의 값이 있음/ 주효과와 상호작용효과 모두 분석\n",
    "\n",
    "그룹간 단순하게 F검정으로 분산 분석을 하는 방법과\n",
    "Python의  scipy 모듈의 stats.f_oneway() 메소드를 사용하여 샘플의 크기가 서로 다른 3개 그룹 간 평균에 차이가 존재하는지 여부를 일원분산분석(one-way ANOVA)으로 분석하는 방법을 소개\n",
    "\n",
    "> [ 분산분석  검정의 가정사항 (assumptions of ANOVA test) ]\n",
    ">> -  (1) 독립성: 각 샘플 데이터는 서로 독립이다. \n",
    ">> -  (2) 정규성: 각 샘플 데이터는 정규분포를 따르는 모집단으로 부터 추출되었다. \n",
    ">> -  (3) 등분산성: 그룹들의 모집단의 분산은 모두 동일하다. \n",
    "\n"
   ]
  },
  {
   "cell_type": "markdown",
   "metadata": {
    "id": "2njw4mYMmC3s"
   },
   "source": [
    "### 3-1 일원분산분석(one-way ANOVA)\n",
    "> - 한 처치변수의 수준변화가 결과변수에 미치는 영향력에 관한 것이다.\n",
    "> - 2집단 이상의 평균비교에 사용\n",
    "> - ttest와 결과 동일하며(2집단 평균비교시), t통계량의 제곱과 f통계량은 값이 같다.\n",
    "> - statsmodel을 사용한 일원분산분석 주로 사용 \n",
    "> - 가설의 설정\n",
    ">> - 귀무가설 : 세 집단의 평균이 모두 같다.  \n",
    ">> - 연구가설 : 세 집단의 평균이 모두 같지는 않다. 즉 적어도 하나는 다르다."
   ]
  },
  {
   "cell_type": "code",
   "execution_count": null,
   "metadata": {
    "id": "1J95RxYMmC3s",
    "outputId": "4f2cc784-4d7f-4e0d-d8c2-d088415ac349"
   },
   "outputs": [
    {
     "data": {
      "image/png": "[encoded data removed]",
      "text/plain": [
       "<Figure size 432x288 with 1 Axes>"
      ]
     },
     "metadata": {},
     "output_type": "display_data"
    }
   ],
   "source": [
    "# 심장우회수술을 받은 환자 대상으로 3가지 수준의 처치 이후 엽산수치 측정 자료\n",
    "import urllib.request\n",
    "import matplotlib.pyplot as plt\n",
    "url = 'https://raw.githubusercontent.com/thomas-haslwanter/statsintro_python/master/ipynb/Data/data_altman/altman_910.txt'\n",
    "data6 = np.genfromtxt(urllib.request.urlopen(url), delimiter=',')\n",
    "\n",
    "# Sort them into groups, according to column 1\n",
    "group1 = data6[data6[:,1]==1,0]\n",
    "group2 = data6[data6[:,1]==2,0]\n",
    "group3 = data6[data6[:,1]==3,0]\n",
    "\n",
    "# matplotlib plotting\n",
    "plot_data = [group1, group2, group3]\n",
    "ax = plt.boxplot(plot_data)\n",
    "plt.show()"
   ]
  },
  {
   "cell_type": "code",
   "execution_count": null,
   "metadata": {
    "id": "4JeHPuBpmC3s"
   },
   "outputs": [],
   "source": [
    "# Statsmodel을 사용한 일원분산분석\n",
    "from statsmodels.formula.api import ols\n",
    "from statsmodels.stats.anova import anova_lm\n",
    "import warnings\n",
    "warnings.filterwarnings('ignore')"
   ]
  },
  {
   "cell_type": "code",
   "execution_count": null,
   "metadata": {
    "id": "kwo-GopSmC3s",
    "outputId": "d4902bc9-8525-4bea-8166-48d9be85bcf0"
   },
   "outputs": [
    {
     "data": {
      "text/html": [
       "<div>\n",
       "<style scoped>\n",
       "    .dataframe tbody tr th:only-of-type {\n",
       "        vertical-align: middle;\n",
       "    }\n",
       "\n",
       "    .dataframe tbody tr th {\n",
       "        vertical-align: top;\n",
       "    }\n",
       "\n",
       "    .dataframe thead th {\n",
       "        text-align: right;\n",
       "    }\n",
       "</style>\n",
       "<table border=\"1\" class=\"dataframe\">\n",
       "  <thead>\n",
       "    <tr style=\"text-align: right;\">\n",
       "      <th></th>\n",
       "      <th>df</th>\n",
       "      <th>sum_sq</th>\n",
       "      <th>mean_sq</th>\n",
       "      <th>F</th>\n",
       "      <th>PR(&gt;F)</th>\n",
       "    </tr>\n",
       "  </thead>\n",
       "  <tbody>\n",
       "    <tr>\n",
       "      <th>C(treatment)</th>\n",
       "      <td>2.0</td>\n",
       "      <td>15515.766414</td>\n",
       "      <td>7757.883207</td>\n",
       "      <td>3.711336</td>\n",
       "      <td>0.043589</td>\n",
       "    </tr>\n",
       "    <tr>\n",
       "      <th>Residual</th>\n",
       "      <td>19.0</td>\n",
       "      <td>39716.097222</td>\n",
       "      <td>2090.320906</td>\n",
       "      <td>NaN</td>\n",
       "      <td>NaN</td>\n",
       "    </tr>\n",
       "  </tbody>\n",
       "</table>\n",
       "</div>"
      ],
      "text/plain": [
       "                df        sum_sq      mean_sq         F    PR(>F)\n",
       "C(treatment)   2.0  15515.766414  7757.883207  3.711336  0.043589\n",
       "Residual      19.0  39716.097222  2090.320906       NaN       NaN"
      ]
     },
     "execution_count": 72,
     "metadata": {},
     "output_type": "execute_result"
    }
   ],
   "source": [
    "df = pd.DataFrame(data6, columns=['value', 'treatment'])  # DF화 하고 col명 붙여준다.\n",
    "model = ols('value ~ C(treatment)', df).fit()             # the \"C\" indicates categorical data\n",
    "anova_lm(model)"
   ]
  },
  {
   "cell_type": "code",
   "execution_count": null,
   "metadata": {
    "id": "YDxiYMUYmC3s",
    "outputId": "99d358af-44bf-4a71-dac0-7984a89287f6"
   },
   "outputs": [
    {
     "data": {
      "text/html": [
       "<div>\n",
       "<style scoped>\n",
       "    .dataframe tbody tr th:only-of-type {\n",
       "        vertical-align: middle;\n",
       "    }\n",
       "\n",
       "    .dataframe tbody tr th {\n",
       "        vertical-align: top;\n",
       "    }\n",
       "\n",
       "    .dataframe thead th {\n",
       "        text-align: right;\n",
       "    }\n",
       "</style>\n",
       "<table border=\"1\" class=\"dataframe\">\n",
       "  <thead>\n",
       "    <tr style=\"text-align: right;\">\n",
       "      <th></th>\n",
       "      <th>value</th>\n",
       "      <th>treatment</th>\n",
       "    </tr>\n",
       "  </thead>\n",
       "  <tbody>\n",
       "    <tr>\n",
       "      <th>0</th>\n",
       "      <td>243.0</td>\n",
       "      <td>1.0</td>\n",
       "    </tr>\n",
       "    <tr>\n",
       "      <th>1</th>\n",
       "      <td>251.0</td>\n",
       "      <td>1.0</td>\n",
       "    </tr>\n",
       "    <tr>\n",
       "      <th>2</th>\n",
       "      <td>275.0</td>\n",
       "      <td>1.0</td>\n",
       "    </tr>\n",
       "    <tr>\n",
       "      <th>3</th>\n",
       "      <td>291.0</td>\n",
       "      <td>1.0</td>\n",
       "    </tr>\n",
       "    <tr>\n",
       "      <th>4</th>\n",
       "      <td>347.0</td>\n",
       "      <td>1.0</td>\n",
       "    </tr>\n",
       "  </tbody>\n",
       "</table>\n",
       "</div>"
      ],
      "text/plain": [
       "   value  treatment\n",
       "0  243.0        1.0\n",
       "1  251.0        1.0\n",
       "2  275.0        1.0\n",
       "3  291.0        1.0\n",
       "4  347.0        1.0"
      ]
     },
     "execution_count": 73,
     "metadata": {},
     "output_type": "execute_result"
    }
   ],
   "source": [
    "df.head()"
   ]
  },
  {
   "cell_type": "markdown",
   "metadata": {
    "id": "_kVyEZz1mC3t"
   },
   "source": [
    "해석 : p값이 0.05보다 작으므로 귀무가설을 기각할 수 있고 따라서 집단간 평균 차이가 있다고 결론"
   ]
  },
  {
   "cell_type": "markdown",
   "metadata": {
    "id": "twmORxdrmC3t"
   },
   "source": [
    "### ※ 사후분석\n",
    "- 분산분석의 결과 귀무가설이 기각되어 적어도 한 집단에서 평균의 차이가 있음이 통계적으로 증명되었을 경우, 어떤 집단들에 대해서 평균의 차이가 존재하는지를 알아보기 위해 실시하는 분석\n",
    "- 조합 가능한 모든 쌍에 대해 비교를 하므로 과잉검증으로 인한 FWER 증가\n",
    "- 널리 쓰이는 봉페로니 교정과 투키의 HSD를 소개"
   ]
  },
  {
   "cell_type": "code",
   "execution_count": null,
   "metadata": {
    "id": "vrXdiuPRmC3t"
   },
   "outputs": [],
   "source": [
    "# #사후분석을 위한 준비\n",
    "from statsmodels.sandbox.stats.multicomp import MultiComparison\n",
    "import scipy.stats\n",
    "comp = MultiComparison(df.value,df.treatment)"
   ]
  },
  {
   "cell_type": "markdown",
   "metadata": {
    "id": "LjpUfMd7mC3t"
   },
   "source": [
    "#### ① 봉페로니 교정\n",
    "- Bonferroni correction\n",
    "- 모든 집단을 짝지어 t-test\n",
    "- 짝지어 비교를 3번 하면, p값을 3배\n",
    "- FWER이 중간 정도\n",
    "* FWER(family-wise error rates)이란, \"전체 가설 set에서 하나라도 잘못 기각시킬 확률(제 1종오류, false positive)\"을 말한다."
   ]
  },
  {
   "cell_type": "code",
   "execution_count": null,
   "metadata": {
    "id": "3pZ9R_2dmC3t",
    "outputId": "4847ad10-bb10-4c3b-a0a3-1d58290dbadd"
   },
   "outputs": [
    {
     "name": "stdout",
     "output_type": "stream",
     "text": [
      "Test Multiple Comparison ttest_ind \n",
      "FWER=0.05 method=bonf\n",
      "alphacSidak=0.02, alphacBonf=0.017\n",
      "=============================================\n",
      "group1 group2   stat   pval  pval_corr reject\n",
      "---------------------------------------------\n",
      "   1.0    2.0  2.5582 0.0218    0.0655  False\n",
      "   1.0    3.0  1.3266 0.2115    0.6346  False\n",
      "   2.0    3.0 -1.0725 0.3046    0.9138  False\n",
      "---------------------------------------------\n"
     ]
    }
   ],
   "source": [
    "result = comp.allpairtest(scipy.stats.ttest_ind, method='bonf')\n",
    "print(result[0])"
   ]
  },
  {
   "cell_type": "markdown",
   "metadata": {
    "id": "wpA5nLhxmC3t"
   },
   "source": [
    "해석 : 그룹 1,2간 p값이 0.05보다 작으므로 귀무가설을 기각할수 있고 따라서 그룹1,2간 차이가 있다고 할수 있으나 p값의 검정계수가 0.05보다 커 유의미한 수치가 아님. 따라서 전체적으로 집단간 차이가 없다는 귀무가설을 기각할 수 없음"
   ]
  },
  {
   "cell_type": "markdown",
   "metadata": {
    "id": "w3a9fMttmC3t"
   },
   "source": [
    "#### ② 투키의 HSD \n",
    "- Tuckey's Honestly Significant Difference = \"진정으로 유의미한 차이\"\n",
    "- FWER이 중간 정도"
   ]
  },
  {
   "cell_type": "code",
   "execution_count": null,
   "metadata": {
    "id": "N9K3aVwemC3t",
    "outputId": "e85de63a-d75e-4ab0-899f-1ae52a39a56c"
   },
   "outputs": [
    {
     "data": {
      "text/html": [
       "<table class=\"simpletable\">\n",
       "<caption>Multiple Comparison of Means - Tukey HSD, FWER=0.05</caption>\n",
       "<tr>\n",
       "  <th>group1</th> <th>group2</th> <th>meandiff</th>  <th>p-adj</th>   <th>lower</th>    <th>upper</th>  <th>reject</th>\n",
       "</tr>\n",
       "<tr>\n",
       "    <td>1.0</td>    <td>2.0</td>  <td>-60.1806</td> <td>0.0354</td> <td>-116.6056</td> <td>-3.7555</td>  <td>True</td> \n",
       "</tr>\n",
       "<tr>\n",
       "    <td>1.0</td>    <td>3.0</td>   <td>-38.625</td> <td>0.3217</td> <td>-104.8246</td> <td>27.5746</td>  <td>False</td>\n",
       "</tr>\n",
       "<tr>\n",
       "    <td>2.0</td>    <td>3.0</td>   <td>21.5556</td> <td>0.6706</td> <td>-43.2141</td>  <td>86.3252</td>  <td>False</td>\n",
       "</tr>\n",
       "</table>"
      ],
      "text/plain": [
       "<class 'statsmodels.iolib.table.SimpleTable'>"
      ]
     },
     "execution_count": 79,
     "metadata": {},
     "output_type": "execute_result"
    }
   ],
   "source": [
    "from statsmodels.stats.multicomp import pairwise_tukeyhsd\n",
    "hsd = pairwise_tukeyhsd(df['value'], df['treatment'], alpha=0.05)\n",
    "hsd.summary()"
   ]
  },
  {
   "cell_type": "code",
   "execution_count": null,
   "metadata": {
    "id": "kc2whvxJmC3u",
    "outputId": "939fb0db-ea7a-4f6f-b2a5-dd9f9911b440"
   },
   "outputs": [
    {
     "name": "stdout",
     "output_type": "stream",
     "text": [
      "3.7113359882669763 0.043589334959178244\n"
     ]
    }
   ],
   "source": [
    "# Scipy.stats으로 일원분산분석\n",
    "F_statistic, pVal = stats.f_oneway(group1, group2, group3)\n",
    "print(F_statistic, pVal)"
   ]
  },
  {
   "cell_type": "markdown",
   "metadata": {
    "id": "0vSPg956mC3u"
   },
   "source": [
    "### ※ stats.f_oneway 함수에 집단이 두개 들어가면 등분산성 검정을, 3개이상 들어가면 ANOVA분석(평균차이 검증)을 함"
   ]
  },
  {
   "cell_type": "markdown",
   "metadata": {
    "id": "7lHjaYAZmC3u"
   },
   "source": [
    "### 3-3 이원분산분석(two-way ANOVA)\n",
    "> - 일원분산분석이 한 처치변수의 수준변화가 결과변수에 미치는 영향력에 관한 것이다.\n",
    "> - 무작위블럭디장인은 한 처치변수의 수준변화가 결과변수에 미치는 영향력을 조사할  때 외생변수를 블럭으로 처리한 것이다. 그러므로 이 경우도 일원분산분석처럼 엄격히 말해 한 개의 처치변수의 효과를 조사한 것이다. \n",
    "> - 이와는 달리 동시에 두개의 처치변수의 수준변화에 따른 결과변수 효과를 조사하는 것\n",
    "> - 처치효과로 주효과와 상호작용효로 나누어 볼수 있다\n",
    ">> - 주효과 : 각 처치변수의 변화가 결과변수에 미치는 영향에 관한 것\n",
    ">> - 상호작용효과 : 한 처치변수가 다른 처치변수의 변화에 따라 결과변수에 미치는 영향에 관한 것, 상호작용효과가 유의한 경우 주효과는 해석하지 않는다. 무의미한 경우 주효과를 해석한다. \n",
    "\n",
    "> - 해석\n",
    ">> - 상호작용효과가 유의하지 않으면 주효과를 해석  \n",
    ">> - 상호작용효과가 유의하면 주효과는 해석 않함"
   ]
  },
  {
   "cell_type": "markdown",
   "metadata": {
    "id": "12xdV8SBmC3u"
   },
   "source": [
    "> - 예제 데이터(altman_12_6) 설명\n",
    ">> - 태아의 머리 둘레 측정 데이터입니다. 4명의 관측자가 3명의 태아를 대상으로 3회씩 측정을 했습니다.  총 36회가 되는 셈이죠. \n",
    ">> - 관측자에 따라서 측정데이터가 영향을 받는지를 알아보는 것, 즉  초음파로 태아의 머리 둘레측정 데이터가 재현성이 있는지를 조사하는 것"
   ]
  },
  {
   "cell_type": "code",
   "execution_count": null,
   "metadata": {
    "id": "6rymXg2ZmC3u",
    "outputId": "0b0c1e12-ccfb-44b0-d452-47b48f72c7c8"
   },
   "outputs": [
    {
     "data": {
      "text/plain": [
       "<AxesSubplot:title={'center':'head_size'}, xlabel='fetus'>"
      ]
     },
     "execution_count": 81,
     "metadata": {},
     "output_type": "execute_result"
    },
    {
     "data": {
      "image/png": "[encoded data removed]",
      "text/plain": [
       "<Figure size 432x288 with 1 Axes>"
      ]
     },
     "metadata": {},
     "output_type": "display_data"
    }
   ],
   "source": [
    "inFile = 'altman_12_6.txt'\n",
    "url_base = 'https://raw.githubusercontent.com/thomas-haslwanter/statsintro_python/master/ipynb/Data/data_altman/'\n",
    "url = url_base + inFile\n",
    "data7 = np.genfromtxt(urllib.request.urlopen(url), delimiter=',')\n",
    "\n",
    "# Bring them in dataframe-format\n",
    "df7 = pd.DataFrame(data7, columns=['head_size', 'fetus', 'observer'])\n",
    "# df7.tail()\n",
    "\n",
    "# 태아별 머리 둘레 plot 만들기\n",
    "df7.boxplot(column = 'head_size', by='fetus' , grid = False)"
   ]
  },
  {
   "cell_type": "code",
   "execution_count": null,
   "metadata": {
    "id": "2kBL2xRpmC3v",
    "outputId": "19b738d5-8386-4c24-d026-79ea8b3d2862"
   },
   "outputs": [
    {
     "data": {
      "text/html": [
       "<div>\n",
       "<style scoped>\n",
       "    .dataframe tbody tr th:only-of-type {\n",
       "        vertical-align: middle;\n",
       "    }\n",
       "\n",
       "    .dataframe tbody tr th {\n",
       "        vertical-align: top;\n",
       "    }\n",
       "\n",
       "    .dataframe thead th {\n",
       "        text-align: right;\n",
       "    }\n",
       "</style>\n",
       "<table border=\"1\" class=\"dataframe\">\n",
       "  <thead>\n",
       "    <tr style=\"text-align: right;\">\n",
       "      <th></th>\n",
       "      <th>head_size</th>\n",
       "      <th>fetus</th>\n",
       "      <th>observer</th>\n",
       "    </tr>\n",
       "  </thead>\n",
       "  <tbody>\n",
       "    <tr>\n",
       "      <th>0</th>\n",
       "      <td>14.3</td>\n",
       "      <td>1.0</td>\n",
       "      <td>1.0</td>\n",
       "    </tr>\n",
       "    <tr>\n",
       "      <th>1</th>\n",
       "      <td>14.0</td>\n",
       "      <td>1.0</td>\n",
       "      <td>1.0</td>\n",
       "    </tr>\n",
       "    <tr>\n",
       "      <th>2</th>\n",
       "      <td>14.8</td>\n",
       "      <td>1.0</td>\n",
       "      <td>1.0</td>\n",
       "    </tr>\n",
       "    <tr>\n",
       "      <th>3</th>\n",
       "      <td>13.6</td>\n",
       "      <td>1.0</td>\n",
       "      <td>2.0</td>\n",
       "    </tr>\n",
       "    <tr>\n",
       "      <th>4</th>\n",
       "      <td>13.6</td>\n",
       "      <td>1.0</td>\n",
       "      <td>2.0</td>\n",
       "    </tr>\n",
       "  </tbody>\n",
       "</table>\n",
       "</div>"
      ],
      "text/plain": [
       "   head_size  fetus  observer\n",
       "0       14.3    1.0       1.0\n",
       "1       14.0    1.0       1.0\n",
       "2       14.8    1.0       1.0\n",
       "3       13.6    1.0       2.0\n",
       "4       13.6    1.0       2.0"
      ]
     },
     "execution_count": 82,
     "metadata": {},
     "output_type": "execute_result"
    }
   ],
   "source": [
    "df7.head()"
   ]
  },
  {
   "cell_type": "code",
   "execution_count": null,
   "metadata": {
    "id": "whnsbBGfmC3v",
    "outputId": "aa99a487-ff2a-4950-9935-d4e6bad971fd"
   },
   "outputs": [
    {
     "name": "stdout",
     "output_type": "stream",
     "text": [
      "                        df      sum_sq     mean_sq            F        PR(>F)\n",
      "C(fetus)               2.0  324.008889  162.004444  2113.101449  1.051039e-27\n",
      "C(observer)            3.0    1.198611    0.399537     5.211353  6.497055e-03\n",
      "C(fetus):C(observer)   6.0    0.562222    0.093704     1.222222  3.295509e-01\n",
      "Residual              24.0    1.840000    0.076667          NaN           NaN\n"
     ]
    }
   ],
   "source": [
    "from statsmodels.formula.api import ols\n",
    "from statsmodels.stats.anova import anova_lm\n",
    "formula = 'head_size ~ C(fetus) + C(observer) + C(fetus):C(observer)'\n",
    "model2 = ols(formula, df7).fit()\n",
    "table=anova_lm(model2)\n",
    "print(table)"
   ]
  },
  {
   "cell_type": "markdown",
   "metadata": {
    "id": "2_O4zc-MmC3w"
   },
   "source": [
    "- 상호작용효과인 \"C(fetus):C(observer)\"의 P-value 가 0.05 이상입니다, 따라서 귀무가설을 기각할 수 없고. 즉 측정자와 태아와의 상호작용효과가 없고 따라서 머리둘레값에는 영향을 주지 않는다고 할 수 있습니다. 태아에 따라 측정하는 사람이 달라져도 머리 둘레값은 일정하는 것이죠.\n",
    "- 결론적으로 초음파로 측정하는 태아의 머리둘레값은 믿을 수 있다는 것입니다."
   ]
  },
  {
   "cell_type": "code",
   "execution_count": null,
   "metadata": {
    "id": "D6divH4imC3w",
    "outputId": "3fe6c22e-2ae2-458d-930a-2869c1caeb3e"
   },
   "outputs": [
    {
     "data": {
      "image/png": "[encoded data removed]",
      "text/plain": [
       "<Figure size 432x288 with 1 Axes>"
      ]
     },
     "metadata": {},
     "output_type": "display_data"
    }
   ],
   "source": [
    "# 상호작용효과 그래프\n",
    "\n",
    "from statsmodels.graphics.factorplots import interaction_plot\n",
    "fig=interaction_plot(df7.fetus,df7.observer,df7.head_size, colors=['red','navy','blue','yellow'],\n",
    "                     markers=['D','^','>','<'],ms=15)\n",
    "\n",
    "# markers : ('o', 'v', '^', '<', '>', '8', 's', 'p', '*', 'h', 'H', 'D', 'd', 'P', 'X')"
   ]
  },
  {
   "cell_type": "code",
   "execution_count": null,
   "metadata": {
    "id": "veX-7aulmC3w",
    "outputId": "eb5d5a57-13a6-4e10-a9b5-6b4de3ffce74"
   },
   "outputs": [
    {
     "data": {
      "image/png": "[encoded data removed]",
      "text/plain": [
       "<Figure size 432x288 with 1 Axes>"
      ]
     },
     "metadata": {},
     "output_type": "display_data"
    }
   ],
   "source": [
    "# 잔차의 정규분포가정을 검증하기 위해 누적확률분포와 정규분포의 산포도를 그려 봄\n",
    "import statsmodels.api as sm\n",
    "res=model2.resid\n",
    "qq=sm.qqplot(res,line='s')\n",
    "plt.show()"
   ]
  },
  {
   "cell_type": "markdown",
   "metadata": {
    "id": "DeuNz6j9mC3w"
   },
   "source": [
    "잔차의 형태가 대각선 직선의 형태를 지니고 있으면 잔차가 정규분포라고 할수 있다. "
   ]
  },
  {
   "cell_type": "markdown",
   "metadata": {
    "id": "6qR_tubnmC3w"
   },
   "source": [
    "##  예제 (이학식 마케팅 조사론 p321) : 성별과 여행빈도가 해외여행태도에 미치는 영향 조사\n",
    ">> -  여행빈도 3범주 , 남녀 나눠 조사. 총 30명\n",
    ">> - 성별(남 1, 여2), 여행빈도(적음 1, 중간 2, 많음 3), 해외여행 태도( 전혀 좋아하지 않음 1, 매우 좋아함 9)\n",
    "\n",
    ">> - 여행빈도에 대한 가설 : 주효과1\n",
    ">>> - 귀무가설 : 여행빈도별 평균 태도점수 차이없다,(Mu1=Mu2=Mu3)\n",
    ">>> - 대립가설 : 어느 하나라도 평균태도 점수에 차이가 있다.\n",
    ">> - 2가지 성별에 대한 가설 : 주효과2\n",
    ">>> - 귀무가설 : 성별 평균 태도점수 차이없다,(Mu남=Mu여)\n",
    ">>> - 대립가설 : 남녀의 평균태도 점수에 차이가 있다.\n",
    ">> - 여행빈도와 성별간에 대한 가설 : 상호작용효과\n",
    ">>> - 귀무가설 : 상호작용효과 없다\n",
    ">>> - 대립가설 : 상호작용효과 있다.."
   ]
  },
  {
   "cell_type": "code",
   "execution_count": null,
   "metadata": {
    "id": "rP82AN7YmC3w",
    "outputId": "a8a7f5db-a90c-4c50-e675-71c5a1ba2359"
   },
   "outputs": [
    {
     "data": {
      "text/html": [
       "<div>\n",
       "<style scoped>\n",
       "    .dataframe tbody tr th:only-of-type {\n",
       "        vertical-align: middle;\n",
       "    }\n",
       "\n",
       "    .dataframe tbody tr th {\n",
       "        vertical-align: top;\n",
       "    }\n",
       "\n",
       "    .dataframe thead th {\n",
       "        text-align: right;\n",
       "    }\n",
       "</style>\n",
       "<table border=\"1\" class=\"dataframe\">\n",
       "  <thead>\n",
       "    <tr style=\"text-align: right;\">\n",
       "      <th></th>\n",
       "      <th>sex</th>\n",
       "      <th>freq</th>\n",
       "      <th>points</th>\n",
       "    </tr>\n",
       "  </thead>\n",
       "  <tbody>\n",
       "    <tr>\n",
       "      <th>0</th>\n",
       "      <td>1</td>\n",
       "      <td>1</td>\n",
       "      <td>2</td>\n",
       "    </tr>\n",
       "    <tr>\n",
       "      <th>1</th>\n",
       "      <td>1</td>\n",
       "      <td>1</td>\n",
       "      <td>3</td>\n",
       "    </tr>\n",
       "    <tr>\n",
       "      <th>2</th>\n",
       "      <td>1</td>\n",
       "      <td>1</td>\n",
       "      <td>4</td>\n",
       "    </tr>\n",
       "    <tr>\n",
       "      <th>3</th>\n",
       "      <td>1</td>\n",
       "      <td>1</td>\n",
       "      <td>4</td>\n",
       "    </tr>\n",
       "    <tr>\n",
       "      <th>4</th>\n",
       "      <td>1</td>\n",
       "      <td>1</td>\n",
       "      <td>2</td>\n",
       "    </tr>\n",
       "  </tbody>\n",
       "</table>\n",
       "</div>"
      ],
      "text/plain": [
       "   sex  freq  points\n",
       "0    1     1       2\n",
       "1    1     1       3\n",
       "2    1     1       4\n",
       "3    1     1       4\n",
       "4    1     1       2"
      ]
     },
     "execution_count": 98,
     "metadata": {},
     "output_type": "execute_result"
    }
   ],
   "source": [
    "b=[[1,1,1,1,1,1,1,1,1,1,1,1,1,1,1,2,2,2,2,2,2,2,2,2,2,2,2,2,2,2],\n",
    "   [1,1,1,1,1,2,2,2,2,2,3,3,3,3,3,1,1,1,1,1,2,2,2,2,2,3,3,3,3,3],\n",
    "   [2,3,4,4,2,4,5,5,3,3,8,9,8,7,7,6,7,6,5,7,3,4,5,4,5,6,6,6,7,8]]\n",
    "df10=pd.DataFrame(b)\n",
    "df11=df10.T\n",
    "df11.columns=['sex','freq','points']\n",
    "df11.head()"
   ]
  },
  {
   "cell_type": "code",
   "execution_count": null,
   "metadata": {
    "id": "I10ojzn6mC3x",
    "outputId": "236f7398-7e5f-4ec3-a730-b3dcadf4311b"
   },
   "outputs": [
    {
     "data": {
      "text/plain": [
       "<AxesSubplot:title={'center':'points'}, xlabel='freq'>"
      ]
     },
     "execution_count": 99,
     "metadata": {},
     "output_type": "execute_result"
    },
    {
     "data": {
      "image/png": "[encoded data removed]",
      "text/plain": [
       "<Figure size 432x288 with 1 Axes>"
      ]
     },
     "metadata": {},
     "output_type": "display_data"
    }
   ],
   "source": [
    "# 여행빈도별 태도점수 plot 만들기\n",
    "df11.boxplot(column = 'points', by='freq' , grid = False)"
   ]
  },
  {
   "cell_type": "code",
   "execution_count": null,
   "metadata": {
    "id": "Aic841wymC3x",
    "outputId": "1c8523d6-681d-41d6-cf34-dbd6cdc82ba4"
   },
   "outputs": [
    {
     "data": {
      "text/plain": [
       "<AxesSubplot:title={'center':'points'}, xlabel='sex'>"
      ]
     },
     "execution_count": 100,
     "metadata": {},
     "output_type": "execute_result"
    },
    {
     "data": {
      "image/png": "[encoded data removed]",
      "text/plain": [
       "<Figure size 432x288 with 1 Axes>"
      ]
     },
     "metadata": {},
     "output_type": "display_data"
    }
   ],
   "source": [
    "# 남녀별 태도점수 plot 만들기\n",
    "df11.boxplot(column = 'points', by='sex' , grid = False)"
   ]
  },
  {
   "cell_type": "code",
   "execution_count": null,
   "metadata": {
    "id": "6XsCmFFvmC3x",
    "outputId": "41ad197d-47f3-4fd0-aecb-0448eb0d1742"
   },
   "outputs": [
    {
     "data": {
      "text/html": [
       "<div>\n",
       "<style scoped>\n",
       "    .dataframe tbody tr th:only-of-type {\n",
       "        vertical-align: middle;\n",
       "    }\n",
       "\n",
       "    .dataframe tbody tr th {\n",
       "        vertical-align: top;\n",
       "    }\n",
       "\n",
       "    .dataframe thead tr th {\n",
       "        text-align: left;\n",
       "    }\n",
       "\n",
       "    .dataframe thead tr:last-of-type th {\n",
       "        text-align: right;\n",
       "    }\n",
       "</style>\n",
       "<table border=\"1\" class=\"dataframe\">\n",
       "  <thead>\n",
       "    <tr>\n",
       "      <th></th>\n",
       "      <th></th>\n",
       "      <th colspan=\"2\" halign=\"left\">points</th>\n",
       "    </tr>\n",
       "    <tr>\n",
       "      <th></th>\n",
       "      <th></th>\n",
       "      <th>mean</th>\n",
       "      <th>std</th>\n",
       "    </tr>\n",
       "    <tr>\n",
       "      <th>sex</th>\n",
       "      <th>freq</th>\n",
       "      <th></th>\n",
       "      <th></th>\n",
       "    </tr>\n",
       "  </thead>\n",
       "  <tbody>\n",
       "    <tr>\n",
       "      <th rowspan=\"3\" valign=\"top\">1</th>\n",
       "      <th>1</th>\n",
       "      <td>3.0</td>\n",
       "      <td>1.000000</td>\n",
       "    </tr>\n",
       "    <tr>\n",
       "      <th>2</th>\n",
       "      <td>4.0</td>\n",
       "      <td>1.000000</td>\n",
       "    </tr>\n",
       "    <tr>\n",
       "      <th>3</th>\n",
       "      <td>7.8</td>\n",
       "      <td>0.836660</td>\n",
       "    </tr>\n",
       "    <tr>\n",
       "      <th rowspan=\"3\" valign=\"top\">2</th>\n",
       "      <th>1</th>\n",
       "      <td>6.2</td>\n",
       "      <td>0.836660</td>\n",
       "    </tr>\n",
       "    <tr>\n",
       "      <th>2</th>\n",
       "      <td>4.2</td>\n",
       "      <td>0.836660</td>\n",
       "    </tr>\n",
       "    <tr>\n",
       "      <th>3</th>\n",
       "      <td>6.6</td>\n",
       "      <td>0.894427</td>\n",
       "    </tr>\n",
       "  </tbody>\n",
       "</table>\n",
       "</div>"
      ],
      "text/plain": [
       "         points          \n",
       "           mean       std\n",
       "sex freq                 \n",
       "1   1       3.0  1.000000\n",
       "    2       4.0  1.000000\n",
       "    3       7.8  0.836660\n",
       "2   1       6.2  0.836660\n",
       "    2       4.2  0.836660\n",
       "    3       6.6  0.894427"
      ]
     },
     "execution_count": 101,
     "metadata": {},
     "output_type": "execute_result"
    }
   ],
   "source": [
    "df11.groupby(['sex','freq']).agg(['mean','std'])"
   ]
  },
  {
   "cell_type": "code",
   "execution_count": null,
   "metadata": {
    "id": "OjqDXk9dmC3x",
    "outputId": "75ea5a34-4500-42b4-dfdc-e2445af2f38e"
   },
   "outputs": [
    {
     "data": {
      "text/html": [
       "<div>\n",
       "<style scoped>\n",
       "    .dataframe tbody tr th:only-of-type {\n",
       "        vertical-align: middle;\n",
       "    }\n",
       "\n",
       "    .dataframe tbody tr th {\n",
       "        vertical-align: top;\n",
       "    }\n",
       "\n",
       "    .dataframe thead th {\n",
       "        text-align: right;\n",
       "    }\n",
       "</style>\n",
       "<table border=\"1\" class=\"dataframe\">\n",
       "  <thead>\n",
       "    <tr style=\"text-align: right;\">\n",
       "      <th></th>\n",
       "      <th>df</th>\n",
       "      <th>sum_sq</th>\n",
       "      <th>mean_sq</th>\n",
       "      <th>F</th>\n",
       "      <th>PR(&gt;F)</th>\n",
       "    </tr>\n",
       "  </thead>\n",
       "  <tbody>\n",
       "    <tr>\n",
       "      <th>C(freq)</th>\n",
       "      <td>2.0</td>\n",
       "      <td>55.400000</td>\n",
       "      <td>27.700000</td>\n",
       "      <td>33.918367</td>\n",
       "      <td>1.014700e-07</td>\n",
       "    </tr>\n",
       "    <tr>\n",
       "      <th>C(sex)</th>\n",
       "      <td>1.0</td>\n",
       "      <td>4.033333</td>\n",
       "      <td>4.033333</td>\n",
       "      <td>4.938776</td>\n",
       "      <td>3.593950e-02</td>\n",
       "    </tr>\n",
       "    <tr>\n",
       "      <th>C(freq):C(sex)</th>\n",
       "      <td>2.0</td>\n",
       "      <td>25.266667</td>\n",
       "      <td>12.633333</td>\n",
       "      <td>15.469388</td>\n",
       "      <td>4.830446e-05</td>\n",
       "    </tr>\n",
       "    <tr>\n",
       "      <th>Residual</th>\n",
       "      <td>24.0</td>\n",
       "      <td>19.600000</td>\n",
       "      <td>0.816667</td>\n",
       "      <td>NaN</td>\n",
       "      <td>NaN</td>\n",
       "    </tr>\n",
       "  </tbody>\n",
       "</table>\n",
       "</div>"
      ],
      "text/plain": [
       "                  df     sum_sq    mean_sq          F        PR(>F)\n",
       "C(freq)          2.0  55.400000  27.700000  33.918367  1.014700e-07\n",
       "C(sex)           1.0   4.033333   4.033333   4.938776  3.593950e-02\n",
       "C(freq):C(sex)   2.0  25.266667  12.633333  15.469388  4.830446e-05\n",
       "Residual        24.0  19.600000   0.816667        NaN           NaN"
      ]
     },
     "execution_count": 103,
     "metadata": {},
     "output_type": "execute_result"
    }
   ],
   "source": [
    "from statsmodels.formula.api import ols\n",
    "from statsmodels.stats.anova import anova_lm\n",
    "formula = 'points ~ C(freq) + C(sex) + C(freq):C(sex)'\n",
    "model4 = ols(formula, df11).fit()\n",
    "table=anova_lm(model4)\n",
    "table"
   ]
  },
  {
   "cell_type": "markdown",
   "metadata": {
    "id": "HXylIssJmC3x"
   },
   "source": [
    "#### -  유의수준 0.05에서 p값이 거의 0(4.830446e-05)이므로 귀무가설은 기각되고 따라서 상호작용효과가 있는 것으로 결론"
   ]
  },
  {
   "cell_type": "code",
   "execution_count": null,
   "metadata": {
    "id": "NV5jaRGImC3x",
    "outputId": "4b702ae6-2dcb-4489-ef2e-ff78d292c0a1"
   },
   "outputs": [
    {
     "data": {
      "image/png": "[encoded data removed]",
      "text/plain": [
       "<Figure size 432x288 with 1 Axes>"
      ]
     },
     "metadata": {},
     "output_type": "display_data"
    }
   ],
   "source": [
    "# 상호작용효과 그래프\n",
    "\n",
    "from statsmodels.graphics.factorplots import interaction_plot\n",
    "fig=interaction_plot(df11.freq,df11.sex,df11.points, colors=['navy','red'],\n",
    "                     markers=['D','^'],ms=10)"
   ]
  },
  {
   "cell_type": "markdown",
   "metadata": {
    "id": "8HobtP2emC3x"
   },
   "source": [
    "#### - 남녀간의 기울기 다르므로 상호작용효과가 있다. 여행빈도가 적을 때는 남녀간 태도차이가 크게 나타나나 빈도가 많아지면서 차이가 적어짐 남성의 경우 빈도가 많을수록 긍정적 태도가 비례적으로 증가"
   ]
  },
  {
   "cell_type": "code",
   "execution_count": null,
   "metadata": {
    "id": "JEDnwblEmC3y",
    "outputId": "13831643-0497-446e-eaec-009840f061ea"
   },
   "outputs": [
    {
     "data": {
      "image/png": "[encoded data removed]",
      "text/plain": [
       "<Figure size 432x288 with 1 Axes>"
      ]
     },
     "metadata": {},
     "output_type": "display_data"
    }
   ],
   "source": [
    "# 잔차의 정규분포가정을 검증하기 위해 누적확률분포와 정규분포의 산포도를 그려 봄\n",
    "import statsmodels.api as sm\n",
    "res=model4.resid\n",
    "qq=sm.qqplot(res,line='s')\n",
    "# plt.show()"
   ]
  },
  {
   "cell_type": "code",
   "execution_count": null,
   "metadata": {
    "id": "u6_xIEe5mC3y"
   },
   "outputs": [],
   "source": []
  },
  {
   "cell_type": "markdown",
   "metadata": {
    "id": "k20QryMzmC3y"
   },
   "source": [
    "### 3-4 공분산분석(ANCOVA) : analysis of covariance\n",
    "- 실험을 할 때 모든 집단들이 동일조건에서 출발하도록 통제하지 않으면 집단 자료들을 비교한 결과로 부터 정확한 통계적 의미를 기대하기 어려움\n",
    ">- 예: 3가지 교수법 효과를 검증하기 위해 세 그룹에 대해 처치함에 있어 세 그룹간 iq의 차이가 뚜렷하다면 여기서 나타난 처치효과가 iq때문인지 교수버 차이때문인지 애매할 수 있다. \n",
    "- 외생변수를 공변량(covariate)으로 처리한 후 각 그룹의 종속변수간 값의 차이가 있는지를 조사\n",
    "- 공변량 : 종속변수에 영향을 미칠 수 있으나 독립변수로 설정되지 않은 변수\n",
    "- 이원분산 분석과의 차이\n",
    ">- anova 경우 독립변수 2개가 모두 명목\n",
    ">- ancova 경우 : 독립변수 1개 : 명목, 공변량은 등간이나 비율"
   ]
  },
  {
   "cell_type": "code",
   "execution_count": null,
   "metadata": {
    "id": "hm92wtqpmC3y",
    "outputId": "ee5db401-ad68-40a5-bd4a-516d83aac547"
   },
   "outputs": [
    {
     "data": {
      "text/html": [
       "<div>\n",
       "<style scoped>\n",
       "    .dataframe tbody tr th:only-of-type {\n",
       "        vertical-align: middle;\n",
       "    }\n",
       "\n",
       "    .dataframe tbody tr th {\n",
       "        vertical-align: top;\n",
       "    }\n",
       "\n",
       "    .dataframe thead th {\n",
       "        text-align: right;\n",
       "    }\n",
       "</style>\n",
       "<table border=\"1\" class=\"dataframe\">\n",
       "  <thead>\n",
       "    <tr style=\"text-align: right;\">\n",
       "      <th></th>\n",
       "      <th>technique</th>\n",
       "      <th>current_grade</th>\n",
       "      <th>exam_score</th>\n",
       "    </tr>\n",
       "  </thead>\n",
       "  <tbody>\n",
       "    <tr>\n",
       "      <th>0</th>\n",
       "      <td>A</td>\n",
       "      <td>67</td>\n",
       "      <td>77</td>\n",
       "    </tr>\n",
       "    <tr>\n",
       "      <th>1</th>\n",
       "      <td>A</td>\n",
       "      <td>88</td>\n",
       "      <td>89</td>\n",
       "    </tr>\n",
       "    <tr>\n",
       "      <th>2</th>\n",
       "      <td>A</td>\n",
       "      <td>75</td>\n",
       "      <td>72</td>\n",
       "    </tr>\n",
       "    <tr>\n",
       "      <th>3</th>\n",
       "      <td>A</td>\n",
       "      <td>77</td>\n",
       "      <td>74</td>\n",
       "    </tr>\n",
       "    <tr>\n",
       "      <th>4</th>\n",
       "      <td>A</td>\n",
       "      <td>85</td>\n",
       "      <td>69</td>\n",
       "    </tr>\n",
       "    <tr>\n",
       "      <th>5</th>\n",
       "      <td>B</td>\n",
       "      <td>92</td>\n",
       "      <td>78</td>\n",
       "    </tr>\n",
       "    <tr>\n",
       "      <th>6</th>\n",
       "      <td>B</td>\n",
       "      <td>69</td>\n",
       "      <td>88</td>\n",
       "    </tr>\n",
       "    <tr>\n",
       "      <th>7</th>\n",
       "      <td>B</td>\n",
       "      <td>77</td>\n",
       "      <td>93</td>\n",
       "    </tr>\n",
       "    <tr>\n",
       "      <th>8</th>\n",
       "      <td>B</td>\n",
       "      <td>74</td>\n",
       "      <td>94</td>\n",
       "    </tr>\n",
       "    <tr>\n",
       "      <th>9</th>\n",
       "      <td>B</td>\n",
       "      <td>88</td>\n",
       "      <td>90</td>\n",
       "    </tr>\n",
       "    <tr>\n",
       "      <th>10</th>\n",
       "      <td>C</td>\n",
       "      <td>96</td>\n",
       "      <td>85</td>\n",
       "    </tr>\n",
       "    <tr>\n",
       "      <th>11</th>\n",
       "      <td>C</td>\n",
       "      <td>91</td>\n",
       "      <td>81</td>\n",
       "    </tr>\n",
       "    <tr>\n",
       "      <th>12</th>\n",
       "      <td>C</td>\n",
       "      <td>88</td>\n",
       "      <td>83</td>\n",
       "    </tr>\n",
       "    <tr>\n",
       "      <th>13</th>\n",
       "      <td>C</td>\n",
       "      <td>82</td>\n",
       "      <td>88</td>\n",
       "    </tr>\n",
       "    <tr>\n",
       "      <th>14</th>\n",
       "      <td>C</td>\n",
       "      <td>80</td>\n",
       "      <td>79</td>\n",
       "    </tr>\n",
       "  </tbody>\n",
       "</table>\n",
       "</div>"
      ],
      "text/plain": [
       "   technique  current_grade  exam_score\n",
       "0          A             67          77\n",
       "1          A             88          89\n",
       "2          A             75          72\n",
       "3          A             77          74\n",
       "4          A             85          69\n",
       "5          B             92          78\n",
       "6          B             69          88\n",
       "7          B             77          93\n",
       "8          B             74          94\n",
       "9          B             88          90\n",
       "10         C             96          85\n",
       "11         C             91          81\n",
       "12         C             88          83\n",
       "13         C             82          88\n",
       "14         C             80          79"
      ]
     },
     "execution_count": 108,
     "metadata": {},
     "output_type": "execute_result"
    }
   ],
   "source": [
    "#create data\n",
    "df1 = pd.DataFrame({'technique': np.repeat(['A', 'B', 'C'], 5),\n",
    "                   'current_grade': [67, 88, 75, 77, 85,\n",
    "                                     92, 69, 77, 74, 88, \n",
    "                                     96, 91, 88, 82, 80],\n",
    "                   'exam_score': [77, 89, 72, 74, 69,\n",
    "                                  78, 88, 93, 94, 90,\n",
    "                                  85, 81, 83, 88, 79]})\n",
    "df1"
   ]
  },
  {
   "cell_type": "markdown",
   "metadata": {
    "id": "PFBQ1McsmC3y"
   },
   "source": [
    "- Factor variable: studying technique\n",
    "- Covariate: current grade\n",
    "- Response variable: exam score\n",
    "- 공부하는 방법(technique)에 따라 시험점수가 달라지는가? 노이즈(공변량)로 현재학점 "
   ]
  },
  {
   "cell_type": "code",
   "execution_count": null,
   "metadata": {
    "id": "dFelnMnJmC3y"
   },
   "outputs": [],
   "source": [
    "# !pip install pingouin "
   ]
  },
  {
   "cell_type": "code",
   "execution_count": null,
   "metadata": {
    "id": "5UKnOiDFmC3y",
    "outputId": "0b35e721-9f7f-4e3b-adfc-bc7c36fffa99"
   },
   "outputs": [
    {
     "data": {
      "text/html": [
       "<div>\n",
       "<style scoped>\n",
       "    .dataframe tbody tr th:only-of-type {\n",
       "        vertical-align: middle;\n",
       "    }\n",
       "\n",
       "    .dataframe tbody tr th {\n",
       "        vertical-align: top;\n",
       "    }\n",
       "\n",
       "    .dataframe thead th {\n",
       "        text-align: right;\n",
       "    }\n",
       "</style>\n",
       "<table border=\"1\" class=\"dataframe\">\n",
       "  <thead>\n",
       "    <tr style=\"text-align: right;\">\n",
       "      <th></th>\n",
       "      <th>Source</th>\n",
       "      <th>SS</th>\n",
       "      <th>DF</th>\n",
       "      <th>F</th>\n",
       "      <th>p-unc</th>\n",
       "      <th>np2</th>\n",
       "    </tr>\n",
       "  </thead>\n",
       "  <tbody>\n",
       "    <tr>\n",
       "      <th>0</th>\n",
       "      <td>technique</td>\n",
       "      <td>390.575130</td>\n",
       "      <td>2</td>\n",
       "      <td>4.809973</td>\n",
       "      <td>0.031556</td>\n",
       "      <td>0.466536</td>\n",
       "    </tr>\n",
       "    <tr>\n",
       "      <th>1</th>\n",
       "      <td>current_grade</td>\n",
       "      <td>4.193886</td>\n",
       "      <td>1</td>\n",
       "      <td>0.103296</td>\n",
       "      <td>0.753934</td>\n",
       "      <td>0.009303</td>\n",
       "    </tr>\n",
       "    <tr>\n",
       "      <th>2</th>\n",
       "      <td>Residual</td>\n",
       "      <td>446.606114</td>\n",
       "      <td>11</td>\n",
       "      <td>NaN</td>\n",
       "      <td>NaN</td>\n",
       "      <td>NaN</td>\n",
       "    </tr>\n",
       "  </tbody>\n",
       "</table>\n",
       "</div>"
      ],
      "text/plain": [
       "          Source          SS  DF         F     p-unc       np2\n",
       "0      technique  390.575130   2  4.809973  0.031556  0.466536\n",
       "1  current_grade    4.193886   1  0.103296  0.753934  0.009303\n",
       "2       Residual  446.606114  11       NaN       NaN       NaN"
      ]
     },
     "execution_count": 109,
     "metadata": {},
     "output_type": "execute_result"
    }
   ],
   "source": [
    "from pingouin import ancova\n",
    "\n",
    "#perform ANCOVA\n",
    "ancova(data=df1, dv='exam_score', covar='current_grade', between='technique')"
   ]
  },
  {
   "cell_type": "markdown",
   "metadata": {
    "id": "1ngcPcsymC3z"
   },
   "source": [
    "#### 해석\n",
    "- 기술종류의 p-value (p-unc = “uncorrected p-value”)가 0.03으로 유의수준 0.05보다 작다. \n",
    "- 따라서, 우리는 기술종류에 따라 시험성적에 차이가 없다 라는 귀무가설을 기각할수 있다.\n",
    "- 부연하면, 공변량인 현재학점을 감안하더라도 기술종류에 따라 시험성적에 차이가 있다라고 할수 있다."
   ]
  }
 ],
 "metadata": {
  "colab": {
   "name": "기초 통계 분석-발표본.ipynb",
   "provenance": []
  },
  "hide_input": false,
  "kernelspec": {
   "display_name": "Python 3 (ipykernel)",
   "language": "python",
   "name": "python3"
  },
  "language_info": {
   "codemirror_mode": {
    "name": "ipython",
    "version": 3
   },
   "file_extension": ".py",
   "mimetype": "text/x-python",
   "name": "python",
   "nbconvert_exporter": "python",
   "pygments_lexer": "ipython3",
   "version": "3.9.7"
  },
  "toc": {
   "base_numbering": 1,
   "nav_menu": {},
   "number_sections": true,
   "sideBar": true,
   "skip_h1_title": false,
   "title_cell": "Table of Contents",
   "title_sidebar": "Contents",
   "toc_cell": false,
   "toc_position": {
    "height": "calc(100% - 180px)",
    "left": "10px",
    "top": "150px",
    "width": "191.594px"
   },
   "toc_section_display": true,
   "toc_window_display": true
  },
  "varInspector": {
   "cols": {
    "lenName": 16,
    "lenType": 16,
    "lenVar": 40
   },
   "kernels_config": {
    "python": {
     "delete_cmd_postfix": "",
     "delete_cmd_prefix": "del ",
     "library": "var_list.py",
     "varRefreshCmd": "print(var_dic_list())"
    },
    "r": {
     "delete_cmd_postfix": ") ",
     "delete_cmd_prefix": "rm(",
     "library": "var_list.r",
     "varRefreshCmd": "cat(var_dic_list()) "
    }
   },
   "types_to_exclude": [
    "module",
    "function",
    "builtin_function_or_method",
    "instance",
    "_Feature"
   ],
   "window_display": false
  }
 },
 "nbformat": 4,
 "nbformat_minor": 1
}
