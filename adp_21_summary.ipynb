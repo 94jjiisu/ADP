{
 "cells": [
  {
   "cell_type": "markdown",
   "id": "d6490aa4",
   "metadata": {},
   "source": [
    "# 21회"
   ]
  },
  {
   "cell_type": "markdown",
   "id": "1809497d",
   "metadata": {},
   "source": [
    "## 1. 학생성적 예측 : 분류\n",
    "- 독립변수 : 11개 (school, sex 등 수치/범주), 타겟변수 : grade\n",
    "- 단계마다 적합한 시각화 및 근거제시"
   ]
  },
  {
   "cell_type": "markdown",
   "id": "b772f2c7",
   "metadata": {},
   "source": [
    "### 1-1 EDA & 시각화\n",
    "#### 1-1-1. EDA & 시각화\n",
    "- ① 데이터 구조 확인\n",
    ">- df.head(), df.tail() : 데이터의 처음과 마지막 5행 확인\n",
    ">- df.shape : 데이터 행/열 갯수 확인\n",
    ">- df.info() : 전체 col명과 데이터 타입 확인\n",
    "- ② 빈도분석 및 분포분석\n",
    ">- df.describe(), 변동계수(CV=SD/m: 상대표준편차)) : 연속형 변수 \n",
    ">- df.groupby(), df.value_counts() : 범주형 변수 \n",
    ">- 종속변수와 함께 상관관계\n",
    ">- 첨도/왜도 : \n",
    ">>- from scipy.ststs import skew, kurtosis\n",
    ">>- skew(df['col']), kurtosis(df['col'])\n",
    ">- 히스토그램 :\n",
    ">>- import seaborn as sns\n",
    ">>- sns.histplot(df['col'], kde=True)\n",
    ">- Boxplot\n",
    ">>- import matplolib.pyplot as plt\n",
    ">>- plt.boxplot((df['col'])\n"
   ]
  },
  {
   "cell_type": "markdown",
   "id": "9fc35f17",
   "metadata": {},
   "source": [
    "####  1-1-2 전처리 중 결측치 확인 방법 및 예측방법 제시 \n",
    ">- 1) 결측치 : isna().sum()\n",
    ">>- 가이드 라인 : \n",
    ">>>- 10% 미만 : 삭제 or 대치\n",
    ">>>- 10% ~ 50% : regression or model based imputation\n",
    ">>>- 50% 이상 : 해당 컬럼(변수) 자체 제거\n",
    ">>-  삭제 : \n",
    ">>>- 행 대상 : dropna()       ※ 행 대상 특정 col삭제 : df.dropna(subset=['col'])\n",
    ">>>- 열 대상 : dropna(axis=1)  \n",
    ">>-  대체 : \n",
    ">>>- SimpleImputer : mean, median, mode로 대체\n",
    ">>>>- from sklearn.impute import SimpleImputer\n",
    ">>>>- si_mean=SimpleImputer(missing_values=np.nan,strategy='mean'):'median' or 'most_frequent'\n",
    ">>>>- si_mean.fit(df)\n",
    ">>>>- df1=si_mean.transform(df)\n",
    ">>>- IterativeImputer : 다변량 대치방법으로 다른 모든 특성에서 각 특성을 추정하는 방법\n",
    ">>>>- from sklearn.experimental import enable_iterative_imputer\n",
    ">>>>- from sklearn.impute import IterativeImputer\n",
    ">>>>- imputer=IterativeImputer()\n",
    ">>>>- imputer.fit(df)\n",
    ">>>>- df1=imputer.transform(df)\n",
    ">>>- KNNImputer : mean/median/mode로 대체하는 것보다 정확, 단점은 메모리를 많이 필요로 하고 이상치에 민감, 이웃갯수 정해야!! \n",
    ">>>>- from sklearn.impute import KNNImputer\n",
    ">>>>- imputer=KNNImputer(n_neighbors=5)\n",
    ">>>>- imputer.fit(df)\n",
    ">>>>- df1=imputer.transform(df)\n",
    ">>>- Zero Imputation : 0으로 대체 : fillna(0)\n",
    ">>>- Constant Imputation : 지정한 상수 값으로 대체\n",
    ">- 2) 중복값 : df[df.duplicated(keep=False)]  \n",
    ">>- 행 제거 : df.drop_duplicates() : 행 내용이 동일한 경우 제거\n",
    ">>- 열 제거 : df.drop_duplicates(['col'], keep='last') :  col기준 중복값중 마지막만 남겨둠\n",
    ">- 3) 이상치 : \n",
    ">>-  확인 : \n",
    ">>>- ESD(Extreme Studentized Deviation) : 평균으로부터 3sigma이상 떨어진 값  \n",
    ">>>- 기하평균으로 부터 2.5sigma이상 떨어진 값들\n",
    ">>>- Q1, Q3에서 (1.5xIQR)이상 떨어진 값들\n",
    ">>>- boxplot을 통해 이상값으로 ㅇ로 표기되는 경우\n",
    ">>>- DBSCAN 클러스터링을 통해 타겟값이 -1이 되는 경우\n",
    ">>-  제거 : IQR을 통해 상하한값을 찾은 후  그 너머의 값을 제거하는 방법\n",
    ">>>- IQR = df['col'].quantile(0.75)-df['col'].quantile(0.25)\n",
    ">>>- min=df['col'].quantile(0.25)-IQR*1.5\n",
    ">>>- max=df['col'].quantile(0.75)-IQR*1.5\n",
    ">>>- out_index=df[['col']].query('col<=min or col>=max).index\n",
    ">>>- trimmed=df['col'].drop(index=out_index, axis=1)\n",
    ">>-  대체 : 경계값 너머의 이상치들을 상하한값으로 대체하는 방법\n",
    ">>>- IQR = df['col'].quantile(0.75)-df['col'].quantile(0.25)\n",
    ">>>- min=df['col'].quantile(0.25)-IQR*1.5\n",
    ">>>- max=df['col'].quantile(0.75)-IQR*1.5\n",
    ">>>- winsorized=df['col'].clip(min, max)"
   ]
  },
  {
   "cell_type": "markdown",
   "id": "b6313cd3",
   "metadata": {},
   "source": [
    "#### 1-1-3 인코딩이 필요한 항목과 이유 제시, 필요한 인코딩 수행 :  범주형 변수/숫자값으로 변환/\n",
    ">>- 방법1: 레이블인코딩 : \n",
    ">>>- 일괄적인 숫자값으로 변환\n",
    ">>>- 몇몇 ML에서는 숫자의 크기를 반영하므로써 예측 성능을 떨어뜨림\n",
    ">>>- 선형회귀 ML에는 적용하면 안됨, 그러나 트리기반 ML에는 적용 가능\n",
    ">>>-from sklearn.preprocessing import LabelEncoder\n",
    ">>>-le=LabelEncoder()\n",
    ">>>-le.fit(df)\n",
    ">>>-labels=le.transform(df)\n",
    ">>- 방법2 : 원핫인코딩\n",
    ">>>- 피처값의 유형에 따라 새로운 피처를 추가해 고윳값에 해당하는 컬러에만 1을 나머지는 0을 표시\n",
    ">>>- import pandas as pd\n",
    ">>>- pd.get_dummies(df)"
   ]
  },
  {
   "cell_type": "markdown",
   "id": "a042f1a9",
   "metadata": {},
   "source": [
    "### 1-2 데이터셋 분할  "
   ]
  },
  {
   "cell_type": "markdown",
   "id": "257b637b",
   "metadata": {},
   "source": [
    "#### 분할방법"
   ]
  },
  {
   "cell_type": "markdown",
   "id": "ead2a772",
   "metadata": {},
   "source": [
    "1. 일반적인 데이터 분할\n",
    ">- 일반적으로 데이터 분할은 train data(70%), test data(30%)로 비율에 따라 랜덤으로 데이터를 분할.\n",
    ">>- from sklearn.model_selection import train_test_split"
   ]
  },
  {
   "cell_type": "markdown",
   "id": "67c5d861",
   "metadata": {},
   "source": [
    "2. K-fold 교차분석 (k-fold cross validation)\n",
    ">- 데이터를 k개의 집단으로 나눈 뒤 k-1개의 집단으로 분류기를 학습시키고, 나머지 1개의 집단으로 분류기의 성능을 테스트하는 방법이다. 이 과정을 k번 반복한다."
   ]
  },
  {
   "cell_type": "markdown",
   "id": "e3322d7a",
   "metadata": {},
   "source": [
    "3. 층화 K-fold 교차분석 (Stratified k-fold cross validation)\n",
    ">- 타겟 변수값이 랜덤으로 여러번 fold하는 과정에서 어떤 분할 데이터셋에서는 타겟 변수의 level 중 일부가 누락되거나 level의 비율이 현저히 다를 수 있다. 이것을 방지하기 위해, 모든 분할 데이터셋의 타겟 변수 level의 비율이 원본과 동일한 비율로 나누어지도록 하는 k-fold 교차분석 방법이다."
   ]
  },
  {
   "cell_type": "markdown",
   "id": "9c305685",
   "metadata": {},
   "source": [
    "4. Group K-fold 교차분석\n",
    ">- 매 데이터 분할 시마다 각 group의 데이터들 중 한 그룹의 데이터를 test 데이터로 적용하고 이를 돌아가면서 사용하여 k-fold를 진행한다. 이때문에 group의 개수는 fold의 개수와 같거나 fold 개수보다 커야 한다. group의 개수와 fold의 개수가 같을 경우, 모든 group들이 한번씩 test 데이터로 적용될 것이고, group의 개수보다 fold의 개수가 적을 경우 일부 group들은 test 데이터로 적용이 되지 않고 교차 분석이 완료됨"
   ]
  },
  {
   "cell_type": "markdown",
   "id": "2a010d5e",
   "metadata": {},
   "source": [
    "5. Stratified Group K-fold 교차분석\n",
    ">- Group K-fold 방식인데 training 및 test 타겟변수의 class가 원본 데이터의 class 비율과 동일하게 가져가도록 데이터를 분할하는 방법이다. 구현 방법은 위의 GroupKFold 함수 대신 StratifiedGroupKFold 함수를 사용하면 된다.\n",
    "\n",
    "- Scikit Learn에 있는 5개의 데이터 분할 방법을 다 해서 비교를 해보았는데 데이터 상황에 따라 적절한 교차 분석법을 선택해서 사용"
   ]
  },
  {
   "cell_type": "markdown",
   "id": "dfc614f2",
   "metadata": {},
   "source": [
    "### 1-3 모형구축 \n",
    "1. 랜덤포레스트/SVM/XGBoost 공통점\n",
    "2. 3가지로 모델링하고 적합알고리즘 선택, 한계점 설명, 보완 가능 부분  : 성과평가 및 속도측면\n",
    "3. 성능개선위해 추가사항 :  Featuring Engineering, 스케일링 등  \n",
    "4. 현업에서 운영할 때 고려사항"
   ]
  },
  {
   "cell_type": "code",
   "execution_count": null,
   "id": "4efbd17e",
   "metadata": {},
   "outputs": [],
   "source": []
  },
  {
   "cell_type": "markdown",
   "id": "4e8076e7",
   "metadata": {},
   "source": [
    "## 2. 회귀\n",
    "#### 1. train_test 8:2분리 => train으로 선형회귀 모델구축 & test으로 RMSE,결정계수\n",
    "#### 2. train_test 8:2분리 => train으로 Ridge회귀 모델구축 & test으로 RMSE,결정계수\n",
    ">- 알파 0~1까지 0.1간격으로 하여 가장 좋은 결정계수 갖는 알파 찾기\n",
    "#### 3. train_test 8:2분리 => train으로 Lasso회귀 모델구축 & test으로 RMSE,결정계수\n",
    ">- 알파 0~1까지 0.1간격으로 하여 가장 좋은 결정계수 갖는 알파 찾기"
   ]
  },
  {
   "cell_type": "code",
   "execution_count": 23,
   "id": "8f16b4c9",
   "metadata": {},
   "outputs": [],
   "source": [
    "# x 데이터 준비 : \n",
    "import pandas as pd\n",
    "dfx=pd.read_csv('https://bit.ly/perch_csv')"
   ]
  },
  {
   "cell_type": "code",
   "execution_count": 24,
   "id": "bcd7573f",
   "metadata": {},
   "outputs": [],
   "source": [
    "# y 데이터 준비\n",
    "import numpy as np\n",
    "perch_weight = np.array([5.9, 32.0, 40.0, 51.5, 70.0, 100.0, 78.0, 80.0, 85.0, 85.0, 110.0,\n",
    "       115.0, 125.0, 130.0, 120.0, 120.0, 130.0, 135.0, 110.0, 130.0,\n",
    "       150.0, 145.0, 150.0, 170.0, 225.0, 145.0, 188.0, 180.0, 197.0,\n",
    "       218.0, 300.0, 260.0, 265.0, 250.0, 250.0, 300.0, 320.0, 514.0,\n",
    "       556.0, 840.0, 685.0, 700.0, 700.0, 690.0, 900.0, 650.0, 820.0,\n",
    "       850.0, 900.0, 1015.0, 820.0, 1100.0, 1000.0, 1100.0, 1000.0,\n",
    "       1000.0])\n",
    "dfy=pd.DataFrame(perch_weight,columns=['weight'])"
   ]
  },
  {
   "cell_type": "code",
   "execution_count": 25,
   "id": "c99ec99d",
   "metadata": {},
   "outputs": [],
   "source": [
    "# 8:2 나누기\n",
    "from sklearn.model_selection import train_test_split\n",
    "train_x,test_x,train_y,test_y=train_test_split(dfx,dfy,test_size=0.2, random_state=42) "
   ]
  },
  {
   "cell_type": "code",
   "execution_count": 27,
   "id": "c2f50c85",
   "metadata": {},
   "outputs": [],
   "source": [
    "# 다항회귀 : PolynomialFeatures클래스 연습 (특성의 제곱과 특성끼리 곱항을 추가, : 절편의1 을 무시하려면 include_bias=False )\n",
    "from sklearn.preprocessing import PolynomialFeatures\n",
    "poly=PolynomialFeatures(degree=3,include_bias=False)  # 디폴트 값 : degree=2"
   ]
  },
  {
   "cell_type": "code",
   "execution_count": 28,
   "id": "6a89e927",
   "metadata": {},
   "outputs": [
    {
     "name": "stdout",
     "output_type": "stream",
     "text": [
      "(44, 19)\n"
     ]
    },
    {
     "data": {
      "text/plain": [
       "['x0',\n",
       " 'x1',\n",
       " 'x2',\n",
       " 'x0^2',\n",
       " 'x0 x1',\n",
       " 'x0 x2',\n",
       " 'x1^2',\n",
       " 'x1 x2',\n",
       " 'x2^2',\n",
       " 'x0^3',\n",
       " 'x0^2 x1',\n",
       " 'x0^2 x2',\n",
       " 'x0 x1^2',\n",
       " 'x0 x1 x2',\n",
       " 'x0 x2^2',\n",
       " 'x1^3',\n",
       " 'x1^2 x2',\n",
       " 'x1 x2^2',\n",
       " 'x2^3']"
      ]
     },
     "execution_count": 28,
     "metadata": {},
     "output_type": "execute_result"
    }
   ],
   "source": [
    "# train_x 에 적용\n",
    "poly.fit(train_x)\n",
    "train_poly_x=poly.transform(train_x)\n",
    "print(train_poly_x.shape)\n",
    "poly.get_feature_names()"
   ]
  },
  {
   "cell_type": "code",
   "execution_count": 29,
   "id": "dabbce76",
   "metadata": {},
   "outputs": [],
   "source": [
    "# test_x 에 적용\n",
    "# poly.fit(test_x)\n",
    "test_poly_x=poly.transform(test_x)"
   ]
  },
  {
   "cell_type": "code",
   "execution_count": 30,
   "id": "dfbac7b1",
   "metadata": {},
   "outputs": [
    {
     "data": {
      "text/plain": [
       "LinearRegression()"
      ]
     },
     "execution_count": 30,
     "metadata": {},
     "output_type": "execute_result"
    }
   ],
   "source": [
    "# 다중회귀모델 훈련\n",
    "from sklearn.linear_model import LinearRegression\n",
    "lr=LinearRegression()\n",
    "lr.fit(train_poly_x,train_y)\n",
    "# lr.score(test_poly_x,test_y),lr.score(train_poly_x,train_y)"
   ]
  },
  {
   "cell_type": "code",
   "execution_count": 31,
   "id": "323b0da9",
   "metadata": {},
   "outputs": [
    {
     "name": "stdout",
     "output_type": "stream",
     "text": [
      "0.9962094351095457\n",
      "rmse :  21.194466478365904\n",
      "r2_score :  0.9079822742096391\n",
      "rmse :  103.52989793260107\n"
     ]
    }
   ],
   "source": [
    "# 평가하기 : Metrics\n",
    "from sklearn.metrics import r2_score,mean_squared_error, mean_absolute_error\n",
    "\n",
    "# train set 에 대해서\n",
    "Y_PRED_TR=lr.predict(train_poly_x)\n",
    "print(r2_score(train_y,Y_PRED_TR))\n",
    "print('rmse : ' , np.sqrt(mean_squared_error(train_y,Y_PRED_TR)))\n",
    "# test_set에 대해서 \n",
    "Y_PRED=lr.predict(test_poly_x)\n",
    "print('r2_score : ', r2_score(test_y,Y_PRED))\n",
    "print('rmse : ' , np.sqrt(mean_squared_error(test_y,Y_PRED)))"
   ]
  },
  {
   "cell_type": "markdown",
   "id": "44c63dd3",
   "metadata": {},
   "source": [
    "- 과대적합 발생==> 규제 필요=> Ridge, Lasso 회귀모형\n",
    "- 이를 위해 정규화 필요\n",
    ">- 보통 선형회귀는 정규화가 필요없으나 로지스틱, Ridge, Lasso 회귀모형에는 정규화가 필요\n",
    ">- 선형회귀와 결정트리기반은 정규화 필요없음"
   ]
  },
  {
   "cell_type": "code",
   "execution_count": 32,
   "id": "80cc0f65",
   "metadata": {},
   "outputs": [],
   "source": [
    "# 정규화\n",
    "from sklearn.preprocessing import StandardScaler\n",
    "ss=StandardScaler()\n",
    "ss.fit(train_poly_x)\n",
    "train_poly_s_x=ss.transform(train_poly_x)  # 꼭 훈련세트로 학습한 변환기로 테스트 세트까지 변환해야!!!!!!!\n",
    "test_poly_s_x=ss.transform(test_poly_x)"
   ]
  },
  {
   "cell_type": "markdown",
   "id": "b049b12f",
   "metadata": {},
   "source": [
    "규제모델 : 머신러닝모델이 훈련세트를 너무 과도하게 학습하지 못하도록 훼방하는 것 즉 선형모델의 경우 계수의 기울기를 작게하는 것\n",
    " - Ridge모델 : 계수를 제곱한 값을 기준으로 규제를 가함\n",
    " - Lasso모델 : 계수의 절댓값을 기준으로 규제 적용"
   ]
  },
  {
   "cell_type": "code",
   "execution_count": 33,
   "id": "2da57263",
   "metadata": {},
   "outputs": [
    {
     "name": "stdout",
     "output_type": "stream",
     "text": [
      "0.9892295938058047\n",
      "rmse :  35.72617836273969\n",
      "r2_score :  0.9828967941306507\n",
      "rmse :  44.634307361654386\n"
     ]
    }
   ],
   "source": [
    "from sklearn.linear_model import Ridge\n",
    "ridge=Ridge()\n",
    "ridge.fit(train_poly_s_x, train_y)\n",
    "\n",
    "# 평가하기 : Metrics\n",
    "from sklearn.metrics import r2_score,mean_squared_error, mean_absolute_error\n",
    "\n",
    "# train set 에 대해서\n",
    "Y_PRED_TR=ridge.predict(train_poly_s_x)\n",
    "print(r2_score(train_y,Y_PRED_TR))\n",
    "print('rmse : ' , np.sqrt(mean_squared_error(train_y,Y_PRED_TR)))\n",
    "# test_set에 대해서 \n",
    "Y_PRED=ridge.predict(test_poly_s_x)\n",
    "print('r2_score : ', r2_score(test_y,Y_PRED))\n",
    "print('rmse : ' , np.sqrt(mean_squared_error(test_y,Y_PRED)))"
   ]
  },
  {
   "cell_type": "markdown",
   "id": "edb5eb16",
   "metadata": {},
   "source": [
    "ㅇ 규제의 강도 : 매개변수 alpha 로 조절(Hyper parameter)\n",
    " - 값이 크면 규제강도가 세지고 조금 더 과소적합되도록 유도합니다.\n",
    " - 값이 작으면 계수를 줄이는 역할이 줄어들고 선형회귀 모델과 유사해 지므로 과대적합될 가능성이 큽니다.\n",
    "\n",
    "==> 최적 alpha 값은? 훈련세트와 테스트 세트의 점수가 가장 가까운 지점이 최적 "
   ]
  },
  {
   "cell_type": "code",
   "execution_count": 34,
   "id": "cc881611",
   "metadata": {},
   "outputs": [
    {
     "data": {
      "image/png": "[encoded data removed]",
      "text/plain": [
       "<Figure size 432x288 with 1 Axes>"
      ]
     },
     "metadata": {
      "needs_background": "light"
     },
     "output_type": "display_data"
    }
   ],
   "source": [
    "import matplotlib.pyplot as plt\n",
    "train_score=[]\n",
    "test_score=[]\n",
    "\n",
    "# alpha값을 0.001 ~ 100 까지 10배씩 늘려가며 ridge 회귀 모델 훈련\n",
    "alpha_list=[0.001,0.01,0.1,1,10,100]\n",
    "for i in alpha_list:\n",
    "  ridge=Ridge(alpha=i)\n",
    "  ridge.fit(train_poly_s_x,train_y)\n",
    "  train_score.append(ridge.score(train_poly_s_x,train_y))\n",
    "  test_score.append(ridge.score(test_poly_s_x,test_y))\n",
    "\n",
    "plt.plot(np.log10(alpha_list),train_score )\n",
    "plt.plot(np.log10(alpha_list),test_score )\n",
    "plt.show()"
   ]
  },
  {
   "cell_type": "code",
   "execution_count": 35,
   "id": "055dd67a",
   "metadata": {},
   "outputs": [
    {
     "name": "stdout",
     "output_type": "stream",
     "text": [
      "0.9875729121160615\n",
      "rmse :  38.3756023823027\n",
      "r2_score :  0.9841995017340579\n",
      "rmse :  42.900803807068826\n"
     ]
    }
   ],
   "source": [
    "ridge=Ridge(alpha=10)\n",
    "ridge.fit(train_poly_s_x,train_y)\n",
    "# train set 에 대해서\n",
    "Y_PRED_TR=ridge.predict(train_poly_s_x)\n",
    "print(r2_score(train_y,Y_PRED_TR))\n",
    "print('rmse : ' , np.sqrt(mean_squared_error(train_y,Y_PRED_TR)))\n",
    "# test_set에 대해서 \n",
    "Y_PRED=ridge.predict(test_poly_s_x)\n",
    "print('r2_score : ', r2_score(test_y,Y_PRED))\n",
    "print('rmse : ' , np.sqrt(mean_squared_error(test_y,Y_PRED)))"
   ]
  },
  {
   "cell_type": "code",
   "execution_count": 37,
   "id": "41259e29",
   "metadata": {},
   "outputs": [
    {
     "name": "stdout",
     "output_type": "stream",
     "text": [
      "0.9895576608653113\n",
      "rmse :  35.17786011945825\n",
      "r2_score :  0.9821642757021882\n",
      "rmse :  45.580114658261834\n"
     ]
    }
   ],
   "source": [
    "from sklearn.linear_model import Lasso\n",
    "lasso=Lasso()\n",
    "lasso.fit(train_poly_s_x,train_y)\n",
    "\n",
    "# 평가하기 : Metrics\n",
    "from sklearn.metrics import r2_score,mean_squared_error, mean_absolute_error\n",
    "\n",
    "# train set 에 대해서\n",
    "Y_PRED_TR=lasso.predict(train_poly_s_x)\n",
    "print(r2_score(train_y,Y_PRED_TR))\n",
    "print('rmse : ' , np.sqrt(mean_squared_error(train_y,Y_PRED_TR)))\n",
    "# test_set에 대해서 \n",
    "Y_PRED=lasso.predict(test_poly_s_x)\n",
    "print('r2_score : ', r2_score(test_y,Y_PRED))\n",
    "print('rmse : ' , np.sqrt(mean_squared_error(test_y,Y_PRED)))"
   ]
  },
  {
   "cell_type": "code",
   "execution_count": 38,
   "id": "ecc62bbe",
   "metadata": {},
   "outputs": [
    {
     "name": "stderr",
     "output_type": "stream",
     "text": [
      "C:\\Users\\holon\\anaconda3\\lib\\site-packages\\sklearn\\linear_model\\_coordinate_descent.py:530: ConvergenceWarning: Objective did not converge. You might want to increase the number of iterations. Duality gap: 25714.54715165163, tolerance: 521.4272431818183\n",
      "  model = cd_fast.enet_coordinate_descent(\n",
      "C:\\Users\\holon\\anaconda3\\lib\\site-packages\\sklearn\\linear_model\\_coordinate_descent.py:530: ConvergenceWarning: Objective did not converge. You might want to increase the number of iterations. Duality gap: 18641.26676884901, tolerance: 521.4272431818183\n",
      "  model = cd_fast.enet_coordinate_descent(\n",
      "C:\\Users\\holon\\anaconda3\\lib\\site-packages\\sklearn\\linear_model\\_coordinate_descent.py:530: ConvergenceWarning: Objective did not converge. You might want to increase the number of iterations. Duality gap: 3186.141443227978, tolerance: 521.4272431818183\n",
      "  model = cd_fast.enet_coordinate_descent(\n",
      "C:\\Users\\holon\\anaconda3\\lib\\site-packages\\sklearn\\linear_model\\_coordinate_descent.py:530: ConvergenceWarning: Objective did not converge. You might want to increase the number of iterations. Duality gap: 952.7350205899493, tolerance: 521.4272431818183\n",
      "  model = cd_fast.enet_coordinate_descent(\n"
     ]
    },
    {
     "data": {
      "image/png": "[encoded data removed]",
      "text/plain": [
       "<Figure size 432x288 with 1 Axes>"
      ]
     },
     "metadata": {
      "needs_background": "light"
     },
     "output_type": "display_data"
    }
   ],
   "source": [
    "import matplotlib.pyplot as plt\n",
    "train_score=[]\n",
    "test_score=[]\n",
    "\n",
    "# alpha값을 0.001 ~ 100 까지 10배씩 늘려가며 Lasso 회귀 모델 훈련\n",
    "alpha_list=[0.001,0.01,0.1,1,10,100]\n",
    "for i in alpha_list:\n",
    "  lasso=Lasso(alpha=i)\n",
    "  lasso.fit(train_poly_s_x,train_y)\n",
    "  train_score.append(lasso.score(train_poly_s_x,train_y))\n",
    "  test_score.append(lasso.score(test_poly_s_x,test_y))\n",
    "\n",
    "plt.plot(np.log10(alpha_list),train_score )\n",
    "plt.plot(np.log10(alpha_list),test_score )\n",
    "plt.show()"
   ]
  },
  {
   "cell_type": "markdown",
   "id": "9257d97d",
   "metadata": {},
   "source": [
    "이 그래프도 왼쪽은 과대적합을 , 오른쪽은 과소적합을 보여줌\n",
    "\n",
    "Lasso모델 최적 alpha= 1(즉 10) 일 때 입니다."
   ]
  },
  {
   "cell_type": "code",
   "execution_count": 39,
   "id": "888d5346",
   "metadata": {},
   "outputs": [
    {
     "name": "stdout",
     "output_type": "stream",
     "text": [
      "0.9875729121160615\n",
      "rmse :  38.3756023823027\n",
      "r2_score :  0.9841995017340579\n",
      "rmse :  42.900803807068826\n"
     ]
    },
    {
     "name": "stderr",
     "output_type": "stream",
     "text": [
      "C:\\Users\\holon\\anaconda3\\lib\\site-packages\\sklearn\\linear_model\\_coordinate_descent.py:530: ConvergenceWarning: Objective did not converge. You might want to increase the number of iterations. Duality gap: 952.7350205899493, tolerance: 521.4272431818183\n",
      "  model = cd_fast.enet_coordinate_descent(\n"
     ]
    }
   ],
   "source": [
    "lasso=Lasso(alpha=10)\n",
    "lasso.fit(train_poly_s_x,train_y)\n",
    "# train set 에 대해서\n",
    "Y_PRED_TR=ridge.predict(train_poly_s_x)\n",
    "print(r2_score(train_y,Y_PRED_TR))\n",
    "print('rmse : ' , np.sqrt(mean_squared_error(train_y,Y_PRED_TR)))\n",
    "# test_set에 대해서 \n",
    "Y_PRED=ridge.predict(test_poly_s_x)\n",
    "print('r2_score : ', r2_score(test_y,Y_PRED))\n",
    "print('rmse : ' , np.sqrt(mean_squared_error(test_y,Y_PRED)))"
   ]
  },
  {
   "cell_type": "markdown",
   "id": "4c1536cf",
   "metadata": {},
   "source": [
    "### 3. 다항회귀 그래프 시각화\n",
    "- 다항회귀를 3차까지 실시하고 각 항별로 그래프를 그려 코드와 함께 제출"
   ]
  },
  {
   "cell_type": "code",
   "execution_count": 1,
   "id": "fa69fea7",
   "metadata": {},
   "outputs": [],
   "source": [
    "import pandas as pd\n",
    "a=[[1,2,3,4,5,6,7,8,9],[5,3,2,3,4,6,10,12,18]]\n",
    "df12=pd.DataFrame(a)\n",
    "df13=df12.T\n",
    "df13.columns=['x','y']"
   ]
  },
  {
   "cell_type": "code",
   "execution_count": 2,
   "id": "edb46a63",
   "metadata": {},
   "outputs": [
    {
     "data": {
      "image/png": "[encoded data removed]",
      "text/plain": [
       "<Figure size 432x288 with 1 Axes>"
      ]
     },
     "metadata": {
      "needs_background": "light"
     },
     "output_type": "display_data"
    }
   ],
   "source": [
    "import matplotlib.pyplot as plt\n",
    "plt.scatter(df13.x,df13.y)\n",
    "plt.show()\n",
    "\n",
    "# 비교\n",
    "# df13.plot('x','y')"
   ]
  },
  {
   "cell_type": "markdown",
   "id": "137ba55f",
   "metadata": {},
   "source": [
    "- 산점도를 보면 다항회귀식이 필요"
   ]
  },
  {
   "cell_type": "code",
   "execution_count": 3,
   "id": "38fefb39",
   "metadata": {},
   "outputs": [],
   "source": [
    "import sklearn\n",
    "import statsmodels.api as sm\n",
    "import statsmodels.formula.api as smf      # R의 formula 식 유사하게 쓰임"
   ]
  },
  {
   "cell_type": "code",
   "execution_count": 4,
   "id": "b943b5b4",
   "metadata": {
    "scrolled": true
   },
   "outputs": [
    {
     "name": "stderr",
     "output_type": "stream",
     "text": [
      "C:\\Users\\holon\\anaconda3\\lib\\site-packages\\scipy\\stats\\stats.py:1541: UserWarning: kurtosistest only valid for n>=20 ... continuing anyway, n=9\n",
      "  warnings.warn(\"kurtosistest only valid for n>=20 ... continuing \"\n"
     ]
    },
    {
     "data": {
      "text/html": [
       "<table class=\"simpletable\">\n",
       "<caption>OLS Regression Results</caption>\n",
       "<tr>\n",
       "  <th>Dep. Variable:</th>            <td>y</td>        <th>  R-squared:         </th> <td>   0.708</td>\n",
       "</tr>\n",
       "<tr>\n",
       "  <th>Model:</th>                   <td>OLS</td>       <th>  Adj. R-squared:    </th> <td>   0.667</td>\n",
       "</tr>\n",
       "<tr>\n",
       "  <th>Method:</th>             <td>Least Squares</td>  <th>  F-statistic:       </th> <td>   16.99</td>\n",
       "</tr>\n",
       "<tr>\n",
       "  <th>Date:</th>             <td>Sat, 22 Jan 2022</td> <th>  Prob (F-statistic):</th>  <td>0.00445</td>\n",
       "</tr>\n",
       "<tr>\n",
       "  <th>Time:</th>                 <td>22:25:17</td>     <th>  Log-Likelihood:    </th> <td> -21.732</td>\n",
       "</tr>\n",
       "<tr>\n",
       "  <th>No. Observations:</th>      <td>     9</td>      <th>  AIC:               </th> <td>   47.46</td>\n",
       "</tr>\n",
       "<tr>\n",
       "  <th>Df Residuals:</th>          <td>     7</td>      <th>  BIC:               </th> <td>   47.86</td>\n",
       "</tr>\n",
       "<tr>\n",
       "  <th>Df Model:</th>              <td>     1</td>      <th>                     </th>     <td> </td>   \n",
       "</tr>\n",
       "<tr>\n",
       "  <th>Covariance Type:</th>      <td>nonrobust</td>    <th>                     </th>     <td> </td>   \n",
       "</tr>\n",
       "</table>\n",
       "<table class=\"simpletable\">\n",
       "<tr>\n",
       "      <td></td>         <th>coef</th>     <th>std err</th>      <th>t</th>      <th>P>|t|</th>  <th>[0.025</th>    <th>0.975]</th>  \n",
       "</tr>\n",
       "<tr>\n",
       "  <th>Intercept</th> <td>   -1.1667</td> <td>    2.230</td> <td>   -0.523</td> <td> 0.617</td> <td>   -6.439</td> <td>    4.106</td>\n",
       "</tr>\n",
       "<tr>\n",
       "  <th>x</th>         <td>    1.6333</td> <td>    0.396</td> <td>    4.122</td> <td> 0.004</td> <td>    0.696</td> <td>    2.570</td>\n",
       "</tr>\n",
       "</table>\n",
       "<table class=\"simpletable\">\n",
       "<tr>\n",
       "  <th>Omnibus:</th>       <td> 1.451</td> <th>  Durbin-Watson:     </th> <td>   0.696</td>\n",
       "</tr>\n",
       "<tr>\n",
       "  <th>Prob(Omnibus):</th> <td> 0.484</td> <th>  Jarque-Bera (JB):  </th> <td>   1.008</td>\n",
       "</tr>\n",
       "<tr>\n",
       "  <th>Skew:</th>          <td> 0.668</td> <th>  Prob(JB):          </th> <td>   0.604</td>\n",
       "</tr>\n",
       "<tr>\n",
       "  <th>Kurtosis:</th>      <td> 2.051</td> <th>  Cond. No.          </th> <td>    12.6</td>\n",
       "</tr>\n",
       "</table><br/><br/>Notes:<br/>[1] Standard Errors assume that the covariance matrix of the errors is correctly specified."
      ],
      "text/plain": [
       "<class 'statsmodels.iolib.summary.Summary'>\n",
       "\"\"\"\n",
       "                            OLS Regression Results                            \n",
       "==============================================================================\n",
       "Dep. Variable:                      y   R-squared:                       0.708\n",
       "Model:                            OLS   Adj. R-squared:                  0.667\n",
       "Method:                 Least Squares   F-statistic:                     16.99\n",
       "Date:                Sat, 22 Jan 2022   Prob (F-statistic):            0.00445\n",
       "Time:                        22:25:17   Log-Likelihood:                -21.732\n",
       "No. Observations:                   9   AIC:                             47.46\n",
       "Df Residuals:                       7   BIC:                             47.86\n",
       "Df Model:                           1                                         \n",
       "Covariance Type:            nonrobust                                         \n",
       "==============================================================================\n",
       "                 coef    std err          t      P>|t|      [0.025      0.975]\n",
       "------------------------------------------------------------------------------\n",
       "Intercept     -1.1667      2.230     -0.523      0.617      -6.439       4.106\n",
       "x              1.6333      0.396      4.122      0.004       0.696       2.570\n",
       "==============================================================================\n",
       "Omnibus:                        1.451   Durbin-Watson:                   0.696\n",
       "Prob(Omnibus):                  0.484   Jarque-Bera (JB):                1.008\n",
       "Skew:                           0.668   Prob(JB):                        0.604\n",
       "Kurtosis:                       2.051   Cond. No.                         12.6\n",
       "==============================================================================\n",
       "\n",
       "Notes:\n",
       "[1] Standard Errors assume that the covariance matrix of the errors is correctly specified.\n",
       "\"\"\""
      ]
     },
     "execution_count": 4,
     "metadata": {},
     "output_type": "execute_result"
    }
   ],
   "source": [
    "lm = smf.ols(formula='y ~ x', data=df13)\n",
    "res=lm.fit()\n",
    "res.summary() "
   ]
  },
  {
   "cell_type": "code",
   "execution_count": 5,
   "id": "a058ae55",
   "metadata": {
    "scrolled": true
   },
   "outputs": [
    {
     "name": "stderr",
     "output_type": "stream",
     "text": [
      "C:\\Users\\holon\\anaconda3\\lib\\site-packages\\scipy\\stats\\stats.py:1541: UserWarning: kurtosistest only valid for n>=20 ... continuing anyway, n=9\n",
      "  warnings.warn(\"kurtosistest only valid for n>=20 ... continuing \"\n"
     ]
    },
    {
     "data": {
      "text/html": [
       "<table class=\"simpletable\">\n",
       "<caption>OLS Regression Results</caption>\n",
       "<tr>\n",
       "  <th>Dep. Variable:</th>            <td>y</td>        <th>  R-squared:         </th> <td>   0.990</td>\n",
       "</tr>\n",
       "<tr>\n",
       "  <th>Model:</th>                   <td>OLS</td>       <th>  Adj. R-squared:    </th> <td>   0.986</td>\n",
       "</tr>\n",
       "<tr>\n",
       "  <th>Method:</th>             <td>Least Squares</td>  <th>  F-statistic:       </th> <td>   292.2</td>\n",
       "</tr>\n",
       "<tr>\n",
       "  <th>Date:</th>             <td>Sat, 22 Jan 2022</td> <th>  Prob (F-statistic):</th> <td>1.05e-06</td>\n",
       "</tr>\n",
       "<tr>\n",
       "  <th>Time:</th>                 <td>22:25:28</td>     <th>  Log-Likelihood:    </th> <td> -6.6251</td>\n",
       "</tr>\n",
       "<tr>\n",
       "  <th>No. Observations:</th>      <td>     9</td>      <th>  AIC:               </th> <td>   19.25</td>\n",
       "</tr>\n",
       "<tr>\n",
       "  <th>Df Residuals:</th>          <td>     6</td>      <th>  BIC:               </th> <td>   19.84</td>\n",
       "</tr>\n",
       "<tr>\n",
       "  <th>Df Model:</th>              <td>     2</td>      <th>                     </th>     <td> </td>   \n",
       "</tr>\n",
       "<tr>\n",
       "  <th>Covariance Type:</th>      <td>nonrobust</td>    <th>                     </th>     <td> </td>   \n",
       "</tr>\n",
       "</table>\n",
       "<table class=\"simpletable\">\n",
       "<tr>\n",
       "      <td></td>         <th>coef</th>     <th>std err</th>      <th>t</th>      <th>P>|t|</th>  <th>[0.025</th>    <th>0.975]</th>  \n",
       "</tr>\n",
       "<tr>\n",
       "  <th>Intercept</th> <td>    7.1667</td> <td>    0.787</td> <td>    9.103</td> <td> 0.000</td> <td>    5.240</td> <td>    9.093</td>\n",
       "</tr>\n",
       "<tr>\n",
       "  <th>x</th>         <td>   -2.9121</td> <td>    0.361</td> <td>   -8.056</td> <td> 0.000</td> <td>   -3.797</td> <td>   -2.028</td>\n",
       "</tr>\n",
       "<tr>\n",
       "  <th>x2</th>        <td>    0.4545</td> <td>    0.035</td> <td>   12.893</td> <td> 0.000</td> <td>    0.368</td> <td>    0.541</td>\n",
       "</tr>\n",
       "</table>\n",
       "<table class=\"simpletable\">\n",
       "<tr>\n",
       "  <th>Omnibus:</th>       <td> 0.843</td> <th>  Durbin-Watson:     </th> <td>   3.026</td>\n",
       "</tr>\n",
       "<tr>\n",
       "  <th>Prob(Omnibus):</th> <td> 0.656</td> <th>  Jarque-Bera (JB):  </th> <td>   0.023</td>\n",
       "</tr>\n",
       "<tr>\n",
       "  <th>Skew:</th>          <td>-0.122</td> <th>  Prob(JB):          </th> <td>   0.989</td>\n",
       "</tr>\n",
       "<tr>\n",
       "  <th>Kurtosis:</th>      <td> 2.962</td> <th>  Cond. No.          </th> <td>    173.</td>\n",
       "</tr>\n",
       "</table><br/><br/>Notes:<br/>[1] Standard Errors assume that the covariance matrix of the errors is correctly specified."
      ],
      "text/plain": [
       "<class 'statsmodels.iolib.summary.Summary'>\n",
       "\"\"\"\n",
       "                            OLS Regression Results                            \n",
       "==============================================================================\n",
       "Dep. Variable:                      y   R-squared:                       0.990\n",
       "Model:                            OLS   Adj. R-squared:                  0.986\n",
       "Method:                 Least Squares   F-statistic:                     292.2\n",
       "Date:                Sat, 22 Jan 2022   Prob (F-statistic):           1.05e-06\n",
       "Time:                        22:25:28   Log-Likelihood:                -6.6251\n",
       "No. Observations:                   9   AIC:                             19.25\n",
       "Df Residuals:                       6   BIC:                             19.84\n",
       "Df Model:                           2                                         \n",
       "Covariance Type:            nonrobust                                         \n",
       "==============================================================================\n",
       "                 coef    std err          t      P>|t|      [0.025      0.975]\n",
       "------------------------------------------------------------------------------\n",
       "Intercept      7.1667      0.787      9.103      0.000       5.240       9.093\n",
       "x             -2.9121      0.361     -8.056      0.000      -3.797      -2.028\n",
       "x2             0.4545      0.035     12.893      0.000       0.368       0.541\n",
       "==============================================================================\n",
       "Omnibus:                        0.843   Durbin-Watson:                   3.026\n",
       "Prob(Omnibus):                  0.656   Jarque-Bera (JB):                0.023\n",
       "Skew:                          -0.122   Prob(JB):                        0.989\n",
       "Kurtosis:                       2.962   Cond. No.                         173.\n",
       "==============================================================================\n",
       "\n",
       "Notes:\n",
       "[1] Standard Errors assume that the covariance matrix of the errors is correctly specified.\n",
       "\"\"\""
      ]
     },
     "execution_count": 5,
     "metadata": {},
     "output_type": "execute_result"
    }
   ],
   "source": [
    "df13['x2']=df13['x']*df13['x']\n",
    "lm2 = smf.ols(formula='y ~ x+x2', data=df13)\n",
    "res2=lm2.fit()\n",
    "res2.summary() "
   ]
  },
  {
   "cell_type": "code",
   "execution_count": 6,
   "id": "174c350d",
   "metadata": {},
   "outputs": [
    {
     "name": "stderr",
     "output_type": "stream",
     "text": [
      "C:\\Users\\holon\\anaconda3\\lib\\site-packages\\scipy\\stats\\stats.py:1541: UserWarning: kurtosistest only valid for n>=20 ... continuing anyway, n=9\n",
      "  warnings.warn(\"kurtosistest only valid for n>=20 ... continuing \"\n"
     ]
    },
    {
     "data": {
      "text/html": [
       "<table class=\"simpletable\">\n",
       "<caption>OLS Regression Results</caption>\n",
       "<tr>\n",
       "  <th>Dep. Variable:</th>            <td>y</td>        <th>  R-squared:         </th> <td>   0.990</td>\n",
       "</tr>\n",
       "<tr>\n",
       "  <th>Model:</th>                   <td>OLS</td>       <th>  Adj. R-squared:    </th> <td>   0.985</td>\n",
       "</tr>\n",
       "<tr>\n",
       "  <th>Method:</th>             <td>Least Squares</td>  <th>  F-statistic:       </th> <td>   173.4</td>\n",
       "</tr>\n",
       "<tr>\n",
       "  <th>Date:</th>             <td>Sat, 22 Jan 2022</td> <th>  Prob (F-statistic):</th> <td>1.80e-05</td>\n",
       "</tr>\n",
       "<tr>\n",
       "  <th>Time:</th>                 <td>22:25:46</td>     <th>  Log-Likelihood:    </th> <td> -6.3307</td>\n",
       "</tr>\n",
       "<tr>\n",
       "  <th>No. Observations:</th>      <td>     9</td>      <th>  AIC:               </th> <td>   20.66</td>\n",
       "</tr>\n",
       "<tr>\n",
       "  <th>Df Residuals:</th>          <td>     5</td>      <th>  BIC:               </th> <td>   21.45</td>\n",
       "</tr>\n",
       "<tr>\n",
       "  <th>Df Model:</th>              <td>     3</td>      <th>                     </th>     <td> </td>   \n",
       "</tr>\n",
       "<tr>\n",
       "  <th>Covariance Type:</th>      <td>nonrobust</td>    <th>                     </th>     <td> </td>   \n",
       "</tr>\n",
       "</table>\n",
       "<table class=\"simpletable\">\n",
       "<tr>\n",
       "      <td></td>         <th>coef</th>     <th>std err</th>      <th>t</th>      <th>P>|t|</th>  <th>[0.025</th>    <th>0.975]</th>  \n",
       "</tr>\n",
       "<tr>\n",
       "  <th>Intercept</th> <td>    7.8333</td> <td>    1.418</td> <td>    5.523</td> <td> 0.003</td> <td>    4.188</td> <td>   11.479</td>\n",
       "</tr>\n",
       "<tr>\n",
       "  <th>x</th>         <td>   -3.5505</td> <td>    1.163</td> <td>   -3.053</td> <td> 0.028</td> <td>   -6.540</td> <td>   -0.561</td>\n",
       "</tr>\n",
       "<tr>\n",
       "  <th>x2</th>        <td>    0.6061</td> <td>    0.263</td> <td>    2.302</td> <td> 0.070</td> <td>   -0.071</td> <td>    1.283</td>\n",
       "</tr>\n",
       "<tr>\n",
       "  <th>x3</th>        <td>   -0.0101</td> <td>    0.017</td> <td>   -0.581</td> <td> 0.586</td> <td>   -0.055</td> <td>    0.035</td>\n",
       "</tr>\n",
       "</table>\n",
       "<table class=\"simpletable\">\n",
       "<tr>\n",
       "  <th>Omnibus:</th>       <td> 2.246</td> <th>  Durbin-Watson:     </th> <td>   3.278</td>\n",
       "</tr>\n",
       "<tr>\n",
       "  <th>Prob(Omnibus):</th> <td> 0.325</td> <th>  Jarque-Bera (JB):  </th> <td>   0.518</td>\n",
       "</tr>\n",
       "<tr>\n",
       "  <th>Skew:</th>          <td>-0.581</td> <th>  Prob(JB):          </th> <td>   0.772</td>\n",
       "</tr>\n",
       "<tr>\n",
       "  <th>Kurtosis:</th>      <td> 3.175</td> <th>  Cond. No.          </th> <td>2.77e+03</td>\n",
       "</tr>\n",
       "</table><br/><br/>Notes:<br/>[1] Standard Errors assume that the covariance matrix of the errors is correctly specified.<br/>[2] The condition number is large, 2.77e+03. This might indicate that there are<br/>strong multicollinearity or other numerical problems."
      ],
      "text/plain": [
       "<class 'statsmodels.iolib.summary.Summary'>\n",
       "\"\"\"\n",
       "                            OLS Regression Results                            \n",
       "==============================================================================\n",
       "Dep. Variable:                      y   R-squared:                       0.990\n",
       "Model:                            OLS   Adj. R-squared:                  0.985\n",
       "Method:                 Least Squares   F-statistic:                     173.4\n",
       "Date:                Sat, 22 Jan 2022   Prob (F-statistic):           1.80e-05\n",
       "Time:                        22:25:46   Log-Likelihood:                -6.3307\n",
       "No. Observations:                   9   AIC:                             20.66\n",
       "Df Residuals:                       5   BIC:                             21.45\n",
       "Df Model:                           3                                         \n",
       "Covariance Type:            nonrobust                                         \n",
       "==============================================================================\n",
       "                 coef    std err          t      P>|t|      [0.025      0.975]\n",
       "------------------------------------------------------------------------------\n",
       "Intercept      7.8333      1.418      5.523      0.003       4.188      11.479\n",
       "x             -3.5505      1.163     -3.053      0.028      -6.540      -0.561\n",
       "x2             0.6061      0.263      2.302      0.070      -0.071       1.283\n",
       "x3            -0.0101      0.017     -0.581      0.586      -0.055       0.035\n",
       "==============================================================================\n",
       "Omnibus:                        2.246   Durbin-Watson:                   3.278\n",
       "Prob(Omnibus):                  0.325   Jarque-Bera (JB):                0.518\n",
       "Skew:                          -0.581   Prob(JB):                        0.772\n",
       "Kurtosis:                       3.175   Cond. No.                     2.77e+03\n",
       "==============================================================================\n",
       "\n",
       "Notes:\n",
       "[1] Standard Errors assume that the covariance matrix of the errors is correctly specified.\n",
       "[2] The condition number is large, 2.77e+03. This might indicate that there are\n",
       "strong multicollinearity or other numerical problems.\n",
       "\"\"\""
      ]
     },
     "execution_count": 6,
     "metadata": {},
     "output_type": "execute_result"
    }
   ],
   "source": [
    "df13['x3']=df13['x']*df13['x']*df13['x']\n",
    "lm3 = smf.ols(formula='y ~ x+x2+x3', data=df13)\n",
    "res3=lm3.fit()\n",
    "res3.summary() "
   ]
  },
  {
   "cell_type": "code",
   "execution_count": 9,
   "id": "27ad5360",
   "metadata": {},
   "outputs": [
    {
     "data": {
      "image/png": "[encoded data removed]",
      "text/plain": [
       "<Figure size 432x288 with 1 Axes>"
      ]
     },
     "metadata": {
      "needs_background": "light"
     },
     "output_type": "display_data"
    }
   ],
   "source": [
    "import numpy as np\n",
    "point=np.arange(1,10)\n",
    "plt.plot(point, 1.63333333*point+1.16666667)\n",
    "plt.plot(point, -2.91212121*point+ 0.45454545*point**2+ 7.16666667)\n",
    "plt.plot(point, -3.55050505*point+0.60606061*point**2+ -0.01010101*point**3+ 7.83333333)\n",
    "plt.scatter(df13.x,df13.y)\n",
    "plt.show()"
   ]
  },
  {
   "cell_type": "markdown",
   "id": "41252054",
   "metadata": {},
   "source": [
    "### 4. 이원분산분석(two-way ANOVA)\n",
    "> - 일원분산분석이 한 처치변수의 수준변화가 결과변수에 미치는 영향력에 관한 것이다.\n",
    "> - 무작위블럭디장인은 한 처치변수의 수준변화가 결과변수에 미치는 영향력을 조사할  때 외생변수를 블럭으로 처리한 것이다. 그러므로 이 경우도 일원분산분석처럼 엄격히 말해 한 개의 처치변수의 효과를 조사한 것이다.(주효과만 분석) \n",
    "> - 이와는 달리 동시에 두개의 처치변수의 수준변화에 따른 결과변수 효과를 조사하는 것\n",
    "> - 처치효과로 주효과와 상호작용효로 나누어 볼수 있다(둘다 분석)\n",
    ">> - 주효과 : 각 처치변수의 변화가 결과변수에 미치는 영향에 관한 것\n",
    ">> - 상호작용효과 : 한 처치변수가 다른 처치변수의 변화에 따라 결과변수에 미치는 영향에 관한 것, 상호작용효과가 유의한 경우 주효과는 해석하지 않는다. 무의미한 경우 주효과를 해석한다. \n",
    "\n",
    "> - 해석\n",
    ">> - 상호작용효과가 유의하지 않으면 주효과를 해석  \n",
    ">> - 상호작용효과가 유의하면 주효과는 해석 않함"
   ]
  },
  {
   "cell_type": "markdown",
   "id": "c7673982",
   "metadata": {},
   "source": [
    "##  예제 (이학식 마케팅 조사론 p321) : 성별과 여행빈도가 해외여행태도에 미치는 영향 조사\n",
    ">> -  여행빈도 3범주 , 남녀 나눠 조사. 총 30명\n",
    ">> - 성별(남 1, 여2), 여행빈도(적음 1, 중간 2, 많음 3), 해외여행 태도( 전혀 좋아하지 않음 1, 매우 좋아함 9)\n",
    "\n",
    ">> - 여행빈도와 성별간에 대한 가설 : 상호작용효과\n",
    ">>> - 귀무가설 : 상호작용효과 없다\n",
    ">>> - 대립가설 : 상호작용효과 있다..\n",
    ">> - 여행빈도와 여행태도간에 대한 가설 : 주효과 1\n",
    ">>> - 귀무가설 : 여행빈도와 평균 여행태도점수간에 차이 없다\n",
    ">>> - 대립가설 : 차이 있다..\n",
    ">> - 성별과 여행태도간에 대한 가설 : 주효과 2\n",
    ">>> - 귀무가설 :  성별과 평균 여행태도점수간에 차이 없다\n",
    ">>> - 대립가설 : 차이 있다.."
   ]
  },
  {
   "cell_type": "code",
   "execution_count": 18,
   "id": "26b14bc6",
   "metadata": {},
   "outputs": [
    {
     "data": {
      "text/html": [
       "<div>\n",
       "<style scoped>\n",
       "    .dataframe tbody tr th:only-of-type {\n",
       "        vertical-align: middle;\n",
       "    }\n",
       "\n",
       "    .dataframe tbody tr th {\n",
       "        vertical-align: top;\n",
       "    }\n",
       "\n",
       "    .dataframe thead th {\n",
       "        text-align: right;\n",
       "    }\n",
       "</style>\n",
       "<table border=\"1\" class=\"dataframe\">\n",
       "  <thead>\n",
       "    <tr style=\"text-align: right;\">\n",
       "      <th></th>\n",
       "      <th>sex</th>\n",
       "      <th>travel</th>\n",
       "      <th>points</th>\n",
       "    </tr>\n",
       "  </thead>\n",
       "  <tbody>\n",
       "    <tr>\n",
       "      <th>0</th>\n",
       "      <td>1</td>\n",
       "      <td>1</td>\n",
       "      <td>2</td>\n",
       "    </tr>\n",
       "    <tr>\n",
       "      <th>1</th>\n",
       "      <td>1</td>\n",
       "      <td>1</td>\n",
       "      <td>3</td>\n",
       "    </tr>\n",
       "    <tr>\n",
       "      <th>2</th>\n",
       "      <td>1</td>\n",
       "      <td>1</td>\n",
       "      <td>4</td>\n",
       "    </tr>\n",
       "    <tr>\n",
       "      <th>3</th>\n",
       "      <td>1</td>\n",
       "      <td>1</td>\n",
       "      <td>4</td>\n",
       "    </tr>\n",
       "    <tr>\n",
       "      <th>4</th>\n",
       "      <td>1</td>\n",
       "      <td>1</td>\n",
       "      <td>2</td>\n",
       "    </tr>\n",
       "  </tbody>\n",
       "</table>\n",
       "</div>"
      ],
      "text/plain": [
       "   sex  travel  points\n",
       "0    1       1       2\n",
       "1    1       1       3\n",
       "2    1       1       4\n",
       "3    1       1       4\n",
       "4    1       1       2"
      ]
     },
     "execution_count": 18,
     "metadata": {},
     "output_type": "execute_result"
    }
   ],
   "source": [
    "b=[[1,1,1,1,1,1,1,1,1,1,1,1,1,1,1,2,2,2,2,2,2,2,2,2,2,2,2,2,2,2],\n",
    "   [1,1,1,1,1,2,2,2,2,2,3,3,3,3,3,1,1,1,1,1,2,2,2,2,2,3,3,3,3,3],\n",
    "   [2,3,4,4,2,4,5,5,3,3,8,9,8,7,7,6,7,6,5,7,3,4,5,4,5,6,6,6,7,8]]\n",
    "df10=pd.DataFrame(b)\n",
    "df11=df10.T\n",
    "df11.columns=['sex','travel','points']\n",
    "df11.head()"
   ]
  },
  {
   "cell_type": "code",
   "execution_count": 19,
   "id": "cb93e9fc",
   "metadata": {},
   "outputs": [
    {
     "data": {
      "text/plain": [
       "<AxesSubplot:title={'center':'points'}, xlabel='travel'>"
      ]
     },
     "execution_count": 19,
     "metadata": {},
     "output_type": "execute_result"
    },
    {
     "data": {
      "image/png": "[encoded data removed]",
      "text/plain": [
       "<Figure size 576x360 with 1 Axes>"
      ]
     },
     "metadata": {
      "needs_background": "light"
     },
     "output_type": "display_data"
    }
   ],
   "source": [
    "# 여행빈도별 태도점수 plot 만들기\n",
    "df11.boxplot(column = 'points', by='travel' , grid = False, figsize=(8,5))"
   ]
  },
  {
   "cell_type": "code",
   "execution_count": 20,
   "id": "79d37984",
   "metadata": {},
   "outputs": [
    {
     "data": {
      "text/plain": [
       "<AxesSubplot:title={'center':'points'}, xlabel='sex'>"
      ]
     },
     "execution_count": 20,
     "metadata": {},
     "output_type": "execute_result"
    },
    {
     "data": {
      "image/png": "[encoded data removed]",
      "text/plain": [
       "<Figure size 576x360 with 1 Axes>"
      ]
     },
     "metadata": {
      "needs_background": "light"
     },
     "output_type": "display_data"
    }
   ],
   "source": [
    "# 남녀별 태도점수 plot 만들기\n",
    "df11.boxplot(column = 'points', by='sex' , grid = False, figsize=(8,5))"
   ]
  },
  {
   "cell_type": "code",
   "execution_count": 21,
   "id": "6433d3fd",
   "metadata": {},
   "outputs": [
    {
     "data": {
      "text/html": [
       "<div>\n",
       "<style scoped>\n",
       "    .dataframe tbody tr th:only-of-type {\n",
       "        vertical-align: middle;\n",
       "    }\n",
       "\n",
       "    .dataframe tbody tr th {\n",
       "        vertical-align: top;\n",
       "    }\n",
       "\n",
       "    .dataframe thead th {\n",
       "        text-align: right;\n",
       "    }\n",
       "</style>\n",
       "<table border=\"1\" class=\"dataframe\">\n",
       "  <thead>\n",
       "    <tr style=\"text-align: right;\">\n",
       "      <th></th>\n",
       "      <th>df</th>\n",
       "      <th>sum_sq</th>\n",
       "      <th>mean_sq</th>\n",
       "      <th>F</th>\n",
       "      <th>PR(&gt;F)</th>\n",
       "    </tr>\n",
       "  </thead>\n",
       "  <tbody>\n",
       "    <tr>\n",
       "      <th>C(travel)</th>\n",
       "      <td>2.0</td>\n",
       "      <td>55.400000</td>\n",
       "      <td>27.700000</td>\n",
       "      <td>33.918367</td>\n",
       "      <td>1.014700e-07</td>\n",
       "    </tr>\n",
       "    <tr>\n",
       "      <th>C(sex)</th>\n",
       "      <td>1.0</td>\n",
       "      <td>4.033333</td>\n",
       "      <td>4.033333</td>\n",
       "      <td>4.938776</td>\n",
       "      <td>3.593950e-02</td>\n",
       "    </tr>\n",
       "    <tr>\n",
       "      <th>C(travel):C(sex)</th>\n",
       "      <td>2.0</td>\n",
       "      <td>25.266667</td>\n",
       "      <td>12.633333</td>\n",
       "      <td>15.469388</td>\n",
       "      <td>4.830446e-05</td>\n",
       "    </tr>\n",
       "    <tr>\n",
       "      <th>Residual</th>\n",
       "      <td>24.0</td>\n",
       "      <td>19.600000</td>\n",
       "      <td>0.816667</td>\n",
       "      <td>NaN</td>\n",
       "      <td>NaN</td>\n",
       "    </tr>\n",
       "  </tbody>\n",
       "</table>\n",
       "</div>"
      ],
      "text/plain": [
       "                    df     sum_sq    mean_sq          F        PR(>F)\n",
       "C(travel)          2.0  55.400000  27.700000  33.918367  1.014700e-07\n",
       "C(sex)             1.0   4.033333   4.033333   4.938776  3.593950e-02\n",
       "C(travel):C(sex)   2.0  25.266667  12.633333  15.469388  4.830446e-05\n",
       "Residual          24.0  19.600000   0.816667        NaN           NaN"
      ]
     },
     "execution_count": 21,
     "metadata": {},
     "output_type": "execute_result"
    }
   ],
   "source": [
    "from statsmodels.formula.api import ols\n",
    "from statsmodels.stats.anova import anova_lm\n",
    "formula = 'points ~ C(travel) + C(sex) + C(travel):C(sex)'\n",
    "model4 = ols(formula, df11).fit()\n",
    "table=anova_lm(model4)\n",
    "table"
   ]
  },
  {
   "cell_type": "markdown",
   "id": "3e406f81",
   "metadata": {},
   "source": [
    "- 유의수준 0.05에서 p값이 거의 0(4.830446e-05)이므로 귀무가설은 기각되고 따라서 상호작용효과가 있는 것으로 결론"
   ]
  },
  {
   "cell_type": "code",
   "execution_count": 22,
   "id": "3faaf5fb",
   "metadata": {},
   "outputs": [
    {
     "data": {
      "image/png": "[encoded data removed]",
      "text/plain": [
       "<Figure size 432x288 with 1 Axes>"
      ]
     },
     "metadata": {
      "needs_background": "light"
     },
     "output_type": "display_data"
    }
   ],
   "source": [
    "# 상호작용효과 그래프\n",
    "\n",
    "from statsmodels.graphics.factorplots import interaction_plot\n",
    "fig=interaction_plot(df11.travel,df11.sex,df11.points, colors=['navy','red'],\n",
    "                     markers=['D','^'],ms=10)"
   ]
  },
  {
   "cell_type": "markdown",
   "id": "8e2bb2ca",
   "metadata": {},
   "source": [
    "#### - 남녀간의 기울기 다르므로 상호작용효과가 있다. 여행빈도가 적을 때는 남녀간 태도차이가 크게 나타나나 빈도가 많아지면서 차이가 적어짐 남성의 경우 빈도가 많을수록 긍정적 태도가 비례적으로 증가\n",
    "#### - 상호작용효과가 있으므로 주효과는 해석 않함 "
   ]
  },
  {
   "cell_type": "code",
   "execution_count": null,
   "id": "322cbc6d",
   "metadata": {},
   "outputs": [],
   "source": []
  }
 ],
 "metadata": {
  "kernelspec": {
   "display_name": "Python 3 (ipykernel)",
   "language": "python",
   "name": "python3"
  },
  "language_info": {
   "codemirror_mode": {
    "name": "ipython",
    "version": 3
   },
   "file_extension": ".py",
   "mimetype": "text/x-python",
   "name": "python",
   "nbconvert_exporter": "python",
   "pygments_lexer": "ipython3",
   "version": "3.9.7"
  }
 },
 "nbformat": 4,
 "nbformat_minor": 5
}
