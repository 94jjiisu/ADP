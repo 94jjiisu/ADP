{
 "cells": [
  {
   "cell_type": "markdown",
   "metadata": {
    "id": "bvytJ4H4bl3w"
   },
   "source": [
    "## 2.사이킷런으로 시작하는 머신러닝"
   ]
  },
  {
   "cell_type": "markdown",
   "metadata": {
    "id": "rNrsc0lLbl32"
   },
   "source": [
    "## 01 scikit-learn 소개와 특징\n",
    "쉽고 가장 파이썬스러운 API제공  \n",
    "머신러닝을 위한 다양한 알고리즘, 개발을 위한 편리한 프레임워크, API제공  \n",
    "오랜 기간 실전 환경에서 검증됨, 매우 많은 환경에서 사용되는 성숙한 라이브러리"
   ]
  },
  {
   "cell_type": "code",
   "execution_count": null,
   "metadata": {
    "id": "DcfOXVo_bl34",
    "outputId": "1796a0c3-7898-4d92-a13c-155fe6a22778"
   },
   "outputs": [
    {
     "name": "stdout",
     "output_type": "stream",
     "text": [
      "0.19.1\n"
     ]
    }
   ],
   "source": [
    "import sklearn\n",
    "print(sklearn.__version__)"
   ]
  },
  {
   "cell_type": "markdown",
   "metadata": {
    "id": "KA7sFtM4bl36"
   },
   "source": [
    "----------------"
   ]
  },
  {
   "cell_type": "markdown",
   "metadata": {
    "id": "NV-q_3-0bl36"
   },
   "source": [
    "## 02 붓꽃 품종 예측하기 - 분류"
   ]
  },
  {
   "cell_type": "markdown",
   "metadata": {
    "id": "ml3rOOt9bl37"
   },
   "source": [
    " Sepal length(꽃잎길이), Sepal width(꽃잎 너비), Petal length(꽃받침길이), Petal width(꽃받침 너비) 기반 꽃 품종 예측"
   ]
  },
  {
   "cell_type": "markdown",
   "metadata": {
    "collapsed": true,
    "id": "7vDJrfQpbl37"
   },
   "source": [
    "### 지도학습(Supervised Learning) - 답이 주어진 데이터를 먼저 한습 한 뒤 미지의 정답 예측, 레이블이 지정된 데이터 즉, 분류된 데이터를 사용\n",
    "### -일반유형1.분류(Classification)\n",
    "##### 로지스틱 회귀\n",
    "##### 선형 판별 분석\n",
    "##### K-최근접 이웃(KNN, K-nearest neighbors)\n",
    "##### 트리(Trees)\n",
    "##### 신경망\n",
    "##### 서포트 벡터 머신(SVM, Support vector machines)\n",
    "\n",
    "### - 일반유형2. 선형회귀(linearRegression)"
   ]
  },
  {
   "cell_type": "code",
   "execution_count": null,
   "metadata": {
    "collapsed": true,
    "id": "s3KtsJm_bl38"
   },
   "outputs": [],
   "source": [
    "from sklearn.datasets import load_iris #사이킷런에서 자체 제공하는 데이터 세트 생성하는 모듈 모임\n",
    "from sklearn.tree import DecisionTreeClassifier #트리기반 ML 알고리즘 구현 클래스모임\n",
    "from sklearn.model_selection import train_test_split #학습데이터, 검증데이터, 예측데이터 분리, 최적의 하이퍼 파라미터로 평가하기 위한 다양한 모듈 모임\n"
   ]
  },
  {
   "cell_type": "markdown",
   "metadata": {
    "id": "stAiWDCebl39"
   },
   "source": [
    "데이터 프레임 생성"
   ]
  },
  {
   "cell_type": "code",
   "execution_count": null,
   "metadata": {
    "id": "_ENtRsNPbl3-",
    "outputId": "8fd99ecd-bd5e-42cb-8e41-9d36bc0ae118",
    "scrolled": true
   },
   "outputs": [],
   "source": [
    "import pandas as pd\n",
    "\n",
    "iris = load_iris()\n",
    "iris_data = iris.data #->feature만으로 된 데이터 numpy\n",
    "\n",
    "iris_label = iris.target #->레이블(결정값)데이터 numpy\n",
    "print('iris target값:',iris_label)\n",
    "print('iris target명:', iris.target_names)\n",
    "\n",
    "iris_df = pd.DataFrame(data=iris_data, columns=iris.feature_names)\n",
    "iris_df['label'] = iris.target\n",
    "iris_df.head(3)"
   ]
  },
  {
   "cell_type": "markdown",
   "metadata": {
    "id": "w-ZwuUUHbl3_"
   },
   "source": [
    "하이퍼파라미터: 머신러닝 알고리즘별 최적의 학습을 위해 직접 입력하는 파라미터, 머신러닝 알고리즘의 성능 튜닝가능  \n",
    "train_test_split의 파라미터순서: 피처데이터세트, 레이블데이터세트, 테스트세트비율, 호출시마다 동일 데이터셋 분리하기 위해 숫자 부여, 변경가능"
   ]
  },
  {
   "cell_type": "code",
   "execution_count": null,
   "metadata": {
    "collapsed": true,
    "id": "izYYkKwpbl3_"
   },
   "outputs": [],
   "source": [
    "X_train, X_test, y_train, y_test = train_test_split(iris_data, iris_label, test_size = 0.2, random_state=11)"
   ]
  },
  {
   "cell_type": "code",
   "execution_count": null,
   "metadata": {
    "id": "fRnYoRAbbl3_",
    "outputId": "ca389549-75c7-4ea6-f696-2e37b0035bef"
   },
   "outputs": [
    {
     "data": {
      "text/plain": [
       "DecisionTreeClassifier(class_weight=None, criterion='gini', max_depth=None,\n",
       "            max_features=None, max_leaf_nodes=None,\n",
       "            min_impurity_decrease=0.0, min_impurity_split=None,\n",
       "            min_samples_leaf=1, min_samples_split=2,\n",
       "            min_weight_fraction_leaf=0.0, presort=False, random_state=11,\n",
       "            splitter='best')"
      ]
     },
     "execution_count": 64,
     "metadata": {},
     "output_type": "execute_result"
    }
   ],
   "source": [
    "#DecisionTreeClassifier 객체 생성\n",
    "dt_clf = DecisionTreeClassifier(random_state=11)\n",
    "\n",
    "#학습 수행\n",
    "dt_clf.fit(X_train, y_train)"
   ]
  },
  {
   "cell_type": "code",
   "execution_count": null,
   "metadata": {
    "id": "V-wnUBhfbl4A"
   },
   "outputs": [],
   "source": [
    "#학습 완료된 dt_clf에서 테스트데이터 세트로 예측 수행\n",
    "pred = dt_clf.predict(X_test)"
   ]
  },
  {
   "cell_type": "code",
   "execution_count": null,
   "metadata": {
    "id": "HRpZYxa3bl4A",
    "outputId": "bd62e986-d15a-4f8d-91b1-bada253a8506"
   },
   "outputs": [
    {
     "name": "stdout",
     "output_type": "stream",
     "text": [
      "예측정확도:  0.9333\n"
     ]
    }
   ],
   "source": [
    "#정확도 평가: 예측결과가 실제 레이블값과 얼마나 정확하게 맞는지 평가\n",
    "#accury_score의 파라미터 순서: 1.실제레이블 데이터세트, 2.예측레이블 데이터세트\n",
    "\n",
    "from sklearn.metrics import accuracy_score\n",
    "print('예측정확도: {0: .4f}'.format(accuracy_score(y_test,pred)))"
   ]
  },
  {
   "cell_type": "markdown",
   "metadata": {
    "id": "NjRvgvYtbl4B"
   },
   "source": [
    "### 예측프로세스: 1.데이터 세트 분리, 2.모델 학습, 3.예측 수행, 4.평가"
   ]
  },
  {
   "cell_type": "markdown",
   "metadata": {
    "id": "be_jTvvDbl4B"
   },
   "source": [
    "********************"
   ]
  },
  {
   "cell_type": "markdown",
   "metadata": {
    "id": "Y62zac4kbl4B"
   },
   "source": [
    "## 03 사이킷런의 기반 프레임워크 익히기"
   ]
  },
  {
   "cell_type": "markdown",
   "metadata": {
    "id": "L6BYUlE6bl4C"
   },
   "source": [
    "### 사이킷런 주요 모듈   \n",
    "1.예제 데이터   \n",
    " - sklearn.datasets 예제로 제공하는 데이터 세트  \n",
    " \n",
    "2.피처처리  \n",
    " - sklearn.preprocessing 데이터 전처리에 필요한 가공기능 제공(문자열 숫자형 코드 값으로 인코딩, 정규화, 스케일링 등)  \n",
    " - sklearn.feature_selection 알고리즘에 큰 영향을 미치는 피처를 우선순위대로 셀렉션 작업 수행하는 다양한 기능 제공   \n",
    " - sklearn.feature_extraction 텍스트 데이터나 이미지 데이터의 벡터화된 피처를 추출하는데 사용, sklearn.feature_extraction.text(텍스트데이터 피처 추출, sklearn.feature_extraction.image(이미지데이터 피처 추출)    \n",
    "\n",
    "3.피처처리&차원축소  \n",
    " - sklearn.decomposition PCA(주성분분석), NMF(비음수 행렬 분해, 음수가 포함되지 않은 성분,계수값을 찾음), Truncated SVD(Singular Value Decomposition, 특이값 분해) 등을 통해 차원축소 기능 수행   \n",
    "\n",
    "4.데이터 분리, 검증&파라미터 튜닝  \n",
    " - sklearn.model_selection 교차검증을 위한 학습용/테스트용 분리, 그리드 서치(Grid Search)로 최적 파라미터 추출    \n",
    " \n",
    "5.평가  \n",
    " - sklearn.metrics 분류, 회귀, 클러스터링, 페어와이즈(Pairwise)에 대한 다양한 성능 측정 방법 제공  \n",
    " Accuracy(정확도), Precision(정밀도), Recall/Sensitivity(재현율/민감도), ROC-AUC, RMSE(평균 제곱근 오차(Root Mean Square Error) 등 제공 \n",
    " ![confusion_matrix](confusion matrix.png)\n",
    " ![accuracy](accuracy.png)\n",
    " ![precision](precision.png)\n",
    " ![recall](recall.png)\n",
    " ![ROC-AUC](ROC-AUC.png)\n",
    "\n",
    "6.ML 알고리즘 \n",
    " - sklearn.ensemble 앙상블 알고리즘 제공(랜덤 포레스트, 에이다 부스트, 그래디언트 부스팅 등 /XGBoost제공하지 않음,따로 설치)  \n",
    " - sklearn.linear_model 선형 회귀, 릿지(Ridge), 라소(Lasso), 로지스틱 회귀 등 회귀 관련 알고리즘 지원, SGD(Stochastic Gradient Descent)관련 알고리즘도 제공  \n",
    " - sklearn.naive_bayes 나이브 베이즈 알고리즘 제공(가우시안 NB, 다항 분포 NB등)  \n",
    " - sklearn.neighbors 최근접 이웃 알고리즘 제공 k-nn 등  \n",
    " - sklearn.svm 서포트 벡터머신 알고리즘 제공  \n",
    " - sklearn.tree 의사 결정 트리 알고리즘 제공  \n",
    " - sklearn.cluster 비지도 클러스터링 알고리즘 제공(k-평균, 계층형, DBSCAN 등)  \n",
    " \n",
    " 7.유틸리티 \n",
    " - sklearn.pipeline 피처 처리 등의 변환과 ML 알고리즘 학습, 예측 등을 할께 묶어서 실행할 수 있는 유틸리티 제공"
   ]
  },
  {
   "cell_type": "markdown",
   "metadata": {
    "id": "CsSifobbbl4C"
   },
   "source": [
    "#### 머신러닝 모델 구축 주요프로세스\n",
    "#### - 피처 처리(가공, 변경, 추출) -> ML 알고리즘 학습/예측 수행 -> 모델평가의 반복 수행"
   ]
  },
  {
   "cell_type": "markdown",
   "metadata": {
    "id": "vabxv72Qbl4D"
   },
   "source": [
    "### 내장된 예제 데이터 세트"
   ]
  },
  {
   "cell_type": "markdown",
   "metadata": {
    "id": "sAyr9olEbl4D"
   },
   "source": [
    "### 분류나 회귀 연습용 예제 데이터\n",
    "- datasets.load_boston() 회귀용도, 미국 보스턴 집 피처들과 가격에 대한 데이터 세트  \n",
    "- datasets.load_diabetes() 회귀용도, 당뇨 데이터 세트  \n",
    "- datasets.load_breast_cancer() 분류용도, 위스콘신 유방암 피처들과 악성/음성 레이블 데이터 세트  \n",
    "- datasets.load_digits() 분류용도, 0에서 9까지 숫자의 이미지 픽셀 데이터 세트  \n",
    "- datasets.load_iris() 분류용도, 붓꽃 데이터 세트"
   ]
  },
  {
   "cell_type": "markdown",
   "metadata": {
    "id": "kct-Qx2jbl4D"
   },
   "source": [
    "### 분류와 클러스터링을 위한 표본 데이터 생성기\n",
    "- datasets.make_classifications() 분류를 위한 데이터 세트 생성, 높은 상관도, 불필요한 속성 등의 노이즈 효과를 위한 데이터 무작위 생성  \n",
    "- datasets.make_blobs() 클러스터링을 위한 데이터 세트 무작위 생성, 군집 지정 개수에 따라 여러 가지 클러스터링을 위한 데이터 세트 쉽게 생성"
   ]
  },
  {
   "cell_type": "markdown",
   "metadata": {
    "id": "ezHSGF9qbl4E"
   },
   "source": [
    "사이킷런 내장 데이터 세트는 일반적으로 딕셔너리 형태, 키는 data, target, target_name, feature_names, DESC로 구성  \n",
    "- data: 피처의 데이터세트  \n",
    "- target: 분류시에는 레이블 값, 회귀일때는 숫자 결과값 데이터 세트  \n",
    "- target_names: 개별 레이블 이름(ex.)setosa, versicolor, virginica)  \n",
    "- feature_names: 피처의 이름  \n",
    "- DESC: 데이터 세트에 대한 설명, 피처의 설명"
   ]
  },
  {
   "cell_type": "code",
   "execution_count": null,
   "metadata": {
    "id": "YxrRe8Sebl4E",
    "outputId": "0ada9db6-85c8-48f3-e731-fc7f85a4ed5e"
   },
   "outputs": [
    {
     "name": "stdout",
     "output_type": "stream",
     "text": [
      "<class 'sklearn.utils.Bunch'>\n"
     ]
    }
   ],
   "source": [
    "from sklearn.datasets import load_iris\n",
    "\n",
    "iris_data = load_iris()\n",
    "print(type(iris_data))"
   ]
  },
  {
   "cell_type": "code",
   "execution_count": null,
   "metadata": {
    "id": "wwbrcGPqbl4E",
    "outputId": "4e59b601-33d0-47ba-afa0-6ed7ff75e5da"
   },
   "outputs": [
    {
     "name": "stdout",
     "output_type": "stream",
     "text": [
      "붓꽃 데이터 세트의 키들: dict_keys(['data', 'target', 'target_names', 'DESCR', 'feature_names'])\n"
     ]
    }
   ],
   "source": [
    "#Bunch 클래스는 파이썬 딕셔너리 자료형과 유사\n",
    "keys = iris_data.keys()\n",
    "print('붓꽃 데이터 세트의 키들:', keys)"
   ]
  },
  {
   "cell_type": "code",
   "execution_count": null,
   "metadata": {
    "id": "nenR4JJrbl4F",
    "outputId": "bc0cb3a8-a977-4e20-ed4e-89dd1c4a67d8"
   },
   "outputs": [],
   "source": [
    "print('\\n feature_names의 type:', type(iris_data.feature_names))\n",
    "print(' feature_names의 shape:', len(iris_data.feature_names)) #리스트 타입이므로 길이(갯수) 구할때 len\n",
    "print(iris_data.feature_names)\n",
    "\n",
    "print('\\n target_names의 type:', type(iris_data.target_names))\n",
    "print(' target_names의 shape:', len(iris_data.target_names))\n",
    "print(iris_data.target_names)\n",
    "\n",
    "print('\\n data의 type:', type(iris_data.data))\n",
    "print(' data의 shape:', iris_data.data.shape) # len(iris_data.data)해도 됨\n",
    "print(iris_data['data']) #iris_data.data 해도 됨\n",
    "\n",
    "print('\\n target의 type:', type(iris_data.target))\n",
    "print(' target의 shape:', iris_data.target.shape)\n",
    "print(iris_data.target)"
   ]
  },
  {
   "cell_type": "markdown",
   "metadata": {
    "id": "Rh4Yw8YCbl4F"
   },
   "source": [
    "-------------"
   ]
  },
  {
   "cell_type": "markdown",
   "metadata": {
    "id": "nnjC_MJtbl4F"
   },
   "source": [
    "## 04 Model Selection 모듈 소개"
   ]
  },
  {
   "cell_type": "markdown",
   "metadata": {
    "id": "3CiBx5Sqbl4G"
   },
   "source": [
    "학습 데이터와 테스트 데이터 세트 분리 / 교차 검증 분할 및 평가 / Estimator의 하이퍼 파라미터를 튜닝하기 위한 다양한 함수,클래스 제공 "
   ]
  },
  {
   "cell_type": "markdown",
   "metadata": {
    "id": "ViRnp-wgbl4G"
   },
   "source": [
    "### 학습/테스트 데이터 세트 분리 - train_test_split()"
   ]
  },
  {
   "cell_type": "code",
   "execution_count": null,
   "metadata": {
    "id": "uHrPin9Zbl4G",
    "outputId": "28cc1e28-5ad9-4731-f5c3-e7feca2f2b56"
   },
   "outputs": [
    {
     "name": "stdout",
     "output_type": "stream",
     "text": [
      "예측 정확도: 1.0\n"
     ]
    }
   ],
   "source": [
    "from sklearn.datasets import load_iris\n",
    "from sklearn.tree import DecisionTreeClassifier\n",
    "from sklearn.metrics import accuracy_score\n",
    "\n",
    "iris = load_iris()\n",
    "dt_clsf = DecisionTreeClassifier()\n",
    "train_data = iris.data\n",
    "train_label = iris.target\n",
    "dt_clsf.fit(train_data, train_label)\n",
    "# 학습 데이터 세트로 예측 수행\n",
    "pred = dt_clsf.predict(train_data)\n",
    "print('예측 정확도:', accuracy_score(train_label, pred))"
   ]
  },
  {
   "cell_type": "markdown",
   "metadata": {
    "id": "WRnpkQKqbl4G"
   },
   "source": [
    "예측 수행 데이터 세트는 학습 수행 데이터 세트 아닌 전용의 테스터 데이터 세트가 있어야함  \n",
    "사이킷런의 train_test_split()을 통해 테스트 데이터 세트를 쉽게 분리"
   ]
  },
  {
   "cell_type": "markdown",
   "metadata": {
    "id": "gWwYIGfMbl4G"
   },
   "source": [
    "train_test_split의 파라미터  \n",
    "- test_size: 디폴트 0.25, 전체 데이터의 25%를 테스트 데이터로 분리  \n",
    "- train_size: test_size를 통상적으로 사용하여 사용되지 않음  \n",
    "- shuffle: 디폴트 True, 데이터 분리 전 데이터를 미리 섞을지 결정\n",
    "- random_state: train_test_split()는 호출시 무작위로 데이터를 분리하므로 지정하지 않으면 수행할때 마다 다른 학습/테스트 데이터 생성, 동일 데이터 세트로 분리하기 위해 일정 숫자값 부여"
   ]
  },
  {
   "cell_type": "code",
   "execution_count": null,
   "metadata": {
    "collapsed": true,
    "id": "BM4xA-gzbl4H"
   },
   "outputs": [],
   "source": [
    "from sklearn.model_selection import train_test_split\n",
    "\n",
    "dt_clf = DecisionTreeClassifier( )\n",
    "iris_data = load_iris()\n",
    "\n",
    "X_train, X_test, y_train, y_test = train_test_split(iris_data.data, iris_data.target, \n",
    "                                                    test_size=0.3, random_state=121)"
   ]
  },
  {
   "cell_type": "code",
   "execution_count": null,
   "metadata": {
    "id": "8soJ-ZZzbl4H",
    "outputId": "5fac47c9-5324-48e2-8b89-bf567cdbf8aa"
   },
   "outputs": [
    {
     "name": "stdout",
     "output_type": "stream",
     "text": [
      "예측 정확도:0.9556\n"
     ]
    }
   ],
   "source": [
    "dt_clf.fit(X_train, y_train)\n",
    "pred = dt_clf.predict(X_test)\n",
    "print('예측 정확도:{0:.4f}'.format(accuracy_score(y_test, pred)))"
   ]
  },
  {
   "cell_type": "markdown",
   "metadata": {
    "id": "NsSRcC8Tbl4H"
   },
   "source": [
    "### 교차검증"
   ]
  },
  {
   "cell_type": "markdown",
   "metadata": {
    "id": "c9MFCeuJbl4I"
   },
   "source": [
    "과적합(Overfitting)에 취약한 약점 - 모델이 학습 데이터에만 과도하게 최적화되어 실제 예측을 다른 데이터로 수행할 경우 예측 성능이 과도하게 떨어짐  \n",
    "이러한 문제점 개선을 위해 교차 검증을 이용해 다양한 학습과 평가 수행   \n",
    "학습 데이터세트를 다시 학습 데이터세트/검증 데이터세트로 분리하여 학습/평가"
   ]
  },
  {
   "cell_type": "markdown",
   "metadata": {
    "id": "xVPUJmAjbl4I"
   },
   "source": [
    "K개의 데이터 폴드 세트를 만들어서 K번만큼 각 세트에 학습과 검증 평가 반복적으로 수행  \n",
    "K개의 예측 평가가 구해지면 이를 평균해서 K폴드의 평가 결과로 반영\n",
    "![4-Fold](4-Fold.png)"
   ]
  },
  {
   "cell_type": "markdown",
   "metadata": {
    "id": "scilZIWGbl4I"
   },
   "source": [
    "#### 교차 검증 1 - K폴드 교차 검증"
   ]
  },
  {
   "cell_type": "code",
   "execution_count": null,
   "metadata": {
    "id": "la0ASaxBbl4I",
    "outputId": "ad4947eb-b78f-4e90-ae8a-66c40bfd3cf6"
   },
   "outputs": [
    {
     "name": "stdout",
     "output_type": "stream",
     "text": [
      "붓꽃 데이터 세트 크기: 150\n"
     ]
    }
   ],
   "source": [
    "from sklearn.tree import DecisionTreeClassifier\n",
    "from sklearn.metrics import accuracy_score\n",
    "from sklearn.model_selection import KFold # 기존엔 train_test_split\n",
    "import numpy as np\n",
    "\n",
    "iris = load_iris()\n",
    "features = iris.data\n",
    "label = iris.target\n",
    "dt_clf = DecisionTreeClassifier(random_state=156)\n",
    "\n",
    "#5개 폴드 세트로 분리하는 KFold 객체와 폴드 세트별 정확도를 담을 리스트 객체 생성\n",
    "kfold = KFold(n_splits =5)\n",
    "cv_accuracy = []\n",
    "print('붓꽃 데이터 세트 크기:', features.shape[0]) #0: 행의 갯수만 보기 위해"
   ]
  },
  {
   "cell_type": "markdown",
   "metadata": {
    "id": "K4mm5pP5bl4I"
   },
   "source": [
    "150개의 4/5인 120개, 1/5인 30개로 분할"
   ]
  },
  {
   "cell_type": "code",
   "execution_count": null,
   "metadata": {
    "id": "VAcMqOcQbl4J",
    "outputId": "2fa85de4-710b-4073-da8b-d4e963aa542c"
   },
   "outputs": [],
   "source": [
    "n_iter = 0\n",
    "\n",
    "# KFold객체의 split( ) 호출하면 폴드 별 학습용, 검증용 테스트의 로우 인덱스를 array로 반환  \n",
    "for train_index, test_index  in kfold.split(features):\n",
    "    # kfold.split( )으로 반환된 인덱스를 이용하여 학습용, 검증용 테스트 데이터 추출\n",
    "    X_train, X_test = features[train_index], features[test_index]\n",
    "    y_train, y_test = label[train_index], label[test_index]\n",
    "    #학습 및 예측 \n",
    "    dt_clf.fit(X_train , y_train)    \n",
    "    pred = dt_clf.predict(X_test)\n",
    "    n_iter += 1\n",
    "    # 반복 시 마다 정확도 측정 \n",
    "    accuracy = np.round(accuracy_score(y_test,pred), 4)\n",
    "    train_size = X_train.shape[0]\n",
    "    test_size = X_test.shape[0]\n",
    "    print('\\n#{0} 교차 검증 정확도 :{1}, 학습 데이터 크기: {2}, 검증 데이터 크기: {3}'\n",
    "          .format(n_iter, accuracy, train_size, test_size))\n",
    "    print('#{0} 검증 세트 인덱스:{1}'.format(n_iter,test_index))\n",
    "    cv_accuracy.append(accuracy)\n",
    "    \n",
    "# 개별 iteration별 정확도를 합하여 평균 정확도 계산 \n",
    "print('\\n## 평균 검증 정확도:', np.mean(cv_accuracy)) "
   ]
  },
  {
   "cell_type": "markdown",
   "metadata": {
    "id": "3cKURZBYbl4J"
   },
   "source": [
    "#### 교차 검증 2 - Stratified K폴드"
   ]
  },
  {
   "cell_type": "markdown",
   "metadata": {
    "id": "GCyYK3oMbl4J"
   },
   "source": [
    "불균형한 분포도를 가진 레이블 데이터 집합을 위해 원본 데이터의 레이블 분포를 고려하여 이 분포와 동일하게 학습/검증 데이터 세트를 분배함"
   ]
  },
  {
   "cell_type": "code",
   "execution_count": null,
   "metadata": {
    "id": "BDBQeyh2bl4J",
    "outputId": "775f458a-c67f-49cc-f98d-7e9928e95f93"
   },
   "outputs": [
    {
     "data": {
      "text/plain": [
       "2    50\n",
       "1    50\n",
       "0    50\n",
       "Name: label, dtype: int64"
      ]
     },
     "execution_count": 75,
     "metadata": {},
     "output_type": "execute_result"
    }
   ],
   "source": [
    "import pandas as pd\n",
    "\n",
    "iris = load_iris()\n",
    "\n",
    "iris_df = pd.DataFrame(data=iris.data, columns=iris.feature_names)\n",
    "iris_df['label']=iris.target\n",
    "iris_df['label'].value_counts()"
   ]
  },
  {
   "cell_type": "code",
   "execution_count": null,
   "metadata": {
    "id": "sFqtco7-bl4K",
    "outputId": "0cfcae2d-e145-413b-c754-bea4d1aad57e"
   },
   "outputs": [],
   "source": [
    "kfold = KFold(n_splits=3)\n",
    "# kfold.split(X)는 폴드 세트를 3번 반복할 때마다 달라지는 학습/테스트 용 데이터 로우 인덱스 번호 반환. \n",
    "n_iter =0\n",
    "for train_index, test_index  in kfold.split(iris_df):\n",
    "    n_iter += 1\n",
    "    label_train= iris_df['label'].iloc[train_index]\n",
    "    label_test= iris_df['label'].iloc[test_index]\n",
    "    print('## 교차 검증: {0}'.format(n_iter))\n",
    "    print('학습 레이블 데이터 분포:\\n', label_train.value_counts())\n",
    "    print('검증 레이블 데이터 분포:\\n', label_test.value_counts())"
   ]
  },
  {
   "cell_type": "code",
   "execution_count": null,
   "metadata": {
    "id": "fcEAPdIfbl4K",
    "outputId": "1c28f1cf-1d12-4a8a-c266-d2d5f8c83d3e"
   },
   "outputs": [],
   "source": [
    "# StratifiedKFold\n",
    "from sklearn.model_selection import StratifiedKFold\n",
    "\n",
    "skf = StratifiedKFold(n_splits=3)\n",
    "n_iter=0\n",
    "\n",
    "for train_index, test_index in skf.split(iris_df, iris_df['label']): #split()메서드 인자로 **레이블 데이터 세트** 반드시 필요\n",
    "    n_iter += 1\n",
    "    label_train= iris_df['label'].iloc[train_index]\n",
    "    label_test= iris_df['label'].iloc[test_index]\n",
    "    print('## 교차 검증: {0}'.format(n_iter))\n",
    "    print('학습 레이블 데이터 분포:\\n', label_train.value_counts())\n",
    "    print('검증 레이블 데이터 분포:\\n', label_test.value_counts())"
   ]
  },
  {
   "cell_type": "code",
   "execution_count": null,
   "metadata": {
    "id": "EUxmDktgbl4K",
    "outputId": "9c6fddbd-cd59-49af-f6e5-6cb1e7dcd00b"
   },
   "outputs": [],
   "source": [
    "# 붓꽃 데이터 StatifiedKFold \n",
    "dt_clf = DecisionTreeClassifier(random_state=156)\n",
    "\n",
    "skfold = StratifiedKFold(n_splits=3)\n",
    "n_iter=0\n",
    "cv_accuracy=[]\n",
    "\n",
    "# StratifiedKFold의 split( ) 호출시 반드시 레이블 데이터 셋도 추가 입력 필요  \n",
    "for train_index, test_index  in skfold.split(features, label):\n",
    "    # split( )으로 반환된 인덱스를 이용하여 학습용, 검증용 테스트 데이터 추출\n",
    "    X_train, X_test = features[train_index], features[test_index]\n",
    "    y_train, y_test = label[train_index], label[test_index]\n",
    "    #학습 및 예측 \n",
    "    dt_clf.fit(X_train , y_train)    \n",
    "    pred = dt_clf.predict(X_test)\n",
    "\n",
    "    # 반복 시 마다 정확도 측정 \n",
    "    n_iter += 1\n",
    "    accuracy = np.round(accuracy_score(y_test,pred), 4)\n",
    "    train_size = X_train.shape[0]\n",
    "    test_size = X_test.shape[0]\n",
    "    print('\\n#{0} 교차 검증 정확도 :{1}, 학습 데이터 크기: {2}, 검증 데이터 크기: {3}'\n",
    "          .format(n_iter, accuracy, train_size, test_size))\n",
    "    print('#{0} 검증 세트 인덱스:{1}'.format(n_iter,test_index))\n",
    "    cv_accuracy.append(accuracy)\n",
    "    \n",
    "# 교차 검증별 정확도 및 평균 정확도 계산 \n",
    "print('\\n## 교차 검증별 정확도:', np.round(cv_accuracy,4))\n",
    "print('## 평균 검증 정확도:', np.mean(cv_accuracy)) "
   ]
  },
  {
   "cell_type": "markdown",
   "metadata": {
    "id": "R6DZMpjJbl4L"
   },
   "source": [
    "#### 일반적으로 분류에서의 교차 검증은 K폴드가 아니라 StratifiedKFold로 분할되야 함  \n",
    "#### 회귀에서는 StratifiedKFold가 지원되지 않음, 결정값이 연속된 숫자값이기 때문에 결정값 별로 분포 정하는 의미가 없기 때문에"
   ]
  },
  {
   "cell_type": "markdown",
   "metadata": {
    "id": "09ELRxwXbl4L"
   },
   "source": [
    "#### 교차 검증을 간단하게 - **cross_val_score()**"
   ]
  },
  {
   "cell_type": "markdown",
   "metadata": {
    "id": "iKmXmSTrbl4L"
   },
   "source": [
    "선언형태: cross_val_score(**estimator, X, y=None, scring=None, cv=None**, n_jobs=1, verbose=0, fit_params=None, pre_dispatch='2*n_jobs') \n",
    "- estimator는 사이킷런 분류 알고리즘 클래스인 Classifier 또는 Regressor를 의미  \n",
    "- X는 피처 데이터 세트  \n",
    "- y 레이블 데이터 세트  \n",
    "- scoring 예측 성능 평가 지수 기술 (ex.Accuracy)  \n",
    "- cv 교차검증 폴드 수"
   ]
  },
  {
   "cell_type": "code",
   "execution_count": null,
   "metadata": {
    "id": "3JVpJn51bl4L",
    "outputId": "52cb89a9-e94d-4aaa-e5fd-18bdf7281229"
   },
   "outputs": [
    {
     "name": "stdout",
     "output_type": "stream",
     "text": [
      "교차 검증별 정확도: [ 0.9804  0.9216  0.9792]\n",
      "평균 검증 정확도: 0.9604\n"
     ]
    }
   ],
   "source": [
    "from sklearn.tree import DecisionTreeClassifier\n",
    "from sklearn.model_selection import cross_val_score , cross_validate\n",
    "from sklearn.datasets import load_iris\n",
    "\n",
    "iris_data = load_iris()\n",
    "dt_clf = DecisionTreeClassifier(random_state=156)\n",
    "\n",
    "data = iris_data.data\n",
    "label = iris_data.target\n",
    "\n",
    "# 성능 지표는 정확도(accuracy) , 교차 검증 세트는 3개 \n",
    "scores = cross_val_score(dt_clf , data , label , scoring='accuracy',cv=3)\n",
    "print('교차 검증별 정확도:',np.round(scores, 4))\n",
    "print('평균 검증 정확도:', np.round(np.mean(scores), 4))"
   ]
  },
  {
   "cell_type": "markdown",
   "metadata": {
    "id": "K_leIG9Fbl4L"
   },
   "source": [
    "#### cross_val_score API는 내부 Estimator를 학습(fit), 예측(predict), 평가(evaluation) 시켜주므로 간단하게 교차검증 수행 가능\n",
    "#### cross_validate는 여러개의 평가 지표를 반환 할수 있고 학습 데이터에 대한 성능 평가 지표, 수행 시간도 같이 제공하나 cross_val_score() 하나로도 대부분 경우 쉽게 사용함"
   ]
  },
  {
   "cell_type": "markdown",
   "metadata": {
    "id": "e-1QZNGVbl4M"
   },
   "source": [
    "### GridSearchCV - 교차 검증과 최적 하이퍼 파라미터 튜닝 한번에"
   ]
  },
  {
   "cell_type": "markdown",
   "metadata": {
    "id": "47Gh7XGQbl4M"
   },
   "source": [
    "하이퍼 파라미터는 머신러닝 알고리즘을 구성하는 주요 구성 요소이고, 이 값을 조정해 알고리즘 예측 성능 개선할 수 있음"
   ]
  },
  {
   "cell_type": "code",
   "execution_count": null,
   "metadata": {
    "collapsed": true,
    "id": "aRbtUAJQbl4M"
   },
   "outputs": [],
   "source": [
    "grid_parameters = {'max_depth':[1,2,3], 'min_samples_split':[2,3]}"
   ]
  },
  {
   "cell_type": "markdown",
   "metadata": {
    "id": "Mf77jp8ybl4M"
   },
   "source": [
    "![grid_parameters](grid_parameters.png)\n",
    "for 루프로 모든 파라미터를 번갈아 입력하면서 학습시키는 방법을 좀 더 유연하게 API레벨에서 제공한 것  \n",
    "순차적으로 파라미터를 테스트 하므로 수행시간이 상대적으로 오래걸림  \n",
    "CV가 3회라면 3*6 = 18회의 학습/평가가 이루어짐  \n",
    "- estimator : classifier, regressor, pipeline 등 가능  \n",
    "- param_grid : 튜닝을 위해 파라미터, 사용될 파라미터를 dictionary 형태로 만들어서 넣는다.  \n",
    "- scoring : 예측 성능을 측정할 평가 방법을 넣는다. 성능 평가 지표를 지정하는 문자열(ex.Accuracy)지정, 벌도의 성능 평가 지표 함수도 지정가능    \n",
    "- cv : 교차 검증에서 몇 개로 분할되는지 지정    \n",
    "- refit : 디폴트 True, 최적의 하이퍼 파라미터를 찾은 뒤 입력된 estimator 객체를 해당 하이퍼파라미터로 재학습 시킨다."
   ]
  },
  {
   "cell_type": "code",
   "execution_count": null,
   "metadata": {
    "collapsed": true,
    "id": "YzvWEmxjbl4M"
   },
   "outputs": [],
   "source": [
    "from sklearn.datasets import load_iris\n",
    "from sklearn.tree import DecisionTreeClassifier\n",
    "from sklearn.model_selection import GridSearchCV\n",
    "\n",
    "# 데이터를 로딩하고 학습데이타와 테스트 데이터 분리\n",
    "iris = load_iris()\n",
    "X_train, X_test, y_train, y_test = train_test_split(iris_data.data, iris_data.target, \n",
    "                                                    test_size=0.2, random_state=121)\n",
    "dtree = DecisionTreeClassifier()\n",
    "\n",
    "### parameter 들을 dictionary 형태로 설정\n",
    "parameters = {'max_depth':[1,2,3], 'min_samples_split':[2,3]}"
   ]
  },
  {
   "cell_type": "code",
   "execution_count": null,
   "metadata": {
    "id": "Zcq84-R4bl4N",
    "outputId": "eb038cc7-c987-4235-eb54-e8c38e619361"
   },
   "outputs": [],
   "source": [
    "import pandas as pd\n",
    "\n",
    "# param_grid의 하이퍼 파라미터들을 3개의 train, test set fold 로 나누어서 테스트 수행 설정.  \n",
    "### refit=True 가 default 임. True이면 가장 좋은 파라미터 설정으로 재 학습 시킴.  \n",
    "grid_dtree = GridSearchCV(dtree, param_grid=parameters, cv=3, refit=True)\n",
    "\n",
    "# 붓꽃 Train 데이터로 param_grid의 하이퍼 파라미터들을 순차적으로 학습/평가 \n",
    "grid_dtree.fit(X_train, y_train)\n",
    "\n",
    "# GridSearchCV 결과 추출하여 DataFrame으로 변환\n",
    "scores_df = pd.DataFrame(grid_dtree.cv_results_) #cv_results_ : gridserchcv의 결과 세트\n",
    "scores_df.info()\n",
    "scores_df[['params', 'mean_test_score', 'rank_test_score',\n",
    "           'split0_test_score', 'split1_test_score', 'split2_test_score']]\n"
   ]
  },
  {
   "cell_type": "markdown",
   "metadata": {
    "id": "KlpwQZr_bl4N"
   },
   "source": [
    "- params 개별 하이퍼 파라미터 값  \n",
    "- rank_test_score는 하이퍼 파라미터 별 성능이 좋은 score순위, 1이 최고, 이때 파라미터가 최적의 하이퍼 파라미터임  \n",
    "- mean_test_score는 개별 파라미터 별 CV의 폴딩 테스트 세트에 대해 총 수행한 평가 평균값  \n",
    "#### GridSearchCV객체의 fit()을 수행하면 최고성능 하이퍼 파라미터 값은 best parmas 에 그 때의 평가 결과 값은 best score속성에 기록됨"
   ]
  },
  {
   "cell_type": "code",
   "execution_count": null,
   "metadata": {
    "id": "ePttHvOJbl4N",
    "outputId": "3861bbc5-3533-4cb3-8860-f2d199a75683"
   },
   "outputs": [
    {
     "name": "stdout",
     "output_type": "stream",
     "text": [
      "GridSearchCV 최적 파라미터: {'max_depth': 3, 'min_samples_split': 2}\n",
      "GridSearchCV 최고 정확도: 0.9667\n"
     ]
    }
   ],
   "source": [
    "print('GridSearchCV 최적 파라미터:', grid_dtree.best_params_)\n",
    "print('GridSearchCV 최고 정확도: {0:.4f}'.format(grid_dtree.best_score_))"
   ]
  },
  {
   "cell_type": "markdown",
   "metadata": {
    "id": "iKQpRpHNbl4N"
   },
   "source": [
    "#### GridSearchCV가 refit으로 최적 성능의 하이퍼 파라미터로 estimator를 학습해 best_estimator_로 저장함"
   ]
  },
  {
   "cell_type": "code",
   "execution_count": null,
   "metadata": {
    "id": "Us9MqhUwbl4O",
    "outputId": "02a0d6e7-b81f-4bd5-e9bc-b665728db93f"
   },
   "outputs": [
    {
     "name": "stdout",
     "output_type": "stream",
     "text": [
      "테스트 데이터 세트 정확도: 0.9667\n"
     ]
    }
   ],
   "source": [
    "# GridSearchCV의 refit으로 이미 학습이 된 estimator 반환\n",
    "estimator = grid_dtree.best_estimator_\n",
    "\n",
    "# GridSearchCV의 best_estimator_는 이미 최적 하이퍼 파라미터로 학습이 됨\n",
    "pred = estimator.predict(X_test)\n",
    "print('테스트 데이터 세트 정확도: {0:.4f}'.format(accuracy_score(y_test,pred)))"
   ]
  },
  {
   "cell_type": "markdown",
   "metadata": {
    "id": "Y20LJ5Ihbl4O"
   },
   "source": [
    "### 일반적으로 학습데이터를 GridSearchCV를 이용해 최적 하이퍼 파라미터 튜닝을 수행한 뒤 별도의 테스트 세트에서 평가하는 것이 일반적인 머신러닝 모델 적용 방법임"
   ]
  },
  {
   "cell_type": "markdown",
   "metadata": {
    "id": "FKG6M71Abl4O"
   },
   "source": [
    "----------------"
   ]
  },
  {
   "cell_type": "markdown",
   "metadata": {
    "id": "ji1-xH9Pbl4O"
   },
   "source": [
    "## 05 데이터 전처리"
   ]
  },
  {
   "cell_type": "markdown",
   "metadata": {
    "id": "C2-Og4Gobl4O"
   },
   "source": [
    "- 결손값 처리 (Null/NaN): 얼마되지 않으면 평균값으로 대체, 대부분이면 해당 피처 drop, 일정수준(?) 이상이면 업무로직 등 검토해 정밀한 대체값 선정  \n",
    "- 문자열 값을 입력값으로 허용하지 않음: 인코딩 해서 숫자형으로 변환, 카테고리형 피처는 코드값으로 텍스트형 피처는 피처 벡터화(텍스트분석 등으로 필요시) 아니면 삭제(주민번호, 단순 문자열아이디 등)"
   ]
  },
  {
   "cell_type": "markdown",
   "metadata": {
    "id": "Xdsn0LbDbl4O"
   },
   "source": [
    "### 데이터 인코딩"
   ]
  },
  {
   "cell_type": "markdown",
   "metadata": {
    "id": "S5wbiS3Hbl4P"
   },
   "source": [
    "#### 레이블 인코딩"
   ]
  },
  {
   "cell_type": "code",
   "execution_count": null,
   "metadata": {
    "id": "IwLkY7gibl4P",
    "outputId": "4af12de4-a3db-49fd-8b31-a70497e37548"
   },
   "outputs": [
    {
     "name": "stdout",
     "output_type": "stream",
     "text": [
      "인코딩 변환값: [0 1 4 5 3 3 2 2]\n"
     ]
    }
   ],
   "source": [
    "from sklearn.preprocessing import LabelEncoder\n",
    "\n",
    "items=['TV','냉장고','전자렌지','컴퓨터','선풍기','선풍기','믹서','믹서']\n",
    "\n",
    "# LabelEncoder를 객체로 생성한 후 , fit( ) 과 transform( ) 으로 label 인코딩 수행. \n",
    "encoder = LabelEncoder()\n",
    "encoder.fit(items)\n",
    "labels = encoder.transform(items)\n",
    "print('인코딩 변환값:',labels)"
   ]
  },
  {
   "cell_type": "markdown",
   "metadata": {
    "id": "kHANg3hVbl4P"
   },
   "source": [
    "데이터가 많을 경우 LabelEncoder객체의 classes_ 속성값으로 확인  \n",
    "0번부터 순서대로 변환된 인코딩의 원본값을 가지고 있음"
   ]
  },
  {
   "cell_type": "code",
   "execution_count": null,
   "metadata": {
    "id": "8pdMXSFGbl4P",
    "outputId": "b7a310d5-6508-49bd-8aff-43c3188ae88b"
   },
   "outputs": [
    {
     "name": "stdout",
     "output_type": "stream",
     "text": [
      "인코딩 클래스: ['TV' '냉장고' '믹서' '선풍기' '전자렌지' '컴퓨터']\n"
     ]
    }
   ],
   "source": [
    "print('인코딩 클래스:',encoder.classes_)"
   ]
  },
  {
   "cell_type": "markdown",
   "metadata": {
    "id": "-6FiUQgqbl4P"
   },
   "source": [
    "inverse_transform()을 통해 인코딩된 값을 다시 디코딩 할 수 있음"
   ]
  },
  {
   "cell_type": "code",
   "execution_count": null,
   "metadata": {
    "id": "rn_lbShObl4P",
    "outputId": "db0d0b4d-7892-41aa-e16b-159ca21dacb6"
   },
   "outputs": [
    {
     "name": "stdout",
     "output_type": "stream",
     "text": [
      "디코딩 원본 값: ['전자렌지' '컴퓨터' '믹서' 'TV' '냉장고' '냉장고' '선풍기' '선풍기']\n"
     ]
    }
   ],
   "source": [
    "print('디코딩 원본 값:',encoder.inverse_transform([4, 5, 2, 0, 1, 1, 3, 3]))"
   ]
  },
  {
   "cell_type": "markdown",
   "metadata": {
    "id": "XJGQwNfkbl4Q"
   },
   "source": [
    "#### 숫자의 특성(순서, 중요도)이 반영될 수 있는 선형회귀와 같은 ML알고리즘에는 적용하지 않아야 함(트리계열의 ML 알고리즘은 숫자특성 반영 않으므로 가능)\n",
    "\n",
    "#### 원-핫 인코딩(One-Hot Encoding) (레이블 인코딩의 문제점 해결 위함)"
   ]
  },
  {
   "cell_type": "code",
   "execution_count": null,
   "metadata": {
    "id": "Niph7oqebl4Q",
    "outputId": "4fb7af1f-c0e2-45fa-c4f6-d806d82d68e1"
   },
   "outputs": [
    {
     "data": {
      "image/png": "[encoded data removed]",
      "text/plain": [
       "<IPython.core.display.Image object>"
      ]
     },
     "execution_count": 88,
     "metadata": {},
     "output_type": "execute_result"
    }
   ],
   "source": [
    "from IPython.display import Image \n",
    "Image(\"one-hot encoding.png\")"
   ]
  },
  {
   "cell_type": "markdown",
   "metadata": {
    "id": "N7XfGjjSbl4Q"
   },
   "source": [
    "행 형태의 피처의 고유의 값을 열 형태로 차원 변환 후, 고유값에 해당하는 칼럼에만 1표시, 나머지 칼럼에는 0 표시"
   ]
  },
  {
   "cell_type": "markdown",
   "metadata": {
    "id": "ahF1cFDnbl4Q"
   },
   "source": [
    "주의사항 1.모든 문자열 값이 숫자형 값으로 변환되야 함. 2.입력값으로 2차원 데이터가 필요함"
   ]
  },
  {
   "cell_type": "code",
   "execution_count": null,
   "metadata": {
    "id": "kLjBgbqrbl4Q",
    "outputId": "d0efabc1-58aa-4b32-a232-2e34ed59b19a"
   },
   "outputs": [],
   "source": [
    "from sklearn.preprocessing import OneHotEncoder\n",
    "import numpy as np\n",
    "\n",
    "items=['TV','냉장고','전자렌지','컴퓨터','선풍기','선풍기','믹서','믹서']\n",
    "\n",
    "# 먼저 숫자값으로 변환을 위해 LabelEncoder로 변환합니다. \n",
    "encoder = LabelEncoder()\n",
    "encoder.fit(items)\n",
    "labels = encoder.transform(items)\n",
    "# 2차원 데이터로 변환합니다. \n",
    "labels = labels.reshape(-1,1) ## 한개의 열로 변환\n",
    "\n",
    "# 원-핫 인코딩을 적용합니다. \n",
    "oh_encoder = OneHotEncoder()\n",
    "oh_encoder.fit(labels)\n",
    "oh_labels = oh_encoder.transform(labels)\n",
    "print('원-핫 인코딩 데이터')\n",
    "print(oh_labels.toarray())\n",
    "print('원-핫 인코딩 데이터 차원')\n",
    "print(oh_labels.shape)"
   ]
  },
  {
   "cell_type": "markdown",
   "metadata": {
    "id": "3gvFKX8tbl4R"
   },
   "source": [
    "**get_dummies()** 문자열 카테고리 값을 숫자형으로 변환할 필요 없이 바로 변환 가능"
   ]
  },
  {
   "cell_type": "code",
   "execution_count": null,
   "metadata": {
    "id": "_6MJR4Frbl4R",
    "outputId": "3eed4f9f-7578-463f-c0f9-b4f65f78a9a7"
   },
   "outputs": [],
   "source": [
    "import pandas as pd\n",
    "\n",
    "df = pd.DataFrame({'item':['TV','냉장고','전자렌지','컴퓨터','선풍기','선풍기','믹서','믹서'] })\n",
    "pd.get_dummies(df)"
   ]
  },
  {
   "cell_type": "markdown",
   "metadata": {
    "id": "KH-biEJ6bl4R"
   },
   "source": [
    "### 피처 스케일링과 정규화"
   ]
  },
  {
   "cell_type": "markdown",
   "metadata": {
    "id": "Nksw8hs4bl4R"
   },
   "source": [
    "서로 다른 변수 값의 볌위를 일정 수준으로 맞추는 작업  \n",
    "대표적으로 표준화(Standardization), 정규화(Normalization)이 있음  \n",
    "- 표준화: 평균 0 분산 1인 가우시안 정규 분포를 가진 값으로 변환  \n",
    "- 정규화: 서로 다른 피처의 크기를 통일하기 위해 크기를 변주화, 최소0~최대1의 값으로 변환  \n",
    "  \n",
    "사이킷런의 Normalization 모듈과 일반 정규화는 약간의 차이가 있음 \n",
    "- 사이킷런의 Normalization 모듈은 선형대수에서의 정규화 개념 적용됨  - \"벡터 정규화\"로 지칭\n",
    "\n",
    "일반적 의미의 표준화, 정규화를 '피처 스케일링'으로 통칭"
   ]
  },
  {
   "cell_type": "markdown",
   "metadata": {
    "id": "0tK7L0Labl4R"
   },
   "source": [
    "### StandardScaler"
   ]
  },
  {
   "cell_type": "markdown",
   "metadata": {
    "id": "wllPi-cxbl4R"
   },
   "source": [
    "표준화 지원, 평균 0, 분산 1 - 가우시안 평균 분포를 가질 수 있도록 변환 하는 것 매우 중요  \n",
    "- 서포트 벡터 머신(Support Vector Machine), 선형 회귀(Linear Regression), 로지스틱 회귀(Logistic Regression): **가우시안 분포 가정으로 구현**"
   ]
  },
  {
   "cell_type": "markdown",
   "metadata": {
    "id": "vHaWELt6bl4S"
   },
   "source": [
    "![guassian distribution](guassian distribution.png)"
   ]
  },
  {
   "cell_type": "markdown",
   "metadata": {
    "id": "_AyhhmeDbl4S"
   },
   "source": [
    "붓꽃 데이터 피처들 평균,분산값 구하기"
   ]
  },
  {
   "cell_type": "code",
   "execution_count": null,
   "metadata": {
    "id": "euh1Cr4Abl4S",
    "outputId": "54b10d6f-1bba-4446-fb5f-88bcd26291c5"
   },
   "outputs": [],
   "source": [
    "from sklearn.datasets import load_iris\n",
    "import pandas as pd\n",
    "# 붓꽃 데이터 셋을 로딩하고 DataFrame으로 변환합니다. \n",
    "iris = load_iris()\n",
    "iris_data = iris.data\n",
    "iris_df = pd.DataFrame(data=iris_data, columns=iris.feature_names)\n",
    "\n",
    "print('feature 들의 평균 값')\n",
    "print(iris_df.mean())\n",
    "print('\\nfeature 들의 분산 값')\n",
    "print(iris_df.var())"
   ]
  },
  {
   "cell_type": "markdown",
   "metadata": {
    "id": "GXNj52oybl4S"
   },
   "source": [
    "표준화 진행"
   ]
  },
  {
   "cell_type": "code",
   "execution_count": null,
   "metadata": {
    "id": "YOp0bk0Fbl4T",
    "outputId": "54f08468-e521-47d3-ca70-329101464422"
   },
   "outputs": [],
   "source": [
    "from sklearn.preprocessing import StandardScaler\n",
    "\n",
    "# StandardScaler객체 생성\n",
    "scaler = StandardScaler()\n",
    "# StandardScaler 로 데이터 셋 변환. fit( ) 과 transform( ) 호출.  \n",
    "scaler.fit(iris_df)\n",
    "iris_scaled = scaler.transform(iris_df)\n",
    "\n",
    "#transform( )시 scale 변환된 데이터 셋이 numpy ndarry로 반환되어 이를 DataFrame으로 변환\n",
    "iris_df_scaled = pd.DataFrame(data=iris_scaled, columns=iris.feature_names)\n",
    "print('feature 들의 평균 값')\n",
    "print(iris_df_scaled.mean())\n",
    "print('\\nfeature 들의 분산 값')\n",
    "print(iris_df_scaled.var())\n"
   ]
  },
  {
   "cell_type": "markdown",
   "metadata": {
    "id": "9gkgvkkgbl4T"
   },
   "source": [
    "### MinMaxScaler"
   ]
  },
  {
   "cell_type": "markdown",
   "metadata": {
    "id": "Y63Nb17ibl4T"
   },
   "source": [
    "데이터 값을 0과 1사이 범위값으로 변환(음수값이 있으면 -1에서 1값으로 변환)  \n",
    "데이터 분포가 가우시안 분포가 아닐 경우 적용"
   ]
  },
  {
   "cell_type": "code",
   "execution_count": null,
   "metadata": {
    "id": "2AXW-kVEbl4T",
    "outputId": "32791041-1e8a-44cb-802d-e7c4204925cd"
   },
   "outputs": [],
   "source": [
    "from sklearn.preprocessing import MinMaxScaler\n",
    "\n",
    "# MinMaxScaler객체 생성\n",
    "scaler = MinMaxScaler()\n",
    "# MinMaxScaler 로 데이터 셋 변환. fit() 과 transform() 호출.  \n",
    "scaler.fit(iris_df)\n",
    "iris_scaled = scaler.transform(iris_df)\n",
    "\n",
    "# transform()시 scale 변환된 데이터 셋이 numpy ndarry로 반환되어 이를 DataFrame으로 변환\n",
    "iris_df_scaled = pd.DataFrame(data=iris_scaled, columns=iris.feature_names)\n",
    "print('feature들의 최소 값')\n",
    "print(iris_df_scaled.min())\n",
    "print('\\nfeature들의 최대 값')\n",
    "print(iris_df_scaled.max())"
   ]
  },
  {
   "cell_type": "markdown",
   "metadata": {
    "id": "SlQCzncHbl4U"
   },
   "source": [
    "### 학습 데이터와 테스트 데이터 스케일링 변환 시 유의점"
   ]
  },
  {
   "cell_type": "markdown",
   "metadata": {
    "id": "b8dExzAkbl4U"
   },
   "source": [
    "#### 학습데이터로 fit() 적용된 스케일링 기준 정보를 그대로~ 테스트데이터에 적용해야 함, 테스트데이터에 fit()를 다시 수행하면 안됨  \n",
    "학습데이터와 테스트데이터의 스케일링 기준정보가 서로 달라지면 올바른 예측이 안됨"
   ]
  },
  {
   "cell_type": "code",
   "execution_count": null,
   "metadata": {
    "collapsed": true,
    "id": "7B5ESUnLbl4U"
   },
   "outputs": [],
   "source": [
    "from sklearn.preprocessing import MinMaxScaler\n",
    "import numpy as np\n",
    "\n",
    "# 학습 데이터는 0 부터 10까지, 테스트 데이터는 0 부터 5까지 값을 가지는 데이터 세트로 생성\n",
    "# Scaler클래스의 fit(), transform()은 2차원 이상 데이터만 가능하므로 reshape(-1, 1)로 차원 변경\n",
    "train_array = np.arange(0, 11).reshape(-1, 1)\n",
    "test_array =  np.arange(0, 6).reshape(-1, 1)"
   ]
  },
  {
   "cell_type": "code",
   "execution_count": null,
   "metadata": {
    "id": "BGtxcSGPbl4U",
    "outputId": "f43de001-0f09-48f5-a520-42abfa7c0da0"
   },
   "outputs": [],
   "source": [
    "# 최소값 0, 최대값 1로 변환하는 MinMaxScaler객체 생성\n",
    "scaler = MinMaxScaler()\n",
    "# fit()하게 되면 train_array 데이터의 최소값이 0, 최대값이 10으로 설정.  \n",
    "scaler.fit(train_array)\n",
    "# 1/10 scale로 train_array 데이터 변환함. 원본 10-> 1로 변환됨.\n",
    "train_scaled = scaler.transform(train_array)\n",
    "\n",
    "print('원본 train_array 데이터:', train_array.reshape(-1))\n",
    "print('Scale된 train_array 데이터:', train_scaled.reshape(-1))\n",
    "\n",
    "print('원본 train_array 데이터:', np.round(train_array.reshape(-1), 2))\n",
    "print('Scale된 train_array 데이터:', np.round(train_scaled.reshape(-1), 2))"
   ]
  },
  {
   "cell_type": "code",
   "execution_count": null,
   "metadata": {
    "id": "ctcxj8F5bl4V",
    "outputId": "1d1d015f-f96d-4e6a-966d-4342fc508e3b"
   },
   "outputs": [],
   "source": [
    "# 앞에서 생성한 MinMaxScaler에 test_array를 fit()하게 되면 원본 데이터의 최소값이 0, 최대값이 5으로 설정됨 \n",
    "scaler.fit(test_array)\n",
    "# 1/5 scale로 test_array 데이터 변환함. 원본 5->1로 변환.  \n",
    "test_scaled = scaler.transform(test_array)\n",
    "# train_array 변환 출력\n",
    "print('원본 test_array 데이터:', np.round(test_array.reshape(-1), 2))\n",
    "print('Scale된 test_array 데이터:', np.round(test_scaled.reshape(-1), 2))"
   ]
  },
  {
   "cell_type": "code",
   "execution_count": null,
   "metadata": {
    "id": "apKp8K9obl4V",
    "outputId": "4e6f81d9-c45c-445c-f790-1a2e8c3735fa"
   },
   "outputs": [],
   "source": [
    "scaler = MinMaxScaler()\n",
    "scaler.fit(train_array)\n",
    "train_scaled = scaler.transform(train_array)\n",
    "print('원본 train_array 데이터:', np.round(train_array.reshape(-1), 2))\n",
    "print('Scale된 train_array 데이터:', np.round(train_scaled.reshape(-1), 2))\n",
    "\n",
    "# test_array에 Scale 변환을 할 때는 반드시 fit()을 호출하지 않고 transform() 만으로 변환해야 함. \n",
    "test_scaled = scaler.transform(test_array)\n",
    "print('\\n원본 test_array 데이터:', np.round(test_array.reshape(-1), 2))\n",
    "print('Scale된 test_array 데이터:', np.round(test_scaled.reshape(-1), 2))"
   ]
  },
  {
   "cell_type": "markdown",
   "metadata": {
    "id": "-k3uEC5abl4W"
   },
   "source": [
    "#### 1.가능하면 전체 데이터의 스케일링 변환 후 학습, 테스트 데이터 분리\n",
    "#### 2.1이 여의치 않으면 테스트 데이터 변환 시 fit(), fit_transform()을 적용하지 않고 학습데이터로 이미 fit()된 Scaler객체 이용해 transform() 으로 변환\n",
    "PCA와 같은 차원 축소 변환, 텍스트의 피처 벡터화 변환 작업시에도 동일하게 적용"
   ]
  },
  {
   "cell_type": "markdown",
   "metadata": {
    "id": "WY3uez2Zbl4W"
   },
   "source": [
    "-------------------"
   ]
  },
  {
   "cell_type": "markdown",
   "metadata": {
    "id": "teyumerUbl4W"
   },
   "source": [
    "## 06 사이킷런으로 수행하는 타이타닉 생존자 예측"
   ]
  },
  {
   "cell_type": "markdown",
   "metadata": {
    "id": "7urjxEH4bl4W"
   },
   "source": [
    "- PassengerId: 탑승자 데이터 일련번호  \n",
    "- Survived: 생존여부, 0 = 사망, 1 = 생존  \n",
    "- Pclass: 티켓의 선실 등급, 1 = 일등석, 2 = 이등석, 3 = 삼등석  \n",
    "- Sex: 탑승자 성별 \n",
    "- Name: 탑승자 이름 \n",
    "- Age: 탑승자 나이  \n",
    "- SibSp: 같이 탑승한 형제, 자매 또는 배우자 인원 수  \n",
    "- Parch: 같이 탑승한 부모님 또는 자녀 인원 수  \n",
    "- Ticket: 티켓 번호  \n",
    "- Fare: 요금  \n",
    "- Cabin: 선실 번호  \n",
    "- Embarked: 탑승 항구, C = Cherbourg, Q = Queenstown, S = Southampton"
   ]
  },
  {
   "cell_type": "code",
   "execution_count": null,
   "metadata": {
    "id": "S619-zoPbl4X",
    "outputId": "1d91ed0a-8205-4dc1-b227-9e506b944662"
   },
   "outputs": [],
   "source": [
    "import numpy as np\n",
    "import pandas as pd\n",
    "import matplotlib.pyplot as plt #대표적 시각화 패키지\n",
    "import seaborn as sns #대표적 시각화 패키지\n",
    "%matplotlib inline\n",
    "\n",
    "titanic_df = pd.read_csv('titanic_train.csv')\n",
    "titanic_df.head(3)"
   ]
  },
  {
   "cell_type": "code",
   "execution_count": null,
   "metadata": {
    "id": "jfZw10LDbl4X",
    "outputId": "8e3566e5-c2cc-448f-bb32-0a550a7a01f3",
    "scrolled": true
   },
   "outputs": [],
   "source": [
    "print('\\n ### 학습 데이터 정보 ###  \\n')\n",
    "titanic_df.info()"
   ]
  },
  {
   "cell_type": "markdown",
   "metadata": {
    "id": "M8UdaIeWbl4X"
   },
   "source": [
    "Null 값 처리 결정 필요"
   ]
  },
  {
   "cell_type": "code",
   "execution_count": null,
   "metadata": {
    "id": "e1kLI3_fbl4X",
    "outputId": "da6d8b2d-a5c8-4421-8804-63911b430ef2"
   },
   "outputs": [
    {
     "name": "stdout",
     "output_type": "stream",
     "text": [
      "데이터 세트 Null 값 갯수  0\n"
     ]
    }
   ],
   "source": [
    "titanic_df['Age'].fillna(titanic_df['Age'].mean(), inplace =True)\n",
    "titanic_df['Cabin'].fillna('N', inplace=True)\n",
    "titanic_df['Embarked'].fillna('N',inplace=True)\n",
    "print('데이터 세트 Null 값 갯수 ',titanic_df.isnull().sum().sum())"
   ]
  },
  {
   "cell_type": "code",
   "execution_count": null,
   "metadata": {
    "id": "zpdkhq1_bl4Y",
    "outputId": "46303f16-e756-41e6-edd5-4238ad9e1e5c"
   },
   "outputs": [],
   "source": [
    "print(' Sex 값 분포 :\\n',titanic_df['Sex'].value_counts())\n",
    "print('\\n Cabin 값 분포 :\\n',titanic_df['Cabin'].value_counts())\n",
    "print('\\n Embarked 값 분포 :\\n',titanic_df['Embarked'].value_counts())"
   ]
  },
  {
   "cell_type": "code",
   "execution_count": null,
   "metadata": {
    "id": "kfZg5Vlhbl4Y",
    "outputId": "a4b79826-5b10-42a1-d76b-231546dd0a3c"
   },
   "outputs": [],
   "source": [
    "#Cabin값 앞1글자만 추출\n",
    "titanic_df['Cabin'] = titanic_df['Cabin'].str[:1]\n",
    "print(titanic_df['Cabin'].head(3))"
   ]
  },
  {
   "cell_type": "code",
   "execution_count": null,
   "metadata": {
    "id": "PoUYjhbobl4Y",
    "outputId": "b8d2443f-4359-4519-8c1b-16a202604b5a"
   },
   "outputs": [],
   "source": [
    "# 성별에 따른 생존자수\n",
    "titanic_df.groupby(['Sex','Survived'])['Survived'].count()"
   ]
  },
  {
   "cell_type": "code",
   "execution_count": null,
   "metadata": {
    "id": "bfTH2Ff4bl4Z",
    "outputId": "94ca8de2-d482-4b22-e2d8-67ccb07f510c"
   },
   "outputs": [
    {
     "data": {
      "text/plain": [
       "<matplotlib.axes._subplots.AxesSubplot at 0x16acc3d3080>"
      ]
     },
     "execution_count": 104,
     "metadata": {},
     "output_type": "execute_result"
    },
    {
     "data": {
      "image/png": "[encoded data removed]",
      "text/plain": [
       "<matplotlib.figure.Figure at 0x16ace838630>"
      ]
     },
     "metadata": {},
     "output_type": "display_data"
    }
   ],
   "source": [
    "#seaborn 패키지로 시각화\n",
    "sns.barplot(x='Sex', y = 'Survived', data=titanic_df)"
   ]
  },
  {
   "cell_type": "code",
   "execution_count": null,
   "metadata": {
    "id": "Ldd7aKksbl4Z",
    "outputId": "306af84b-ac11-4489-8f4e-0ce19a8e0efc"
   },
   "outputs": [
    {
     "data": {
      "text/plain": [
       "<matplotlib.axes._subplots.AxesSubplot at 0x16ace838dd8>"
      ]
     },
     "execution_count": 105,
     "metadata": {},
     "output_type": "execute_result"
    },
    {
     "data": {
      "image/png": "[encoded data removed]",
      "text/plain": [
       "<matplotlib.figure.Figure at 0x16ace5d3a58>"
      ]
     },
     "metadata": {},
     "output_type": "display_data"
    }
   ],
   "source": [
    "# 객실 등급별, 성별 생존율\n",
    "sns.barplot(x='Pclass', y='Survived', hue='Sex', data=titanic_df)"
   ]
  },
  {
   "cell_type": "code",
   "execution_count": null,
   "metadata": {
    "id": "8m6On8BXbl4Z",
    "outputId": "b85e937d-47df-46c0-dfb4-fe3a8bd2c0f2",
    "scrolled": true
   },
   "outputs": [
    {
     "data": {
      "image/png": "[encoded data removed]",
      "text/plain": [
       "<matplotlib.figure.Figure at 0x16ace92c390>"
      ]
     },
     "metadata": {},
     "output_type": "display_data"
    }
   ],
   "source": [
    "# 연령대 별, 성 별 생존율\n",
    "\n",
    "# 입력 age에 따라 구분값을 반환하는 함수 설정. DataFrame의 apply lambda식에 사용. \n",
    "def get_category(age):\n",
    "    cat = ''\n",
    "    if age <= -1: cat = 'Unknown'\n",
    "    elif age <= 5: cat = 'Baby'\n",
    "    elif age <= 12: cat = 'Child'\n",
    "    elif age <= 18: cat = 'Teenager'\n",
    "    elif age <= 25: cat = 'Student'\n",
    "    elif age <= 35: cat = 'Young Adult'\n",
    "    elif age <= 60: cat = 'Adult'\n",
    "    else : cat = 'Elderly'\n",
    "    \n",
    "    return cat\n",
    "\n",
    "# 막대그래프의 크기 figure를 더 크게 설정 \n",
    "plt.figure(figsize=(10,6))\n",
    "\n",
    "#X축의 값을 순차적으로 표시하기 위한 설정 \n",
    "group_names = ['Unknown', 'Baby', 'Child', 'Teenager', 'Student', 'Young Adult', 'Adult', 'Elderly']\n",
    "\n",
    "# lambda 식에 위에서 생성한 get_category( ) 함수를 반환값으로 지정. \n",
    "# get_category(X)는 입력값으로 'Age' 컬럼값을 받아서 해당하는 cat 반환\n",
    "titanic_df['Age_cat'] = titanic_df['Age'].apply(lambda x : get_category(x))\n",
    "sns.barplot(x='Age_cat', y = 'Survived', hue='Sex', data=titanic_df, order=group_names)\n",
    "titanic_df.drop('Age_cat', axis=1, inplace=True)"
   ]
  },
  {
   "cell_type": "code",
   "execution_count": null,
   "metadata": {
    "id": "Imdaoggmbl4a"
   },
   "outputs": [],
   "source": [
    "# LabelEncoder 사용하여 문자열 카테고리를 숫자형으로 변환\n",
    "# encode_features()함수를 생성해 변환\n",
    "\n",
    "from sklearn import preprocessing\n",
    "\n",
    "def encode_features(dataDF):\n",
    "    features = ['Cabin', 'Sex', 'Embarked']\n",
    "    for feature in features:\n",
    "        le = preprocessing.LabelEncoder()\n",
    "        le = le.fit(dataDF[feature])\n",
    "        dataDF[feature] = le.transform(dataDF[feature])\n",
    "        \n",
    "    return dataDF\n",
    "\n",
    "titanic_df = encode_features(titanic_df)\n",
    "#titanic_df.head()"
   ]
  },
  {
   "cell_type": "code",
   "execution_count": null,
   "metadata": {
    "collapsed": true,
    "id": "4q4C5aZWbl4a"
   },
   "outputs": [],
   "source": [
    "# 데이터 가공 내역 정리, 함수로 만들어 쉽게 재사용\n",
    "\n",
    "# 데이터 전처리를 전체적으로 호출하는 함수 transform_featurs(): null처리, 포매팅, 인코딩 수행 내부 함수로 구성\n",
    "\n",
    "from sklearn.preprocessing import LabelEncoder\n",
    "\n",
    "# Null 처리 함수\n",
    "def fillna(df):\n",
    "    df['Age'].fillna(df['Age'].mean(),inplace=True)\n",
    "    df['Cabin'].fillna('N',inplace=True)\n",
    "    df['Embarked'].fillna('N',inplace=True)\n",
    "    df['Fare'].fillna(0,inplace=True)\n",
    "    return df\n",
    "\n",
    "# 머신러닝 알고리즘에 불필요한 속성 제거\n",
    "def drop_features(df):\n",
    "    df.drop(['PassengerId','Name','Ticket'],axis=1,inplace=True)\n",
    "    return df\n",
    "\n",
    "# 레이블 인코딩 수행. \n",
    "def format_features(df):\n",
    "    df['Cabin'] = df['Cabin'].str[:1]\n",
    "    features = ['Cabin','Sex','Embarked']\n",
    "    for feature in features:\n",
    "        le = LabelEncoder()\n",
    "        le = le.fit(df[feature])\n",
    "        df[feature] = le.transform(df[feature])\n",
    "    return df\n",
    "\n",
    "# 앞에서 설정한 Data Preprocessing 함수 호출\n",
    "def transform_features(df):\n",
    "    df = fillna(df)\n",
    "    df = drop_features(df)\n",
    "    df = format_features(df)\n",
    "    return df"
   ]
  },
  {
   "cell_type": "code",
   "execution_count": null,
   "metadata": {
    "collapsed": true,
    "id": "IcdOyZeVbl4a"
   },
   "outputs": [],
   "source": [
    "# 원본 데이터를 재로딩 하고, feature데이터 셋과 Label 데이터 셋 추출. \n",
    "titanic_df = pd.read_csv('titanic_train.csv')\n",
    "y_titanic_df = titanic_df['Survived']\n",
    "X_titanic_df= titanic_df.drop('Survived',axis=1)\n",
    "\n",
    "X_titanic_df = transform_features(X_titanic_df)"
   ]
  },
  {
   "cell_type": "code",
   "execution_count": null,
   "metadata": {
    "collapsed": true,
    "id": "ym6KDXhFbl4b"
   },
   "outputs": [],
   "source": [
    "# 테스트 데이터 세트 추출\n",
    "from sklearn.model_selection import train_test_split\n",
    "X_train, X_test, y_train, y_test=train_test_split(X_titanic_df, y_titanic_df,\n",
    "                                                  test_size=0.2, random_state=11)"
   ]
  },
  {
   "cell_type": "code",
   "execution_count": null,
   "metadata": {
    "id": "KTBQYUV8bl4b",
    "outputId": "e700ce37-55a6-4671-a5cd-39949dfd8d6e"
   },
   "outputs": [
    {
     "name": "stdout",
     "output_type": "stream",
     "text": [
      "DecisionTreeClassifier 정확도: 0.7877\n",
      "RandomForestClassifier 정확도:0.8324\n",
      "LogisticRegression 정확도: 0.8659\n"
     ]
    }
   ],
   "source": [
    "# 결정 트리, 랜덤 포레스트, 로지스틱 회귀이용해 생존자 예측\n",
    "\n",
    "from sklearn.tree import DecisionTreeClassifier\n",
    "from sklearn.ensemble import RandomForestClassifier\n",
    "from sklearn.linear_model import LogisticRegression\n",
    "from sklearn.metrics import accuracy_score\n",
    "\n",
    "# 결정트리, Random Forest, 로지스틱 회귀를 위한 사이킷런 Classifier 클래스 생성\n",
    "dt_clf = DecisionTreeClassifier(random_state=11)\n",
    "rf_clf = RandomForestClassifier(random_state=11)\n",
    "lr_clf = LogisticRegression()\n",
    "\n",
    "# DecisionTreeClassifier 학습/예측/평가\n",
    "dt_clf.fit(X_train , y_train)\n",
    "dt_pred = dt_clf.predict(X_test)\n",
    "print('DecisionTreeClassifier 정확도: {0:.4f}'.format(accuracy_score(y_test, dt_pred)))\n",
    "\n",
    "# RandomForestClassifier 학습/예측/평가\n",
    "rf_clf.fit(X_train , y_train)\n",
    "rf_pred = rf_clf.predict(X_test)\n",
    "print('RandomForestClassifier 정확도:{0:.4f}'.format(accuracy_score(y_test, rf_pred)))\n",
    "\n",
    "# LogisticRegression 학습/예측/평가\n",
    "lr_clf.fit(X_train , y_train)\n",
    "lr_pred = lr_clf.predict(X_test)\n",
    "print('LogisticRegression 정확도: {0:.4f}'.format(accuracy_score(y_test, lr_pred)))"
   ]
  },
  {
   "cell_type": "code",
   "execution_count": null,
   "metadata": {
    "id": "3KaJQlw5bl4b",
    "outputId": "218f9f42-dcf8-416c-839b-2065014f2ebb"
   },
   "outputs": [
    {
     "name": "stdout",
     "output_type": "stream",
     "text": [
      "교차 검증 0 정확도: 0.7542\n",
      "교차 검증 1 정확도: 0.7809\n",
      "교차 검증 2 정확도: 0.7865\n",
      "교차 검증 3 정확도: 0.7697\n",
      "교차 검증 4 정확도: 0.8202\n",
      "평균 정확도: 0.7823\n"
     ]
    }
   ],
   "source": [
    "# KFold 클래스로 교차검증, 폴드 갯수 5\n",
    "\n",
    "from sklearn.model_selection import KFold\n",
    "\n",
    "def exec_kfold(clf, folds=5):\n",
    "    # 폴드 세트를 5개인 KFold객체를 생성, 폴드 수만큼 예측결과 저장을 위한  리스트 객체 생성.\n",
    "    kfold = KFold(n_splits=folds)\n",
    "    scores = []\n",
    "    \n",
    "    # KFold 교차 검증 수행. \n",
    "    for iter_count , (train_index, test_index) in enumerate(kfold.split(X_titanic_df)):\n",
    "        # X_titanic_df 데이터에서 교차 검증별로 학습과 검증 데이터를 가리키는 index 생성\n",
    "        X_train, X_test = X_titanic_df.values[train_index], X_titanic_df.values[test_index]\n",
    "        y_train, y_test = y_titanic_df.values[train_index], y_titanic_df.values[test_index]\n",
    "        \n",
    "        # Classifier 학습, 예측, 정확도 계산 \n",
    "        clf.fit(X_train, y_train) \n",
    "        predictions = clf.predict(X_test)\n",
    "        accuracy = accuracy_score(y_test, predictions)\n",
    "        scores.append(accuracy)\n",
    "        print(\"교차 검증 {0} 정확도: {1:.4f}\".format(iter_count, accuracy))     \n",
    "    \n",
    "    # 5개 fold에서의 평균 정확도 계산. \n",
    "    mean_score = np.mean(scores)\n",
    "    print(\"평균 정확도: {0:.4f}\".format(mean_score)) \n",
    "# exec_kfold 호출\n",
    "exec_kfold(dt_clf , folds=5) "
   ]
  },
  {
   "cell_type": "code",
   "execution_count": null,
   "metadata": {
    "id": "BDSlgMGEbl4c",
    "outputId": "e2e2ac6a-a02f-4224-e727-a818be2bb5b0"
   },
   "outputs": [
    {
     "name": "stdout",
     "output_type": "stream",
     "text": [
      "교차 검증 0 정확도: 0.7430\n",
      "교차 검증 1 정확도: 0.7765\n",
      "교차 검증 2 정확도: 0.7809\n",
      "교차 검증 3 정확도: 0.7753\n",
      "교차 검증 4 정확도: 0.8418\n",
      "평균 정확도: 0.7835\n"
     ]
    }
   ],
   "source": [
    "# cross_val_score 로 교차검증 - StratifiedKFold로 분할\n",
    "\n",
    "from sklearn.model_selection import cross_val_score\n",
    "\n",
    "scores = cross_val_score(dt_clf, X_titanic_df , y_titanic_df , cv=5)\n",
    "for iter_count,accuracy in enumerate(scores):\n",
    "    print(\"교차 검증 {0} 정확도: {1:.4f}\".format(iter_count, accuracy))\n",
    "\n",
    "print(\"평균 정확도: {0:.4f}\".format(np.mean(scores)))"
   ]
  },
  {
   "cell_type": "code",
   "execution_count": null,
   "metadata": {
    "id": "Uv10iJsubl4c",
    "outputId": "ae1a888f-0428-4ce2-ed9e-c42df46db25f"
   },
   "outputs": [
    {
     "name": "stdout",
     "output_type": "stream",
     "text": [
      "GridSearchCV 최적 하이퍼 파라미터 : {'max_depth': 3, 'min_samples_leaf': 1, 'min_samples_split': 2}\n",
      "GridSearchCV 최고 정확도: 0.7992\n",
      "테스트 세트에서의 DecisionTreeClassifier 정확도 : 0.8715\n"
     ]
    }
   ],
   "source": [
    "# GridSearchCV의 최적 하이퍼 파라미터로 학습된 Estimator로 예측 및 평가 수행. \n",
    "\n",
    "from sklearn.model_selection import GridSearchCV\n",
    "\n",
    "parameters = {'max_depth':[2,3,5,10],\n",
    "             'min_samples_split':[2,3,5], 'min_samples_leaf':[1,5,8]}\n",
    "\n",
    "grid_dclf = GridSearchCV(dt_clf , param_grid=parameters , scoring='accuracy' , cv=5)\n",
    "grid_dclf.fit(X_train , y_train)\n",
    "\n",
    "print('GridSearchCV 최적 하이퍼 파라미터 :',grid_dclf.best_params_)\n",
    "print('GridSearchCV 최고 정확도: {0:.4f}'.format(grid_dclf.best_score_))\n",
    "best_dclf = grid_dclf.best_estimator_\n",
    "\n",
    "# GridSearchCV의 최적 하이퍼 파라미터로 학습된 Estimator로 예측 및 평가 수행. \n",
    "dpredictions = best_dclf.predict(X_test)\n",
    "accuracy = accuracy_score(y_test , dpredictions)\n",
    "print('테스트 세트에서의 DecisionTreeClassifier 정확도 : {0:.4f}'.format(accuracy))"
   ]
  },
  {
   "cell_type": "markdown",
   "metadata": {
    "id": "H6dgWeA_bl4c"
   },
   "source": [
    "0.7835 vs 0.8715  \n",
    "하이퍼 파라미터 적용하여 예측 정확도 향상됨  \n",
    "일반적으로 이정도 수준으로 증가하기 어려움  \n",
    "테스트용 데이터 세트가 작기 떄문에 많이 증가한 것으로 보임"
   ]
  },
  {
   "cell_type": "code",
   "execution_count": null,
   "metadata": {
    "collapsed": true,
    "id": "FdJZxTzKbl4d"
   },
   "outputs": [],
   "source": []
  }
 ],
 "metadata": {
  "colab": {
   "collapsed_sections": [
    "NjRvgvYtbl4B",
    "L6BYUlE6bl4C",
    "CsSifobbbl4C",
    "vabxv72Qbl4D",
    "sAyr9olEbl4D",
    "kct-Qx2jbl4D",
    "ViRnp-wgbl4G",
    "NsSRcC8Tbl4H",
    "scilZIWGbl4I",
    "3cKURZBYbl4J",
    "R6DZMpjJbl4L",
    "09ELRxwXbl4L",
    "K_leIG9Fbl4L",
    "e-1QZNGVbl4M",
    "KlpwQZr_bl4N",
    "iKQpRpHNbl4N",
    "Y20LJ5Ihbl4O",
    "Xdsn0LbDbl4O",
    "S5wbiS3Hbl4P",
    "XJGQwNfkbl4Q",
    "KH-biEJ6bl4R",
    "b8dExzAkbl4U",
    "-k3uEC5abl4W"
   ],
   "name": "2.사이킷런으로 시작하는 머신러닝.ipynb",
   "provenance": []
  },
  "kernelspec": {
   "display_name": "Python 3 (ipykernel)",
   "language": "python",
   "name": "python3"
  },
  "language_info": {
   "codemirror_mode": {
    "name": "ipython",
    "version": 3
   },
   "file_extension": ".py",
   "mimetype": "text/x-python",
   "name": "python",
   "nbconvert_exporter": "python",
   "pygments_lexer": "ipython3",
   "version": "3.9.7"
  }
 },
 "nbformat": 4,
 "nbformat_minor": 1
}
