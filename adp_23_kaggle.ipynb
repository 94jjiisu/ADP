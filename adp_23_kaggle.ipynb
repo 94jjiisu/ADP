{
 "cells": [
  {
   "cell_type": "code",
   "execution_count": null,
   "metadata": {
    "_cell_guid": "b1076dfc-b9ad-4769-8c92-a6c4dae69d19",
    "_uuid": "8f2839f25d086af736a60e9eeb907d3b93b6e0e5",
    "execution": {
     "iopub.execute_input": "2022-03-08T10:26:42.040044Z",
     "iopub.status.busy": "2022-03-08T10:26:42.039071Z",
     "iopub.status.idle": "2022-03-08T10:26:42.073237Z",
     "shell.execute_reply": "2022-03-08T10:26:42.072432Z",
     "shell.execute_reply.started": "2022-03-08T10:26:42.039918Z"
    }
   },
   "outputs": [],
   "source": [
    "# This Python 3 environment comes with many helpful analytics libraries installed\n",
    "# It is defined by the kaggle/python Docker image: https://github.com/kaggle/docker-python\n",
    "# For example, here's several helpful packages to load\n",
    "\n",
    "import numpy as np # linear algebra\n",
    "import pandas as pd # data processing, CSV file I/O (e.g. pd.read_csv)\n",
    "\n",
    "# Input data files are available in the read-only \"../input/\" directory\n",
    "# For example, running this (by clicking run or pressing Shift+Enter) will list all files under the input directory\n",
    "\n",
    "import os\n",
    "for dirname, _, filenames in os.walk('/kaggle/input'):\n",
    "    for filename in filenames:\n",
    "        print(os.path.join(dirname, filename))\n",
    "\n",
    "# You can write up to 20GB to the current directory (/kaggle/working/) that gets preserved as output when you create a version using \"Save & Run All\" \n",
    "# You can also write temporary files to /kaggle/temp/, but they won't be saved outside of the current session"
   ]
  },
  {
   "cell_type": "markdown",
   "metadata": {},
   "source": [
    "# 1번\n",
    "온,습도,조도,CO2농도에 따른 객실의 사용유무 판별     \n",
    "종속변수 Occupancy, 0: 비어있음 , 1: 사용중    \n",
    "\n",
    "데이터 경로 : /kaggle/input/adp-kr-p1/problem1.csv"
   ]
  },
  {
   "cell_type": "markdown",
   "metadata": {},
   "source": [
    "### 1 - (1)\n",
    "데이터 EDA 수행 후, 분석가 입장에서 의미있는 탐색"
   ]
  },
  {
   "cell_type": "code",
   "execution_count": null,
   "metadata": {
    "execution": {
     "iopub.execute_input": "2022-03-08T10:26:42.075122Z",
     "iopub.status.busy": "2022-03-08T10:26:42.074515Z",
     "iopub.status.idle": "2022-03-08T10:26:42.163732Z",
     "shell.execute_reply": "2022-03-08T10:26:42.162814Z",
     "shell.execute_reply.started": "2022-03-08T10:26:42.075087Z"
    }
   },
   "outputs": [],
   "source": [
    "import pandas as pd\n",
    "df =pd.read_csv('/kaggle/input/adp-kr-p1/problem1.csv')\n",
    "df.info()"
   ]
  },
  {
   "cell_type": "code",
   "execution_count": null,
   "metadata": {
    "execution": {
     "iopub.execute_input": "2022-03-08T10:26:42.165109Z",
     "iopub.status.busy": "2022-03-08T10:26:42.164862Z",
     "iopub.status.idle": "2022-03-08T10:26:42.184839Z",
     "shell.execute_reply": "2022-03-08T10:26:42.184132Z",
     "shell.execute_reply.started": "2022-03-08T10:26:42.16508Z"
    }
   },
   "outputs": [],
   "source": [
    "display(df.isnull().sum())\n",
    "print()\n",
    "print(df[df.CO2.isnull()].date.values)\n",
    "print('\\n결측치는 CO2 컬럼에만 존재한다. 결측치의 데이터는 연속적으로 존재하는 것이 아니다.')"
   ]
  },
  {
   "cell_type": "code",
   "execution_count": null,
   "metadata": {
    "execution": {
     "iopub.execute_input": "2022-03-08T10:26:42.18814Z",
     "iopub.status.busy": "2022-03-08T10:26:42.187784Z",
     "iopub.status.idle": "2022-03-08T10:26:56.359588Z",
     "shell.execute_reply": "2022-03-08T10:26:56.35894Z",
     "shell.execute_reply.started": "2022-03-08T10:26:42.188093Z"
    }
   },
   "outputs": [],
   "source": [
    "import seaborn as sns\n",
    "import matplotlib.pyplot as plt\n",
    "sns.pairplot(df)\n",
    "plt.show()\n",
    "for v in df.select_dtypes(include='float'):\n",
    "    target = df[v].dropna()\n",
    "    plt.boxplot(target)\n",
    "    plt.title(v)\n",
    "    plt.show()\n",
    "    \n",
    "print('''\n",
    "Humidity, HumidityRatio컬럼은 높은 상관관계를 보이며, 두 컬럼을 제외한 나머지 데이터의 경우 이상치가 상대적으로 많이 존재한다\n",
    "''')"
   ]
  },
  {
   "cell_type": "markdown",
   "metadata": {},
   "source": [
    "Humidity, HumidityRatio컬럼은 높은 상관관계를 보이며, 두 컬럼을 제외한 나머지 데이터의 경우 이상치가 상대적으로 많이 존재한다"
   ]
  },
  {
   "cell_type": "code",
   "execution_count": null,
   "metadata": {
    "execution": {
     "iopub.execute_input": "2022-03-08T10:26:56.361569Z",
     "iopub.status.busy": "2022-03-08T10:26:56.360893Z",
     "iopub.status.idle": "2022-03-08T10:26:56.40638Z",
     "shell.execute_reply": "2022-03-08T10:26:56.405656Z",
     "shell.execute_reply.started": "2022-03-08T10:26:56.361514Z"
    }
   },
   "outputs": [],
   "source": [
    "display(df[df.Light <0].shape)\n",
    "display(df.describe())\n",
    "print('''\n",
    "Light컬럼의 경우 -99인 값이 50개 존재한다. \n",
    "''')"
   ]
  },
  {
   "cell_type": "code",
   "execution_count": null,
   "metadata": {
    "execution": {
     "iopub.execute_input": "2022-03-08T10:26:56.408171Z",
     "iopub.status.busy": "2022-03-08T10:26:56.407723Z",
     "iopub.status.idle": "2022-03-08T10:26:56.434281Z",
     "shell.execute_reply": "2022-03-08T10:26:56.433156Z",
     "shell.execute_reply.started": "2022-03-08T10:26:56.408138Z"
    }
   },
   "outputs": [],
   "source": [
    "df['date'] = pd.to_datetime(df['date'])\n",
    "timedeltas = df['date'].diff().dt.seconds.dropna()\n",
    "display(timedeltas.describe())\n",
    "print()\n",
    "print('''\n",
    "75%의 데이터가 연속하는 데이터 사이에 61초 이내의 시간 차이를 가지고 있다. \n",
    "연속된 데이터간의 최대 시간차이는 25680초로 대략 7시간 차이가 존재한다.\n",
    "시계열 데이터로 데이터를 해석할 경우 이 사이 시간들은 결측치로 볼수 있다\n",
    "''')"
   ]
  },
  {
   "cell_type": "markdown",
   "metadata": {},
   "source": [
    "75%의 데이터가 연속하는 데이터 사이에 61초 이내의 시간 차이를 가지고 있다. \n",
    "연속된 데이터간의 최대 시간차이는 25680초로 대략 7시간 차이가 존재한다.\n",
    "시계열 데이터로 데이터를 해석할 경우 이 사이 시간들은 결측치로 볼수 있다"
   ]
  },
  {
   "cell_type": "markdown",
   "metadata": {},
   "source": [
    "### 1 - (2)\n",
    "결측치를 대체하는 방식 선택하고 근거제시, 대체 수행"
   ]
  },
  {
   "cell_type": "markdown",
   "metadata": {},
   "source": [
    "CO2 컬럼에 nan값으로 비어있는 데이터는 직전, 직후 데이터를 비교해서 Occupancy값이 변화하지 않거나, date값이 3분이내로 연속하는 데이터라고 한다면 직전 CO2값으로 대체 한다. 위의 두 기준에 해당한다면 모든 CO2의 결측치를 대체 할 수 있고 데이터의 품질을 손상 시키지 않다고 판단 할 수 있다"
   ]
  },
  {
   "cell_type": "code",
   "execution_count": null,
   "metadata": {
    "execution": {
     "iopub.execute_input": "2022-03-08T10:26:56.436275Z",
     "iopub.status.busy": "2022-03-08T10:26:56.435749Z",
     "iopub.status.idle": "2022-03-08T10:26:56.486838Z",
     "shell.execute_reply": "2022-03-08T10:26:56.486018Z",
     "shell.execute_reply.started": "2022-03-08T10:26:56.436224Z"
    }
   },
   "outputs": [],
   "source": [
    "for value in df[df.CO2.isnull()].index:\n",
    "    target = df.iloc[value-1:value+2]\n",
    "    difftime = target['date'].diff().dt.seconds.dropna()\n",
    "    if target.Occupancy.nunique() ==1 and len(difftime[difftime>180]) ==0:\n",
    "        df.loc[value,'CO2'] =df.loc[value-1].CO2"
   ]
  },
  {
   "cell_type": "code",
   "execution_count": null,
   "metadata": {
    "execution": {
     "iopub.execute_input": "2022-03-08T10:26:56.488514Z",
     "iopub.status.busy": "2022-03-08T10:26:56.48794Z",
     "iopub.status.idle": "2022-03-08T10:26:56.497205Z",
     "shell.execute_reply": "2022-03-08T10:26:56.496375Z",
     "shell.execute_reply.started": "2022-03-08T10:26:56.48848Z"
    }
   },
   "outputs": [],
   "source": [
    "df.isnull().sum()"
   ]
  },
  {
   "cell_type": "markdown",
   "metadata": {},
   "source": [
    "### 1 - (3)\n",
    "추가적으로 데이터의 질 및 품질관리를 향상시킬만한 내용 작성"
   ]
  },
  {
   "cell_type": "code",
   "execution_count": null,
   "metadata": {
    "execution": {
     "iopub.execute_input": "2022-03-08T10:26:56.49868Z",
     "iopub.status.busy": "2022-03-08T10:26:56.49845Z",
     "iopub.status.idle": "2022-03-08T10:26:56.505777Z",
     "shell.execute_reply": "2022-03-08T10:26:56.504917Z",
     "shell.execute_reply.started": "2022-03-08T10:26:56.49865Z"
    }
   },
   "outputs": [],
   "source": [
    "df.loc[df.Light ==-99,'Light'] = 0"
   ]
  },
  {
   "cell_type": "markdown",
   "metadata": {},
   "source": [
    "Light 컬럼의 -99는 예외값에 대해 임의 값을 입력한 것으로 보인다. -99를 제외한 컬럼의 최솟값인 0으로 대체한다.\n",
    "평균적으로 시간은 1분 간격의 데이터이다. 하지만 최대 7시간의 공백이 존재한다. 이를 보간 해주는 것도 방법 일수 있지만,시계열 모델을 사용하지 않을 것이기에 보간을 따로 해주지 않고 모델링을 진행한다."
   ]
  },
  {
   "cell_type": "markdown",
   "metadata": {},
   "source": [
    "### 2 - (1)\n",
    "데이터에 불균형이 있는지 확인, 불균형 판단 근거 작성\n"
   ]
  },
  {
   "cell_type": "code",
   "execution_count": null,
   "metadata": {
    "execution": {
     "iopub.execute_input": "2022-03-08T10:26:56.509803Z",
     "iopub.status.busy": "2022-03-08T10:26:56.509374Z",
     "iopub.status.idle": "2022-03-08T10:26:56.977029Z",
     "shell.execute_reply": "2022-03-08T10:26:56.976335Z",
     "shell.execute_reply.started": "2022-03-08T10:26:56.509773Z"
    }
   },
   "outputs": [],
   "source": [
    "plt.figure(figsize=(15,4))\n",
    "plt.scatter(df['date'],df['Occupancy'].astype('str'),s=0.03)\n",
    "plt.show()\n",
    "df.Occupancy.value_counts()\n",
    "\n",
    "print('''\n",
    "Occupancy 의 경우 7:1의 비율로 데이터 불균형이 존재한다.\n",
    "위의 그래프에서 보면 2월 7일~9일 , 2월 14~16일까지는 객실이 비어있다. 이처럼 객실이 비어있지 않는 경우 보다 비어있는 경우가 더 많기에 불균형이 존재한다\n",
    "''')"
   ]
  },
  {
   "cell_type": "markdown",
   "metadata": {},
   "source": [
    "Occupancy 의 경우 7:1의 비율로 데이터 불균형이 존재한다.\n",
    "위의 그래프에서 보면 2월 7일~9일 , 2월 14~16일까지는 객실이 비어있다. 이처럼 객실이 비어있지 않는 경우 보다 비어있는 경우가 더 많기에 불균형이 존재한다"
   ]
  },
  {
   "cell_type": "markdown",
   "metadata": {},
   "source": [
    "### 2 - (2)\n",
    "오버샘플링 방법들 중 2개 선택하고 장단점 등 선정 이유 제시"
   ]
  },
  {
   "cell_type": "markdown",
   "metadata": {},
   "source": [
    "1. 랜덤오버샘플링   \n",
    "소수 클래스 데이터중 랜덤샘플링하여 다수 클래스 데이터 숫자와 맞추는 방식     \n",
    "- 장점 : 데이터 불균형 문제 해결 \n",
    "- 단점 : 종속변수에 대한 고려없이 중복 생성, overfitting의 가능성이 존재\n",
    "2. SMOTE      \n",
    "소수 클래스 데이터와 그 데이터에서 가장 가까운 k개의 소수 클래스 데이터 중 무작위로 선택된 데이터 사이의 직선상에 가상의 소수 클래스 데이터를 만드는 방법\n",
    "- 장점 : 데이터 불균형 문제 해결, 데이터 분포를 고려한 중복없는 데이터 생성\n",
    "- 단점 : 고차원 데이터에는 문제가 발생할 수 있다"
   ]
  },
  {
   "cell_type": "markdown",
   "metadata": {},
   "source": [
    "### 2 - (3)\n",
    "오버샘플링 수행 및 결과, 잘 되었다는 것을 판단해라"
   ]
  },
  {
   "cell_type": "code",
   "execution_count": null,
   "metadata": {
    "execution": {
     "iopub.execute_input": "2022-03-08T10:26:56.978511Z",
     "iopub.status.busy": "2022-03-08T10:26:56.978161Z",
     "iopub.status.idle": "2022-03-08T10:26:57.959233Z",
     "shell.execute_reply": "2022-03-08T10:26:57.957916Z",
     "shell.execute_reply.started": "2022-03-08T10:26:56.97848Z"
    }
   },
   "outputs": [],
   "source": [
    "from sklearn.model_selection import train_test_split\n",
    "\n",
    "# train,test 데이터를 분리하고 train 데이터에 대해서만 오버 샘플링을 진행한다 \n",
    "X  =df.drop(columns=['Occupancy'])\n",
    "y  =df['Occupancy']\n",
    "\n",
    "X_train , X_test , y_train, y_test  = train_test_split(X,y,stratify=y,random_state=43,test_size=0.35)\n",
    "\n",
    "\n",
    "from imblearn.over_sampling import RandomOverSampler,SMOTE\n",
    "\n",
    "#datetime 형태로는 샘플링 할수 없기에 timestamps 형식으로 바꿔서 샘플링을 진행한다\n",
    "X_train.loc[:,'datetime'] = X_train['date'].view('int') // 10**9\n",
    "X_test.loc[:,'datetime'] = X_test['date'].view('int') // 10**9\n",
    "\n",
    "\n",
    "from sklearn.preprocessing import StandardScaler\n",
    "\n",
    "\n",
    "X_imb  = X_train.drop(columns = ['date']).reset_index(drop=True).copy()\n",
    "y_imb  = y_train.reset_index(drop=True).copy()\n",
    "\n",
    "X_samp, y_samp = RandomOverSampler(random_state=2022).fit_resample(X_imb,y_imb)\n",
    "total = pd.concat([X_samp,y_samp],axis=1)\n",
    "total['date'] = pd.to_datetime(total['datetime'], unit='s')\n",
    "\n",
    "\n",
    "SMOTE_X_samp, SMOTE_y_samp = SMOTE(random_state=2022).fit_resample(X_imb,y_imb)\n",
    "SMOTE_total = pd.concat([SMOTE_X_samp,SMOTE_y_samp],axis=1)\n",
    "SMOTE_total['date'] = pd.to_datetime(SMOTE_total['datetime'], unit='s')\n",
    "\n",
    "\n",
    "plt.figure(figsize=(15,4))\n",
    "plt.title('RandomSampling')\n",
    "plt.scatter(total['date'],total['Occupancy'].astype('str'),s=0.03)\n",
    "plt.show()\n",
    "\n",
    "\n",
    "\n",
    "plt.figure(figsize=(15,4))\n",
    "plt.title('SMOTE')\n",
    "plt.scatter(SMOTE_total['date'],SMOTE_total['Occupancy'].astype('str'),s=0.03)\n",
    "plt.show()\n",
    "\n",
    "print('''\n",
    "RandomSampling 대비 SMOTE에서 좀 더 다양한 차원의 샘플이 생성됨을 볼수 있다. (02-18일 부근)\n",
    "''')"
   ]
  },
  {
   "cell_type": "markdown",
   "metadata": {},
   "source": [
    "RandomSampling 대비 SMOTE에서 좀 더 다양한 차원의 샘플이 생성됨을 볼수 있다. (02-18일 부근)"
   ]
  },
  {
   "cell_type": "markdown",
   "metadata": {},
   "source": [
    "### 3 - (1)\n",
    "속도측면, 정확도측면 모델 1개씩 선택, 선택 이유도 기술"
   ]
  },
  {
   "cell_type": "markdown",
   "metadata": {
    "execution": {
     "iopub.execute_input": "2022-03-06T08:48:25.339669Z",
     "iopub.status.busy": "2022-03-06T08:48:25.339323Z",
     "iopub.status.idle": "2022-03-06T08:48:25.345347Z",
     "shell.execute_reply": "2022-03-06T08:48:25.344514Z",
     "shell.execute_reply.started": "2022-03-06T08:48:25.339633Z"
    }
   },
   "source": [
    "이진 분류 문제이다.    \n",
    "속도측면에서는 linear regression,    \n",
    "정확도 측면에서는 randomforest classifier를 선택하여 분석을 진행하겠다"
   ]
  },
  {
   "cell_type": "markdown",
   "metadata": {},
   "source": [
    "### 3 - (2)\n",
    "위에서 오버샘플링 한 데이터 2개, 오버샘플링 하기 전 데이터 1개에 대해 모델 2개를 적용하고 성능 보여주기"
   ]
  },
  {
   "cell_type": "code",
   "execution_count": null,
   "metadata": {
    "execution": {
     "iopub.execute_input": "2022-03-08T10:26:57.961072Z",
     "iopub.status.busy": "2022-03-08T10:26:57.960794Z",
     "iopub.status.idle": "2022-03-08T10:27:03.705382Z",
     "shell.execute_reply": "2022-03-08T10:27:03.704518Z",
     "shell.execute_reply.started": "2022-03-08T10:26:57.96104Z"
    }
   },
   "outputs": [],
   "source": [
    "import time\n",
    "from sklearn.model_selection import train_test_split\n",
    "from sklearn.linear_model import LogisticRegression\n",
    "from sklearn.ensemble import RandomForestClassifier\n",
    "from sklearn.metrics import roc_auc_score\n",
    "from sklearn.preprocessing import MinMaxScaler\n",
    "\n",
    "\n",
    "# 불필요 컬럼제거 및 스케일링\n",
    "\n",
    "if 'date' in X_train.columns:\n",
    "    X_train = X_train.drop(columns=['date'])\n",
    "    \n",
    "if 'date' in X_test.columns:\n",
    "    X_test = X_test.drop(columns=['date'])\n",
    "\n",
    "\n",
    "\n",
    "\n",
    "result_auc_train = []\n",
    "result_auc_test = []\n",
    "result_time = []\n",
    "for train_X,trainy in [(X_train,y_train),(X_samp, y_samp),(SMOTE_X_samp, SMOTE_y_samp)]:\n",
    "    \n",
    "    trainX = train_X.copy()\n",
    "    testX = X_test.copy()\n",
    "    sc = MinMaxScaler()    \n",
    "    trainX = sc.fit_transform(trainX)\n",
    "    testX = sc.transform(testX)\n",
    "    \n",
    "    \n",
    "    lrstart = time.time()\n",
    "    lr =LogisticRegression()\n",
    "    lr.fit(trainX,trainy)\n",
    "    lrend = time.time() - lrstart\n",
    "\n",
    "    pred_lr = lr.predict(testX)\n",
    "    auc_lr_train = roc_auc_score(trainy,lr.predict(trainX))\n",
    "    auc_lr = roc_auc_score(y_test,pred_lr)\n",
    "    \n",
    "    rfstart = time.time()\n",
    "    rf =RandomForestClassifier()\n",
    "    rf.fit(trainX,trainy)\n",
    "    rfend = time.time() - rfstart\n",
    "    \n",
    "    pred_rf  = rf.predict(testX)\n",
    "    auc_rf_train  = roc_auc_score(trainy,rf.predict(trainX))\n",
    "    auc_rf  = roc_auc_score(y_test,pred_rf)\n",
    "    \n",
    "    result_auc_test.append([auc_lr,auc_rf])\n",
    "    result_time.append([lrend,rfend])\n",
    "    result_auc_train.append([auc_lr_train,auc_rf_train])"
   ]
  },
  {
   "cell_type": "code",
   "execution_count": null,
   "metadata": {
    "execution": {
     "iopub.execute_input": "2022-03-08T10:27:03.706847Z",
     "iopub.status.busy": "2022-03-08T10:27:03.706598Z",
     "iopub.status.idle": "2022-03-08T10:27:03.739708Z",
     "shell.execute_reply": "2022-03-08T10:27:03.738748Z",
     "shell.execute_reply.started": "2022-03-08T10:27:03.706815Z"
    }
   },
   "outputs": [],
   "source": [
    "#logistic regression 과 randomforest 분류기를 샘플링방식에 따른 학습시 정확도와 모델 학습 시간에 대해서 평가했다.\n",
    "\n",
    "print('훈련셋 모델 auc 결과')\n",
    "result_auc_trains = pd.DataFrame(result_auc_train)\n",
    "result_auc_trains.index = ['raw','randomSampling','SMOTE']\n",
    "result_auc_trains.columns = ['logistic','randomforest']\n",
    "display(result_auc_trains)\n",
    "\n",
    "print('테스트셋 모델 auc 결과')\n",
    "result_auc_tests = pd.DataFrame(result_auc_test)\n",
    "result_auc_tests.index = ['raw','randomSampling','SMOTE']\n",
    "result_auc_tests.columns = ['logistic','randomforest']\n",
    "display(result_auc_tests)\n",
    "\n",
    "print('모델 학습시간 (sec)')\n",
    "result_times = pd.DataFrame(result_time)\n",
    "result_times.index = ['raw','randomSampling','SMOTE']\n",
    "result_times.columns = ['logistic','randomforest']\n",
    "result_times"
   ]
  },
  {
   "cell_type": "markdown",
   "metadata": {},
   "source": [
    "### 3 - (3)\n",
    "위 예측결과 사용해서 오버샘플링이 미친 영향에 대해 작성하라\n",
    "\n"
   ]
  },
  {
   "cell_type": "markdown",
   "metadata": {},
   "source": [
    "logistic regression의 경우 학습시간은 random forest에 비해 낮게 나왔지만 모델 성능의 경우 train셋의 경우 모두 낮게 나왔으며 test셋의 경우 업샘플링을 하지 않은 경우를 제외하고는 모두 성능이 낮게 나왔다. randomforest의 경우 학습 모델의 경우 auc값이 1로 오버피팅 됐다. test셋에 대해서는 raw , randomSampling, SMOTE 순서로 auc값이 증가하는것을 확인 할수 있다"
   ]
  },
  {
   "cell_type": "markdown",
   "metadata": {},
   "source": [
    "# 2번\n",
    "공장에서는 진공관 수명이 1만 시간이라고 주장하여 품질관리팀에서 12개 샘플을 뽑았음 유의수준 5%에서 부호 검정하시오    \n",
    "데이터 경로 : /kaggle/input/adp-kr-p1/problem2.csv"
   ]
  },
  {
   "cell_type": "markdown",
   "metadata": {},
   "source": [
    "### 1\n",
    "귀무가설, 연구가설 세우기"
   ]
  },
  {
   "cell_type": "markdown",
   "metadata": {
    "execution": {
     "iopub.execute_input": "2022-03-06T12:06:54.040165Z",
     "iopub.status.busy": "2022-03-06T12:06:54.03976Z",
     "iopub.status.idle": "2022-03-06T12:06:54.045792Z",
     "shell.execute_reply": "2022-03-06T12:06:54.044848Z",
     "shell.execute_reply.started": "2022-03-06T12:06:54.040138Z"
    }
   },
   "source": [
    "귀무가설 : 데이터의 중위수는 1만 시간이다     \n",
    "연구가설 : 데이터의 중위수는 1만 시간이 아니다"
   ]
  },
  {
   "cell_type": "markdown",
   "metadata": {},
   "source": [
    "### 2\n",
    "유효한 데이터의 개수는?"
   ]
  },
  {
   "cell_type": "code",
   "execution_count": null,
   "metadata": {
    "execution": {
     "iopub.execute_input": "2022-03-08T10:27:03.741627Z",
     "iopub.status.busy": "2022-03-08T10:27:03.741288Z",
     "iopub.status.idle": "2022-03-08T10:27:03.756463Z",
     "shell.execute_reply": "2022-03-08T10:27:03.755679Z",
     "shell.execute_reply.started": "2022-03-08T10:27:03.74158Z"
    }
   },
   "outputs": [],
   "source": [
    "df = pd.read_csv('/kaggle/input/adp-kr-p1/problem2.csv')\n",
    "print('중위수와 동일한 값들은 순위 부호 검정에서 불필요한 데이터이다. 그 숫자는 : ',df[df['life span']==10000].shape[0])\n",
    "\n",
    "df_fillter = df[df['life span'] != 10000]"
   ]
  },
  {
   "cell_type": "markdown",
   "metadata": {},
   "source": [
    "중위수와 동일한 값들은 순위 부호 검정에서 불필요한 데이터이다. 그 숫자는 :  4"
   ]
  },
  {
   "cell_type": "markdown",
   "metadata": {},
   "source": [
    "### 3\n",
    "검정통계량 및 연구가설 채택 여부를 작성하라"
   ]
  },
  {
   "cell_type": "code",
   "execution_count": null,
   "metadata": {
    "execution": {
     "iopub.execute_input": "2022-03-08T10:27:03.758151Z",
     "iopub.status.busy": "2022-03-08T10:27:03.757533Z",
     "iopub.status.idle": "2022-03-08T10:27:03.766005Z",
     "shell.execute_reply": "2022-03-08T10:27:03.764908Z",
     "shell.execute_reply.started": "2022-03-08T10:27:03.758117Z"
    }
   },
   "outputs": [],
   "source": [
    "from scipy.stats import wilcoxon\n",
    "static, pvalue = wilcoxon(df_fillter['life span']-10000)\n",
    "print('검정통계량은 ',static,'이다. pvalue는 ',pvalue,'로 5% 유의 수준에서 귀무가설을 기각할 수 없다. 연구가설을 채택하지 않는다. ')"
   ]
  },
  {
   "cell_type": "markdown",
   "metadata": {},
   "source": [
    "검정통계량은  8.5 이다. pvalue는  0.1953125 로 5% 유의 수준에서 귀무가설을 기각할 수 없다. 연구가설을 채택하지 않는다. "
   ]
  },
  {
   "cell_type": "markdown",
   "metadata": {},
   "source": [
    "# 3번\n",
    "코로나 시계열 데이터     \n",
    "데이터 출처(후처리과정 미포함) :https://www.kaggle.com/antgoldbloom/covid19panels?select=country_panel.csv    \n",
    "     \n",
    "데이터 경로 : /kaggle/input/adp-kr-p1/problem3_covid2.csv"
   ]
  },
  {
   "cell_type": "markdown",
   "metadata": {},
   "source": [
    "### 1 \n",
    "데이터는 일자별 각 나라의 일일 확진자수를 나타낸다. 각 나라의 일자별 누적확진자 수를 나타내는 데이터 프레임을 생성하라"
   ]
  },
  {
   "cell_type": "code",
   "execution_count": null,
   "metadata": {
    "execution": {
     "iopub.execute_input": "2022-03-08T10:27:03.768185Z",
     "iopub.status.busy": "2022-03-08T10:27:03.76765Z",
     "iopub.status.idle": "2022-03-08T10:27:03.816069Z",
     "shell.execute_reply": "2022-03-08T10:27:03.81537Z",
     "shell.execute_reply.started": "2022-03-08T10:27:03.768136Z"
    }
   },
   "outputs": [],
   "source": [
    "df = pd.read_csv('/kaggle/input/adp-kr-p1/problem3_covid2.csv')\n",
    "\n",
    "target = df.groupby(['location','date']).sum().groupby(level=0).cumsum()\n",
    "target.columns = ['cumulative sum']\n",
    "target = target.reset_index()\n",
    "target"
   ]
  },
  {
   "cell_type": "markdown",
   "metadata": {},
   "source": [
    "## 2\n",
    "1에서 구한 데이터를 각 나라별로 acf값을 구하고(lag는 50개까지 구하고 첫번째 값을 제외하라)  국가를 기준으로 유클리디안 거리를 기준으로 클러스터링을 진행 후 계층적 군집 분석을 위해 덴드로그램 작성하라"
   ]
  },
  {
   "cell_type": "code",
   "execution_count": null,
   "metadata": {
    "execution": {
     "iopub.execute_input": "2022-03-08T10:48:37.684114Z",
     "iopub.status.busy": "2022-03-08T10:48:37.683803Z",
     "iopub.status.idle": "2022-03-08T10:48:37.785401Z",
     "shell.execute_reply": "2022-03-08T10:48:37.784597Z",
     "shell.execute_reply.started": "2022-03-08T10:48:37.68408Z"
    }
   },
   "outputs": [],
   "source": [
    "from scipy.spatial import distance\n",
    "import statsmodels.api as sm\n",
    "\n",
    "name =[]\n",
    "for lo in target.location.unique():\n",
    "    \n",
    "    v = sm.tsa.stattools.acf(target[target.location==lo]['cumulative sum'], nlags=50, fft=False)\n",
    "    name.append([lo]+list(v[1:]))\n",
    "\n",
    "v = pd.DataFrame(name)"
   ]
  },
  {
   "cell_type": "code",
   "execution_count": null,
   "metadata": {
    "execution": {
     "iopub.execute_input": "2022-03-08T10:48:38.229505Z",
     "iopub.status.busy": "2022-03-08T10:48:38.229206Z",
     "iopub.status.idle": "2022-03-08T10:48:38.790626Z",
     "shell.execute_reply": "2022-03-08T10:48:38.789679Z",
     "shell.execute_reply.started": "2022-03-08T10:48:38.229472Z"
    }
   },
   "outputs": [],
   "source": [
    "import seaborn as sns\n",
    "import scipy\n",
    "import matplotlib.pyplot as plt\n",
    "import scipy.cluster.hierarchy as sch\n",
    "\n",
    "\n",
    "data =v.set_index(0)\n",
    "label = np.array(data.index)\n",
    "\n",
    "datav = data.values\n",
    "\n",
    "fig = plt.figure(figsize=(17,10))\n",
    "\n",
    "ax3 = fig.add_subplot(1,1,1)\n",
    "dend3 = sch.linkage(datav, method='average', metric='euclidean')\n",
    "cutoff = 0.3*max(dend3[:,2])\n",
    "dend_res3 = sch.dendrogram(dend3, color_threshold=cutoff)\n",
    "ax3.set_xticklabels(label[dend_res3['leaves']], minor=False)\n",
    "\n",
    "plt.show()\n"
   ]
  },
  {
   "cell_type": "markdown",
   "metadata": {},
   "source": [
    "# 4번\n",
    "아래 이미지와 같은 학과별 학점 분포 인원수 표가 있다. 학과와 성적이 관계있는지를 검정하라    \n",
    "![image](https://github.com/Datamanim/datarepo/blob/main/adp/p1/problem4.png?raw=true)\n"
   ]
  },
  {
   "cell_type": "markdown",
   "metadata": {},
   "source": [
    "### 1번\n",
    "귀무가설, 연구가설 세우기"
   ]
  },
  {
   "cell_type": "markdown",
   "metadata": {},
   "source": [
    "귀무가설 : 학과와 성적은 관련이 없다 (독립이다)    \n",
    "연구가설 : 학과와 성적은 관련이 있다 (독립이 아니다)"
   ]
  },
  {
   "cell_type": "code",
   "execution_count": null,
   "metadata": {
    "execution": {
     "iopub.execute_input": "2022-03-07T11:54:22.624849Z",
     "iopub.status.busy": "2022-03-07T11:54:22.624237Z",
     "iopub.status.idle": "2022-03-07T11:54:22.638599Z",
     "shell.execute_reply": "2022-03-07T11:54:22.637608Z",
     "shell.execute_reply.started": "2022-03-07T11:54:22.624798Z"
    }
   },
   "outputs": [],
   "source": [
    "df = pd.DataFrame({'사회과학':[15,60,24],'자연과학':[25,69,5],'공학':[10,77,13]})\n",
    "df.index = ['1.5-2.5','2.5-3.5','3.5-4.5']\n",
    "df"
   ]
  },
  {
   "cell_type": "markdown",
   "metadata": {},
   "source": [
    "### 2번\n",
    "학과와 성적이 독립일 경우의 기댓값을 구하시오"
   ]
  },
  {
   "cell_type": "code",
   "execution_count": null,
   "metadata": {
    "execution": {
     "iopub.execute_input": "2022-03-07T11:54:22.640109Z",
     "iopub.status.busy": "2022-03-07T11:54:22.639841Z",
     "iopub.status.idle": "2022-03-07T11:54:22.652244Z",
     "shell.execute_reply": "2022-03-07T11:54:22.651182Z",
     "shell.execute_reply.started": "2022-03-07T11:54:22.640075Z"
    }
   },
   "outputs": [],
   "source": [
    "\n",
    "from scipy.stats import chi2_contingency,fisher_exact\n",
    "chi2 , p ,dof, expected = chi2_contingency(df)\n",
    "print(expected)\n"
   ]
  },
  {
   "cell_type": "markdown",
   "metadata": {},
   "source": [
    "### 3번\n",
    "검정통계량 구하고 연구가설의 채택여부 작성"
   ]
  },
  {
   "cell_type": "code",
   "execution_count": null,
   "metadata": {
    "execution": {
     "iopub.execute_input": "2022-03-07T11:54:22.653922Z",
     "iopub.status.busy": "2022-03-07T11:54:22.653642Z",
     "iopub.status.idle": "2022-03-07T11:54:22.666254Z",
     "shell.execute_reply": "2022-03-07T11:54:22.665501Z",
     "shell.execute_reply.started": "2022-03-07T11:54:22.653891Z"
    }
   },
   "outputs": [],
   "source": [
    "print(p)\n",
    "\n",
    "# 카이 제곱 검정시 p-value는 0.00018로 귀무가설을 기각한다. 학과와 성적은 관련이 있다.\n",
    "\n",
    "# 만약 5보다 작은 셀이 20%가 넘어가므로(75%) 피셔의 정확검정을 사용 해야한다. #print(fisher_exact(df))"
   ]
  }
 ],
 "metadata": {
  "kernelspec": {
   "display_name": "Python 3 (ipykernel)",
   "language": "python",
   "name": "python3"
  },
  "language_info": {
   "codemirror_mode": {
    "name": "ipython",
    "version": 3
   },
   "file_extension": ".py",
   "mimetype": "text/x-python",
   "name": "python",
   "nbconvert_exporter": "python",
   "pygments_lexer": "ipython3",
   "version": "3.9.7"
  }
 },
 "nbformat": 4,
 "nbformat_minor": 4
}
